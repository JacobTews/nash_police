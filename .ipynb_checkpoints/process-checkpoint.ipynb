{
 "cells": [
  {
   "cell_type": "markdown",
   "id": "141c8304-aa47-4caf-92ce-6fd27494bab0",
   "metadata": {},
   "source": [
    "# Nashville Polive Service Calls Analysis"
   ]
  },
  {
   "cell_type": "markdown",
   "id": "2f5d9262-aa6a-42c0-ad6e-edf155d5440b",
   "metadata": {},
   "source": [
    "## Dependencies"
   ]
  },
  {
   "cell_type": "code",
   "execution_count": 45,
   "id": "737b6e83-a8f7-491d-a521-f9758907f646",
   "metadata": {},
   "outputs": [
    {
     "ename": "ModuleNotFoundError",
     "evalue": "No module named 'sodapy'",
     "output_type": "error",
     "traceback": [
      "\u001b[1;31m---------------------------------------------------------------------------\u001b[0m",
      "\u001b[1;31mModuleNotFoundError\u001b[0m                       Traceback (most recent call last)",
      "\u001b[1;32m<ipython-input-45-9b52b9fec41b>\u001b[0m in \u001b[0;36m<module>\u001b[1;34m\u001b[0m\n\u001b[0;32m      3\u001b[0m \u001b[1;32mimport\u001b[0m \u001b[0mpandas\u001b[0m \u001b[1;32mas\u001b[0m \u001b[0mpd\u001b[0m\u001b[1;33m\u001b[0m\u001b[1;33m\u001b[0m\u001b[0m\n\u001b[0;32m      4\u001b[0m \u001b[1;32mimport\u001b[0m \u001b[0mrequests\u001b[0m\u001b[1;33m\u001b[0m\u001b[1;33m\u001b[0m\u001b[0m\n\u001b[1;32m----> 5\u001b[1;33m \u001b[1;32mimport\u001b[0m \u001b[0msodapy\u001b[0m\u001b[1;33m\u001b[0m\u001b[1;33m\u001b[0m\u001b[0m\n\u001b[0m",
      "\u001b[1;31mModuleNotFoundError\u001b[0m: No module named 'sodapy'"
     ]
    }
   ],
   "source": [
    "from matplotlib import pyplot as plt\n",
    "import numpy as np\n",
    "import pandas as pd\n",
    "import requests\n",
    "import sodapy"
   ]
  },
  {
   "cell_type": "code",
   "execution_count": 47,
   "id": "94c8d93e-bdc3-4065-bf5b-a7ac9a9e550e",
   "metadata": {},
   "outputs": [
    {
     "name": "stdout",
     "output_type": "stream",
     "text": [
      "Collecting package metadata (current_repodata.json): ...working... done\n",
      "Solving environment: ...working... failed with initial frozen solve. Retrying with flexible solve.\n",
      "Collecting package metadata (repodata.json): ...working... done\n",
      "Solving environment: ...working... failed with initial frozen solve. Retrying with flexible solve.\n",
      "Collecting package metadata (current_repodata.json): ...working... done\n",
      "Solving environment: ...working... failed with initial frozen solve. Retrying with flexible solve.\n",
      "Collecting package metadata (repodata.json): ...working... done\n",
      "Solving environment: ...working... failed with initial frozen solve. Retrying with flexible solve.\n"
     ]
    },
    {
     "name": "stderr",
     "output_type": "stream",
     "text": [
      "\n",
      "PackagesNotFoundError: The following packages are not available from current channels:\n",
      "\n",
      "  - sodapy\n",
      "\n",
      "Current channels:\n",
      "\n",
      "  - https://repo.anaconda.com/pkgs/main/win-64\n",
      "  - https://repo.anaconda.com/pkgs/main/noarch\n",
      "  - https://repo.anaconda.com/pkgs/r/win-64\n",
      "  - https://repo.anaconda.com/pkgs/r/noarch\n",
      "  - https://repo.anaconda.com/pkgs/msys2/win-64\n",
      "  - https://repo.anaconda.com/pkgs/msys2/noarch\n",
      "\n",
      "To search for alternate channels that may provide the conda package you're\n",
      "looking for, navigate to\n",
      "\n",
      "    https://anaconda.org\n",
      "\n",
      "and use the search bar at the top of the page.\n",
      "\n",
      "\n",
      "\n",
      "PackagesNotFoundError: The following packages are not available from current channels:\n",
      "\n",
      "  - sodapy\n",
      "\n",
      "Current channels:\n",
      "\n",
      "  - https://repo.anaconda.com/pkgs/main/win-64\n",
      "  - https://repo.anaconda.com/pkgs/main/noarch\n",
      "  - https://repo.anaconda.com/pkgs/r/win-64\n",
      "  - https://repo.anaconda.com/pkgs/r/noarch\n",
      "  - https://repo.anaconda.com/pkgs/msys2/win-64\n",
      "  - https://repo.anaconda.com/pkgs/msys2/noarch\n",
      "\n",
      "To search for alternate channels that may provide the conda package you're\n",
      "looking for, navigate to\n",
      "\n",
      "    https://anaconda.org\n",
      "\n",
      "and use the search bar at the top of the page.\n",
      "\n",
      "\n"
     ]
    }
   ],
   "source": [
    "!conda install sodapy -y"
   ]
  },
  {
   "cell_type": "markdown",
   "id": "47e5ad1f-e6ad-4b9e-9291-2ee384f0eae0",
   "metadata": {
    "tags": []
   },
   "source": [
    "### Import"
   ]
  },
  {
   "cell_type": "code",
   "execution_count": 54,
   "id": "f5e798f8-4a6f-4cbb-a8c1-8088e07e87df",
   "metadata": {
    "tags": []
   },
   "outputs": [],
   "source": [
    "url = 'https://data.nashville.gov/resource/kwnd-qrrm.json'"
   ]
  },
  {
   "cell_type": "code",
   "execution_count": 55,
   "id": "a4f429a8-e1ec-443d-99d8-6658871d17d0",
   "metadata": {},
   "outputs": [],
   "source": [
    "r = requests.get(url)"
   ]
  },
  {
   "cell_type": "code",
   "execution_count": 56,
   "id": "2dbb96c8-4633-4831-80c8-2143557e8a93",
   "metadata": {},
   "outputs": [],
   "source": [
    "json = r.json()"
   ]
  },
  {
   "cell_type": "code",
   "execution_count": 59,
   "id": "2cbc45a4-8794-42b9-911a-c386d3be996d",
   "metadata": {},
   "outputs": [],
   "source": [
    "test_df = pd.read_json(url)"
   ]
  },
  {
   "cell_type": "code",
   "execution_count": 60,
   "id": "46224e22-c550-480f-8ccc-ed28c11af659",
   "metadata": {},
   "outputs": [
    {
     "data": {
      "text/plain": [
       "(1000, 23)"
      ]
     },
     "execution_count": 60,
     "metadata": {},
     "output_type": "execute_result"
    }
   ],
   "source": [
    "test_df.shape"
   ]
  },
  {
   "cell_type": "code",
   "execution_count": null,
   "id": "1ae9ec18-ef13-40fb-8ad4-068f294f1c67",
   "metadata": {},
   "outputs": [],
   "source": []
  },
  {
   "cell_type": "code",
   "execution_count": 44,
   "id": "dd8abc58-8334-429c-b863-bf6dca1ebff5",
   "metadata": {},
   "outputs": [
    {
     "data": {
      "text/plain": [
       "Index(['event_number', 'call_rec', 'tencode', 'description', 'tencode_suf',\n",
       "       'unit_dispatched', 'shift', 'sector', 'zone', 'rpa',\n",
       "       'tencode_suf_description', 'disposition_code',\n",
       "       'disposition_description', 'block', 'street_name', 'lat', 'lon',\n",
       "       'mapped_location', ':@computed_region_wvby_4s8j',\n",
       "       ':@computed_region_3aw5_2wv7', ':@computed_region_p6sk_2acq',\n",
       "       ':@computed_region_gxvr_9jxz', 'complaint'],\n",
       "      dtype='object')"
      ]
     },
     "execution_count": 44,
     "metadata": {},
     "output_type": "execute_result"
    }
   ],
   "source": [
    "test_df.columns"
   ]
  },
  {
   "cell_type": "code",
   "execution_count": null,
   "id": "89b55614-e466-4543-850f-aca828fe1185",
   "metadata": {},
   "outputs": [],
   "source": [
    "#!/usr/bin/env python\n",
    "\n",
    "# make sure to install these packages before running:\n",
    "# pip install pandas\n",
    "# pip install sodapy\n",
    "\n",
    "import pandas as pd\n",
    "from sodapy import Socrata\n",
    "\n",
    "# Unauthenticated client only works with public data sets. Note 'None'\n",
    "# in place of application token, and no username or password:\n",
    "client = Socrata(\"data.nashville.gov\", None)\n",
    "\n",
    "# Example authenticated client (needed for non-public datasets):\n",
    "# client = Socrata(data.nashville.gov,\n",
    "#                  MyAppToken,\n",
    "#                  userame=\"user@example.com\",\n",
    "#                  password=\"AFakePassword\")\n",
    "\n",
    "# First 2000 results, returned as JSON from API / converted to Python list of\n",
    "# dictionaries by sodapy.\n",
    "results = client.get(\"kwnd-qrrm\", limit=2000)\n",
    "\n",
    "# Convert to pandas DataFrame\n",
    "results_df = pd.DataFrame.from_records(results)"
   ]
  },
  {
   "cell_type": "code",
   "execution_count": 3,
   "id": "a5c83b24-5837-4ad0-816d-08fbd00e959b",
   "metadata": {},
   "outputs": [
    {
     "name": "stderr",
     "output_type": "stream",
     "text": [
      "<ipython-input-3-572f7c7c68b9>:1: DtypeWarning: Columns (10,14,18) have mixed types. Specify dtype option on import or set low_memory=False.\n",
      "  main_df = pd.read_csv('data/Metro_Nashville_Police_Department_Calls_for_Service.csv')\n"
     ]
    }
   ],
   "source": [
    "main_df = pd.read_csv('data/Metro_Nashville_Police_Department_Calls_for_Service.csv')"
   ]
  },
  {
   "cell_type": "code",
   "execution_count": null,
   "id": "b6ea52c6-d121-45fc-872a-c400db8584c4",
   "metadata": {},
   "outputs": [],
   "source": [
    "main_df.to_feather('data/calls.feather')"
   ]
  },
  {
   "cell_type": "markdown",
   "id": "8d567bc1-e4ed-4432-903b-cab35f163c4c",
   "metadata": {},
   "source": [
    "### Preprocessing"
   ]
  },
  {
   "cell_type": "markdown",
   "id": "4d5c2ea0-7662-49c7-9c95-d474ac9341af",
   "metadata": {},
   "source": [
    "* Let's get a sample of the data to see what we're working with."
   ]
  },
  {
   "cell_type": "code",
   "execution_count": 15,
   "id": "e369ba3c-7ed8-498c-b510-73d7a0c5ae4f",
   "metadata": {},
   "outputs": [],
   "source": [
    "samp_df = main_df.sample(frac=.01, random_state=22)"
   ]
  },
  {
   "cell_type": "markdown",
   "id": "236b2cbe-85cf-4162-bb04-edd7b2301118",
   "metadata": {},
   "source": [
    "#### 'Event Number'"
   ]
  },
  {
   "cell_type": "markdown",
   "id": "a916fe8b-6357-4c95-b4f6-97b1dd38e100",
   "metadata": {},
   "source": [
    "* It looks like all the event numbers begin with 'PD'; if this is the case, then I can strip those two characters and cast as an int, saving space"
   ]
  },
  {
   "cell_type": "code",
   "execution_count": 20,
   "id": "827ca78b-afae-4854-a1d9-9f2f68800f59",
   "metadata": {},
   "outputs": [],
   "source": [
    "pd_check = [event.startswith('PD') for event in samp_df['Event Number'].values]"
   ]
  },
  {
   "cell_type": "code",
   "execution_count": 23,
   "id": "65af56ba-9a92-4dad-8f4a-4207b0f27db2",
   "metadata": {},
   "outputs": [
    {
     "name": "stdout",
     "output_type": "stream",
     "text": [
      "65701\n"
     ]
    }
   ],
   "source": [
    "print(sum(pd_check))"
   ]
  },
  {
   "cell_type": "code",
   "execution_count": 24,
   "id": "176a56db-fa31-4b65-a2cf-7bdcffacafa3",
   "metadata": {},
   "outputs": [],
   "source": [
    "def event_number_clean(num):\n",
    "    return int(num[2:])"
   ]
  },
  {
   "cell_type": "code",
   "execution_count": 25,
   "id": "adca4cb2-3851-4174-9306-780cc03033e9",
   "metadata": {},
   "outputs": [],
   "source": [
    "samp_df['Event Number'] = samp_df['Event Number'].apply(event_number_clean)"
   ]
  },
  {
   "cell_type": "code",
   "execution_count": 34,
   "id": "4fc46a3d-487c-4480-b064-e018d03cd52c",
   "metadata": {},
   "outputs": [
    {
     "data": {
      "text/html": [
       "<div>\n",
       "<style scoped>\n",
       "    .dataframe tbody tr th:only-of-type {\n",
       "        vertical-align: middle;\n",
       "    }\n",
       "\n",
       "    .dataframe tbody tr th {\n",
       "        vertical-align: top;\n",
       "    }\n",
       "\n",
       "    .dataframe thead th {\n",
       "        text-align: right;\n",
       "    }\n",
       "</style>\n",
       "<table border=\"1\" class=\"dataframe\">\n",
       "  <thead>\n",
       "    <tr style=\"text-align: right;\">\n",
       "      <th></th>\n",
       "      <th>Event Number</th>\n",
       "      <th>Call Received</th>\n",
       "      <th>Complaint Number</th>\n",
       "      <th>Tencode</th>\n",
       "      <th>Tencode Description</th>\n",
       "      <th>Tencode Suffix</th>\n",
       "      <th>Tencode Suffix Description</th>\n",
       "      <th>Disposition Code</th>\n",
       "      <th>Disposition Description</th>\n",
       "      <th>Block</th>\n",
       "      <th>Street Name</th>\n",
       "      <th>Unit Dispatched</th>\n",
       "      <th>Shift</th>\n",
       "      <th>Sector</th>\n",
       "      <th>Zone</th>\n",
       "      <th>RPA</th>\n",
       "      <th>Latitude</th>\n",
       "      <th>Longitude</th>\n",
       "      <th>Mapped Location</th>\n",
       "    </tr>\n",
       "  </thead>\n",
       "  <tbody>\n",
       "    <tr>\n",
       "      <th>5797724</th>\n",
       "      <td>201601214292</td>\n",
       "      <td>12/01/2016 04:51:05 PM</td>\n",
       "      <td>NaN</td>\n",
       "      <td>88</td>\n",
       "      <td>INVESTIGATE 911 HANG-UP CALL</td>\n",
       "      <td>PW</td>\n",
       "      <td>NaN</td>\n",
       "      <td>5</td>\n",
       "      <td>GONE ON ARRIVAL</td>\n",
       "      <td>NaN</td>\n",
       "      <td>NaN</td>\n",
       "      <td>322B</td>\n",
       "      <td>B</td>\n",
       "      <td>S</td>\n",
       "      <td>327.0</td>\n",
       "      <td>8861.0</td>\n",
       "      <td>NaN</td>\n",
       "      <td>NaN</td>\n",
       "      <td>NaN</td>\n",
       "    </tr>\n",
       "  </tbody>\n",
       "</table>\n",
       "</div>"
      ],
      "text/plain": [
       "         Event Number           Call Received  Complaint Number  Tencode  \\\n",
       "5797724  201601214292  12/01/2016 04:51:05 PM               NaN       88   \n",
       "\n",
       "                  Tencode Description Tencode Suffix  \\\n",
       "5797724  INVESTIGATE 911 HANG-UP CALL             PW   \n",
       "\n",
       "        Tencode Suffix Description Disposition Code Disposition Description  \\\n",
       "5797724                        NaN                5         GONE ON ARRIVAL   \n",
       "\n",
       "         Block Street Name Unit Dispatched Shift Sector   Zone     RPA  \\\n",
       "5797724    NaN         NaN            322B     B      S  327.0  8861.0   \n",
       "\n",
       "         Latitude  Longitude Mapped Location  \n",
       "5797724       NaN        NaN             NaN  "
      ]
     },
     "execution_count": 34,
     "metadata": {},
     "output_type": "execute_result"
    }
   ],
   "source": [
    "samp_df.iloc[[0]]"
   ]
  },
  {
   "cell_type": "markdown",
   "id": "296f6456-385d-49fb-a23f-f3e001a37ab2",
   "metadata": {},
   "source": [
    "## EDA"
   ]
  },
  {
   "cell_type": "code",
   "execution_count": 5,
   "id": "a3d5b074-88cd-40ee-b49a-52e6d57ac56d",
   "metadata": {},
   "outputs": [
    {
     "data": {
      "text/plain": [
       "Index(['Event Number', 'Call Received', 'Complaint Number', 'Tencode',\n",
       "       'Tencode Description', 'Tencode Suffix', 'Tencode Suffix Description',\n",
       "       'Disposition Code', 'Disposition Description', 'Block', 'Street Name',\n",
       "       'Unit Dispatched', 'Shift', 'Sector', 'Zone', 'RPA', 'Latitude',\n",
       "       'Longitude', 'Mapped Location'],\n",
       "      dtype='object')"
      ]
     },
     "execution_count": 5,
     "metadata": {},
     "output_type": "execute_result"
    }
   ],
   "source": [
    "main_df.columns"
   ]
  },
  {
   "cell_type": "code",
   "execution_count": 7,
   "id": "de268683-c1ce-4d52-adc9-95a74ea8155a",
   "metadata": {},
   "outputs": [
    {
     "data": {
      "text/plain": [
       "Event Number                   object\n",
       "Call Received                  object\n",
       "Complaint Number              float64\n",
       "Tencode                         int64\n",
       "Tencode Description            object\n",
       "Tencode Suffix                 object\n",
       "Tencode Suffix Description     object\n",
       "Disposition Code               object\n",
       "Disposition Description        object\n",
       "Block                         float64\n",
       "Street Name                    object\n",
       "Unit Dispatched                object\n",
       "Shift                          object\n",
       "Sector                         object\n",
       "Zone                           object\n",
       "RPA                           float64\n",
       "Latitude                      float64\n",
       "Longitude                     float64\n",
       "Mapped Location                object\n",
       "dtype: object"
      ]
     },
     "execution_count": 7,
     "metadata": {},
     "output_type": "execute_result"
    }
   ],
   "source": [
    "main_df.dtypes"
   ]
  },
  {
   "cell_type": "code",
   "execution_count": 12,
   "id": "49a1e6f0-b968-4a75-a805-9c7be85ef557",
   "metadata": {},
   "outputs": [
    {
     "name": "stdout",
     "output_type": "stream",
     "text": [
      "Column name: Event Number\n",
      "0    PD202100795991\n",
      "1    PD201900309484\n",
      "2    PD201500826444\n",
      "3    PD202000693991\n",
      "4    PD201501158284\n",
      "5    PD201500812635\n",
      "6    PD201500425464\n",
      "7    PD201900614872\n",
      "8    PD201700837924\n",
      "9    PD201900452295\n",
      "Name: Event Number, dtype: object\n",
      "\n",
      "*******\n",
      "\n",
      "Column name: Call Received\n",
      "0    12/25/2021 02:40:56 PM\n",
      "1    04/08/2019 09:39:17 AM\n",
      "2    08/04/2015 02:39:43 PM\n",
      "3    09/16/2020 10:29:30 AM\n",
      "4    11/05/2015 06:30:42 AM\n",
      "5    07/31/2015 09:34:06 AM\n",
      "6    04/23/2015 07:57:37 AM\n",
      "7    07/15/2019 09:42:20 AM\n",
      "8    08/17/2017 12:56:36 PM\n",
      "9    05/23/2019 12:49:06 AM\n",
      "Name: Call Received, dtype: object\n",
      "\n",
      "*******\n",
      "\n",
      "Column name: Complaint Number\n",
      "0    2.021065e+10\n",
      "1    2.019027e+10\n",
      "2             NaN\n",
      "3    2.020060e+10\n",
      "4             NaN\n",
      "5             NaN\n",
      "6             NaN\n",
      "7    2.019053e+10\n",
      "8    2.017073e+10\n",
      "9             NaN\n",
      "Name: Complaint Number, dtype: float64\n",
      "\n",
      "*******\n",
      "\n",
      "Column name: Tencode\n",
      "0    50\n",
      "1    50\n",
      "2    75\n",
      "3    50\n",
      "4    93\n",
      "5    93\n",
      "6    93\n",
      "7    50\n",
      "8    50\n",
      "9    93\n",
      "Name: Tencode, dtype: int64\n",
      "\n",
      "*******\n",
      "\n",
      "Column name: Tencode Description\n",
      "0                THEFT\n",
      "1                THEFT\n",
      "2       MISSING PERSON\n",
      "3                THEFT\n",
      "4    TRAFFIC VIOLATION\n",
      "5    TRAFFIC VIOLATION\n",
      "6    TRAFFIC VIOLATION\n",
      "7                THEFT\n",
      "8                THEFT\n",
      "9    TRAFFIC VIOLATION\n",
      "Name: Tencode Description, dtype: object\n",
      "\n",
      "*******\n",
      "\n",
      "Column name: Tencode Suffix\n",
      "0     RV\n",
      "1     TV\n",
      "2     RJ\n",
      "3      P\n",
      "4    NaN\n",
      "5    NaN\n",
      "6    NaN\n",
      "7     TV\n",
      "8      R\n",
      "9    NaN\n",
      "Name: Tencode Suffix, dtype: object\n",
      "\n",
      "*******\n",
      "\n",
      "Column name: Tencode Suffix Description\n",
      "0         NaN\n",
      "1         NaN\n",
      "2         NaN\n",
      "3    PROGRESS\n",
      "4         NaN\n",
      "5         NaN\n",
      "6         NaN\n",
      "7         NaN\n",
      "8      REPORT\n",
      "9         NaN\n",
      "Name: Tencode Suffix Description, dtype: object\n",
      "\n",
      "*******\n",
      "\n",
      "Column name: Disposition Code\n",
      "0     1\n",
      "1     1\n",
      "2    10\n",
      "3     1\n",
      "4    9T\n",
      "5    9T\n",
      "6    2T\n",
      "7    1C\n",
      "8    1C\n",
      "9    3T\n",
      "Name: Disposition Code, dtype: object\n",
      "\n",
      "*******\n",
      "\n",
      "Column name: Disposition Description\n",
      "0    M.P.D. REPORT COMPLED\n",
      "1    M.P.D. REPORT COMPLED\n",
      "2              NO RESPONSE\n",
      "3    M.P.D. REPORT COMPLED\n",
      "4                      NaN\n",
      "5                      NaN\n",
      "6                      NaN\n",
      "7                      NaN\n",
      "8                      NaN\n",
      "9                      NaN\n",
      "Name: Disposition Description, dtype: object\n",
      "\n",
      "*******\n",
      "\n",
      "Column name: Block\n",
      "0   NaN\n",
      "1   NaN\n",
      "2   NaN\n",
      "3   NaN\n",
      "4   NaN\n",
      "5   NaN\n",
      "6   NaN\n",
      "7   NaN\n",
      "8   NaN\n",
      "9   NaN\n",
      "Name: Block, dtype: float64\n",
      "\n",
      "*******\n",
      "\n",
      "Column name: Street Name\n",
      "0    NaN\n",
      "1    NaN\n",
      "2    NaN\n",
      "3    NaN\n",
      "4    NaN\n",
      "5    NaN\n",
      "6    NaN\n",
      "7    NaN\n",
      "8    NaN\n",
      "9    NaN\n",
      "Name: Street Name, dtype: object\n",
      "\n",
      "*******\n",
      "\n",
      "Column name: Unit Dispatched\n",
      "0    823B\n",
      "1    821A\n",
      "2    830B\n",
      "3    113A\n",
      "4    2T71\n",
      "5    5F22\n",
      "6    624A\n",
      "7    415A\n",
      "8    CAPR\n",
      "9    725C\n",
      "Name: Unit Dispatched, dtype: object\n",
      "\n",
      "*******\n",
      "\n",
      "Column name: Shift\n",
      "0    A\n",
      "1    A\n",
      "2    A\n",
      "3    A\n",
      "4    A\n",
      "5    A\n",
      "6    A\n",
      "7    A\n",
      "8    A\n",
      "9    C\n",
      "Name: Shift, dtype: object\n",
      "\n",
      "*******\n",
      "\n",
      "Column name: Sector\n",
      "0    NaN\n",
      "1    NaN\n",
      "2     MT\n",
      "3    NaN\n",
      "4      E\n",
      "5      H\n",
      "6      N\n",
      "7    NaN\n",
      "8    NaN\n",
      "9      N\n",
      "Name: Sector, dtype: object\n",
      "\n",
      "*******\n",
      "\n",
      "Column name: Zone\n",
      "0    NaN\n",
      "1    NaN\n",
      "2    827\n",
      "3    NaN\n",
      "4    211\n",
      "5    515\n",
      "6    635\n",
      "7    NaN\n",
      "8    NaN\n",
      "9    635\n",
      "Name: Zone, dtype: object\n",
      "\n",
      "*******\n",
      "\n",
      "Column name: RPA\n",
      "0       NaN\n",
      "1       NaN\n",
      "2    8655.0\n",
      "3       NaN\n",
      "4    1102.0\n",
      "5    9201.0\n",
      "6    3303.0\n",
      "7       NaN\n",
      "8       NaN\n",
      "9    2212.0\n",
      "Name: RPA, dtype: float64\n",
      "\n",
      "*******\n",
      "\n",
      "Column name: Latitude\n",
      "0   NaN\n",
      "1   NaN\n",
      "2   NaN\n",
      "3   NaN\n",
      "4   NaN\n",
      "5   NaN\n",
      "6   NaN\n",
      "7   NaN\n",
      "8   NaN\n",
      "9   NaN\n",
      "Name: Latitude, dtype: float64\n",
      "\n",
      "*******\n",
      "\n",
      "Column name: Longitude\n",
      "0   NaN\n",
      "1   NaN\n",
      "2   NaN\n",
      "3   NaN\n",
      "4   NaN\n",
      "5   NaN\n",
      "6   NaN\n",
      "7   NaN\n",
      "8   NaN\n",
      "9   NaN\n",
      "Name: Longitude, dtype: float64\n",
      "\n",
      "*******\n",
      "\n",
      "Column name: Mapped Location\n",
      "0    NaN\n",
      "1    NaN\n",
      "2    NaN\n",
      "3    NaN\n",
      "4    NaN\n",
      "5    NaN\n",
      "6    NaN\n",
      "7    NaN\n",
      "8    NaN\n",
      "9    NaN\n",
      "Name: Mapped Location, dtype: object\n",
      "\n",
      "*******\n",
      "\n"
     ]
    }
   ],
   "source": [
    "cols = ['Event Number', 'Call Received', 'Complaint Number', 'Tencode',\n",
    "       'Tencode Description', 'Tencode Suffix', 'Tencode Suffix Description',\n",
    "       'Disposition Code', 'Disposition Description', 'Block', 'Street Name',\n",
    "       'Unit Dispatched', 'Shift', 'Sector', 'Zone', 'RPA', 'Latitude',\n",
    "       'Longitude', 'Mapped Location']\n",
    "\n",
    "for col in cols:\n",
    "    print(f'Column name: {col}')\n",
    "    print(main_df[col].head(10))\n",
    "    print('\\n*******\\n')"
   ]
  },
  {
   "cell_type": "markdown",
   "id": "3425c7b1-3763-4fdb-bed4-a8dd82f6e259",
   "metadata": {},
   "source": []
  }
 ],
 "metadata": {
  "kernelspec": {
   "display_name": "Python 3",
   "language": "python",
   "name": "python3"
  },
  "language_info": {
   "codemirror_mode": {
    "name": "ipython",
    "version": 3
   },
   "file_extension": ".py",
   "mimetype": "text/x-python",
   "name": "python",
   "nbconvert_exporter": "python",
   "pygments_lexer": "ipython3",
   "version": "3.9.7"
  }
 },
 "nbformat": 4,
 "nbformat_minor": 5
}
