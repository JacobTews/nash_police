{
 "cells": [
  {
   "cell_type": "markdown",
   "id": "141c8304-aa47-4caf-92ce-6fd27494bab0",
   "metadata": {},
   "source": [
    "# Nashville Police Service Calls Analysis"
   ]
  },
  {
   "cell_type": "markdown",
   "id": "5786e4b3-8685-468b-8260-d67e64a14c4e",
   "metadata": {
    "tags": []
   },
   "source": [
    "## Preparation"
   ]
  },
  {
   "cell_type": "markdown",
   "id": "2f5d9262-aa6a-42c0-ad6e-edf155d5440b",
   "metadata": {
    "tags": []
   },
   "source": [
    "### Dependencies"
   ]
  },
  {
   "cell_type": "code",
   "execution_count": 281,
   "id": "737b6e83-a8f7-491d-a521-f9758907f646",
   "metadata": {},
   "outputs": [],
   "source": [
    "from datetime import datetime\n",
    "from matplotlib import pyplot as plt\n",
    "import numpy as np\n",
    "import pandas as pd\n",
    "from sklearn.linear_model import LinearRegression as LR\n",
    "\n",
    "import utils"
   ]
  },
  {
   "cell_type": "code",
   "execution_count": 190,
   "id": "6d098094-8e2e-4d88-ae5e-45d3f5c2c0f7",
   "metadata": {},
   "outputs": [
    {
     "name": "stdout",
     "output_type": "stream",
     "text": [
      "testing\n"
     ]
    }
   ],
   "source": [
    "!python utils/preprocessing.py"
   ]
  },
  {
   "cell_type": "markdown",
   "id": "47e5ad1f-e6ad-4b9e-9291-2ee384f0eae0",
   "metadata": {
    "jp-MarkdownHeadingCollapsed": true,
    "tags": []
   },
   "source": [
    "### Import data"
   ]
  },
  {
   "cell_type": "markdown",
   "id": "f649984b-4c2f-4106-a880-dca1de534f21",
   "metadata": {},
   "source": [
    "* N.B. - The dataset is large (more than 6.5M records), so it is not available in this Github repo.\n",
    "\n",
    "&nbsp; &nbsp; &nbsp; &nbsp; &nbsp; If you'd like the dataset, you may find it [here](https://data.nashville.gov/Police/Metro-Nashville-Police-Department-Calls-for-Servic/kwnd-qrrm), on the nashville.gov website."
   ]
  },
  {
   "cell_type": "code",
   "execution_count": 4,
   "id": "a5c83b24-5837-4ad0-816d-08fbd00e959b",
   "metadata": {},
   "outputs": [],
   "source": [
    "main_df = pd.read_csv('data/Metro_Nashville_Police_Department_Calls_for_Service.csv',\n",
    "                      parse_dates=['Call Received'],\n",
    "                     dtype={'Event Number': str,\n",
    "                            'Complaint Number': float,\n",
    "                            'Tencode': str,\n",
    "                            'Tencode Description': str,\n",
    "                            'Tencode Suffix': str,\n",
    "                            'Tencode Suffix Description': str,\n",
    "                            'Disposition Code': str,\n",
    "                            'Disposition Description': str,\n",
    "                            'Block': float,\n",
    "                            'Street Name': str,\n",
    "                            'Unit Dispatched': str,\n",
    "                            'Shift': str,\n",
    "                            'Sector': str,\n",
    "                            'Zone': str,\n",
    "                            'RPA': float,\n",
    "                            'Latitude': float,\n",
    "                            'Longitude': float,\n",
    "                            'Mapped Location': str\n",
    "                     })"
   ]
  },
  {
   "cell_type": "code",
   "execution_count": 6,
   "id": "ef9ba3fb-713e-4e81-a3e0-ca8a98fc66d2",
   "metadata": {},
   "outputs": [
    {
     "name": "stdout",
     "output_type": "stream",
     "text": [
      "<class 'pandas.core.frame.DataFrame'>\n",
      "RangeIndex: 6570096 entries, 0 to 6570095\n",
      "Data columns (total 19 columns):\n",
      " #   Column                      Dtype         \n",
      "---  ------                      -----         \n",
      " 0   Event Number                object        \n",
      " 1   Call Received               datetime64[ns]\n",
      " 2   Complaint Number            float64       \n",
      " 3   Tencode                     object        \n",
      " 4   Tencode Description         object        \n",
      " 5   Tencode Suffix              object        \n",
      " 6   Tencode Suffix Description  object        \n",
      " 7   Disposition Code            object        \n",
      " 8   Disposition Description     object        \n",
      " 9   Block                       float64       \n",
      " 10  Street Name                 object        \n",
      " 11  Unit Dispatched             object        \n",
      " 12  Shift                       object        \n",
      " 13  Sector                      object        \n",
      " 14  Zone                        object        \n",
      " 15  RPA                         float64       \n",
      " 16  Latitude                    float64       \n",
      " 17  Longitude                   float64       \n",
      " 18  Mapped Location             object        \n",
      "dtypes: datetime64[ns](1), float64(5), object(13)\n",
      "memory usage: 952.4+ MB\n"
     ]
    }
   ],
   "source": [
    "main_df.info()"
   ]
  },
  {
   "cell_type": "markdown",
   "id": "8d567bc1-e4ed-4432-903b-cab35f163c4c",
   "metadata": {
    "tags": []
   },
   "source": [
    "### Preprocessing"
   ]
  },
  {
   "cell_type": "markdown",
   "id": "4d5c2ea0-7662-49c7-9c95-d474ac9341af",
   "metadata": {},
   "source": [
    "* Let's get a sample of the data to make it easier to work with."
   ]
  },
  {
   "cell_type": "code",
   "execution_count": 7,
   "id": "e369ba3c-7ed8-498c-b510-73d7a0c5ae4f",
   "metadata": {
    "tags": []
   },
   "outputs": [],
   "source": [
    "samp_df = main_df.sample(frac=.01, random_state=22)"
   ]
  },
  {
   "cell_type": "code",
   "execution_count": null,
   "id": "765d5905-57a4-4480-bf89-7059e977a152",
   "metadata": {},
   "outputs": [],
   "source": [
    "cols = ['Event Number', 'Call Received', 'Complaint Number', 'Tencode',\n",
    "       'Tencode Description', 'Tencode Suffix', 'Tencode Suffix Description',\n",
    "       'Disposition Code', 'Disposition Description', 'Block', 'Street Name',\n",
    "       'Unit Dispatched', 'Shift', 'Sector', 'Zone', 'RPA', 'Latitude',\n",
    "       'Longitude', 'Mapped Location']"
   ]
  },
  {
   "cell_type": "markdown",
   "id": "236b2cbe-85cf-4162-bb04-edd7b2301118",
   "metadata": {
    "jp-MarkdownHeadingCollapsed": true,
    "tags": []
   },
   "source": [
    "#### 'Event Number'"
   ]
  },
  {
   "cell_type": "markdown",
   "id": "a916fe8b-6357-4c95-b4f6-97b1dd38e100",
   "metadata": {},
   "source": [
    "* It looks like all the event numbers begin with 'PD'; if this is the case, then I can strip those two characters and cast as an int, saving space"
   ]
  },
  {
   "cell_type": "code",
   "execution_count": null,
   "id": "827ca78b-afae-4854-a1d9-9f2f68800f59",
   "metadata": {},
   "outputs": [],
   "source": [
    "pd_check = [event.startswith('PD') for event in samp_df['Event Number'].values]"
   ]
  },
  {
   "cell_type": "code",
   "execution_count": null,
   "id": "65af56ba-9a92-4dad-8f4a-4207b0f27db2",
   "metadata": {},
   "outputs": [],
   "source": [
    "print(sum(pd_check))"
   ]
  },
  {
   "cell_type": "code",
   "execution_count": 8,
   "id": "176a56db-fa31-4b65-a2cf-7bdcffacafa3",
   "metadata": {},
   "outputs": [],
   "source": [
    "def event_number_clean(num):\n",
    "    return int(num[2:])"
   ]
  },
  {
   "cell_type": "code",
   "execution_count": 9,
   "id": "adca4cb2-3851-4174-9306-780cc03033e9",
   "metadata": {},
   "outputs": [],
   "source": [
    "samp_df['Event Number'] = samp_df['Event Number'].apply(event_number_clean)"
   ]
  },
  {
   "cell_type": "code",
   "execution_count": 10,
   "id": "4fc46a3d-487c-4480-b064-e018d03cd52c",
   "metadata": {},
   "outputs": [
    {
     "data": {
      "text/html": [
       "<div>\n",
       "<style scoped>\n",
       "    .dataframe tbody tr th:only-of-type {\n",
       "        vertical-align: middle;\n",
       "    }\n",
       "\n",
       "    .dataframe tbody tr th {\n",
       "        vertical-align: top;\n",
       "    }\n",
       "\n",
       "    .dataframe thead th {\n",
       "        text-align: right;\n",
       "    }\n",
       "</style>\n",
       "<table border=\"1\" class=\"dataframe\">\n",
       "  <thead>\n",
       "    <tr style=\"text-align: right;\">\n",
       "      <th></th>\n",
       "      <th>Event Number</th>\n",
       "      <th>Call Received</th>\n",
       "      <th>Complaint Number</th>\n",
       "      <th>Tencode</th>\n",
       "      <th>Tencode Description</th>\n",
       "      <th>Tencode Suffix</th>\n",
       "      <th>Tencode Suffix Description</th>\n",
       "      <th>Disposition Code</th>\n",
       "      <th>Disposition Description</th>\n",
       "      <th>Block</th>\n",
       "      <th>Street Name</th>\n",
       "      <th>Unit Dispatched</th>\n",
       "      <th>Shift</th>\n",
       "      <th>Sector</th>\n",
       "      <th>Zone</th>\n",
       "      <th>RPA</th>\n",
       "      <th>Latitude</th>\n",
       "      <th>Longitude</th>\n",
       "      <th>Mapped Location</th>\n",
       "    </tr>\n",
       "  </thead>\n",
       "  <tbody>\n",
       "    <tr>\n",
       "      <th>5797724</th>\n",
       "      <td>201601214292</td>\n",
       "      <td>2016-12-01 16:51:05</td>\n",
       "      <td>NaN</td>\n",
       "      <td>88</td>\n",
       "      <td>INVESTIGATE 911 HANG-UP CALL</td>\n",
       "      <td>PW</td>\n",
       "      <td>NaN</td>\n",
       "      <td>5</td>\n",
       "      <td>GONE ON ARRIVAL</td>\n",
       "      <td>NaN</td>\n",
       "      <td>NaN</td>\n",
       "      <td>322B</td>\n",
       "      <td>B</td>\n",
       "      <td>S</td>\n",
       "      <td>327</td>\n",
       "      <td>8861.0</td>\n",
       "      <td>NaN</td>\n",
       "      <td>NaN</td>\n",
       "      <td>NaN</td>\n",
       "    </tr>\n",
       "  </tbody>\n",
       "</table>\n",
       "</div>"
      ],
      "text/plain": [
       "         Event Number       Call Received  Complaint Number Tencode  \\\n",
       "5797724  201601214292 2016-12-01 16:51:05               NaN      88   \n",
       "\n",
       "                  Tencode Description Tencode Suffix  \\\n",
       "5797724  INVESTIGATE 911 HANG-UP CALL             PW   \n",
       "\n",
       "        Tencode Suffix Description Disposition Code Disposition Description  \\\n",
       "5797724                        NaN                5         GONE ON ARRIVAL   \n",
       "\n",
       "         Block Street Name Unit Dispatched Shift Sector Zone     RPA  \\\n",
       "5797724    NaN         NaN            322B     B      S  327  8861.0   \n",
       "\n",
       "         Latitude  Longitude Mapped Location  \n",
       "5797724       NaN        NaN             NaN  "
      ]
     },
     "execution_count": 10,
     "metadata": {},
     "output_type": "execute_result"
    }
   ],
   "source": [
    "samp_df.iloc[[0]]"
   ]
  },
  {
   "cell_type": "markdown",
   "id": "cafddcbd-5517-46d2-8e71-8d4e81e84c92",
   "metadata": {
    "jp-MarkdownHeadingCollapsed": true,
    "tags": []
   },
   "source": [
    "#### 'Call Received'"
   ]
  },
  {
   "cell_type": "markdown",
   "id": "087fe64a-ae09-4bae-9cae-3eabd6860bb9",
   "metadata": {},
   "source": [
    "* This is a datetime column, so I'll parse as I read in the csv"
   ]
  },
  {
   "cell_type": "code",
   "execution_count": null,
   "id": "c3a1ea6a-2e77-43a7-8ccf-b249ef6d217e",
   "metadata": {},
   "outputs": [],
   "source": [
    "samp_df['Call Received'].head(20)"
   ]
  },
  {
   "cell_type": "markdown",
   "id": "26ac04b2-185a-4ca3-8a77-132d5410b867",
   "metadata": {
    "jp-MarkdownHeadingCollapsed": true,
    "tags": []
   },
   "source": [
    "#### 'Complaint Number'"
   ]
  },
  {
   "cell_type": "markdown",
   "id": "04ec2855-a5f1-42f5-9d9a-b53542124dc0",
   "metadata": {},
   "source": [
    "* I am not interested in the specific number, just whether or not an incident was generated, so I'll update this to a simple Boolean flag"
   ]
  },
  {
   "cell_type": "code",
   "execution_count": null,
   "id": "b7ec4c05-5797-49f6-8034-4de113883d08",
   "metadata": {},
   "outputs": [],
   "source": [
    "samp_df['Complaint Number'].isna().value_counts()"
   ]
  },
  {
   "cell_type": "code",
   "execution_count": null,
   "id": "b17786c2-eefd-432d-a34e-be8fa65a21e6",
   "metadata": {},
   "outputs": [],
   "source": [
    "type(samp_df['Complaint Number'][5797724])"
   ]
  },
  {
   "cell_type": "code",
   "execution_count": 11,
   "id": "38ca8f2e-4a2e-4678-aa4d-06e64ee22b40",
   "metadata": {},
   "outputs": [],
   "source": [
    "def complaint_number_clean(num):\n",
    "    if np.isnan(num):\n",
    "        return 0\n",
    "    else:\n",
    "        return 1"
   ]
  },
  {
   "cell_type": "code",
   "execution_count": 13,
   "id": "7de962d5-9137-42d7-b0b5-b66e834e3fe4",
   "metadata": {},
   "outputs": [
    {
     "data": {
      "text/html": [
       "<div>\n",
       "<style scoped>\n",
       "    .dataframe tbody tr th:only-of-type {\n",
       "        vertical-align: middle;\n",
       "    }\n",
       "\n",
       "    .dataframe tbody tr th {\n",
       "        vertical-align: top;\n",
       "    }\n",
       "\n",
       "    .dataframe thead th {\n",
       "        text-align: right;\n",
       "    }\n",
       "</style>\n",
       "<table border=\"1\" class=\"dataframe\">\n",
       "  <thead>\n",
       "    <tr style=\"text-align: right;\">\n",
       "      <th></th>\n",
       "      <th>Event Number</th>\n",
       "      <th>Call Received</th>\n",
       "      <th>Tencode</th>\n",
       "      <th>Tencode Description</th>\n",
       "      <th>Tencode Suffix</th>\n",
       "      <th>Tencode Suffix Description</th>\n",
       "      <th>Disposition Code</th>\n",
       "      <th>Disposition Description</th>\n",
       "      <th>Block</th>\n",
       "      <th>Street Name</th>\n",
       "      <th>Unit Dispatched</th>\n",
       "      <th>Shift</th>\n",
       "      <th>Sector</th>\n",
       "      <th>Zone</th>\n",
       "      <th>RPA</th>\n",
       "      <th>Latitude</th>\n",
       "      <th>Longitude</th>\n",
       "      <th>Mapped Location</th>\n",
       "      <th>generated_incident_yn</th>\n",
       "    </tr>\n",
       "  </thead>\n",
       "  <tbody>\n",
       "    <tr>\n",
       "      <th>5797724</th>\n",
       "      <td>201601214292</td>\n",
       "      <td>2016-12-01 16:51:05</td>\n",
       "      <td>88</td>\n",
       "      <td>INVESTIGATE 911 HANG-UP CALL</td>\n",
       "      <td>PW</td>\n",
       "      <td>NaN</td>\n",
       "      <td>5</td>\n",
       "      <td>GONE ON ARRIVAL</td>\n",
       "      <td>NaN</td>\n",
       "      <td>NaN</td>\n",
       "      <td>322B</td>\n",
       "      <td>B</td>\n",
       "      <td>S</td>\n",
       "      <td>327</td>\n",
       "      <td>8861.0</td>\n",
       "      <td>NaN</td>\n",
       "      <td>NaN</td>\n",
       "      <td>NaN</td>\n",
       "      <td>0</td>\n",
       "    </tr>\n",
       "    <tr>\n",
       "      <th>6541170</th>\n",
       "      <td>202100376271</td>\n",
       "      <td>2021-06-10 21:08:23</td>\n",
       "      <td>43</td>\n",
       "      <td>WANT OFFICER FOR INVESTIGATION / ASSISTA</td>\n",
       "      <td>PV</td>\n",
       "      <td>NaN</td>\n",
       "      <td>5</td>\n",
       "      <td>GONE ON ARRIVAL</td>\n",
       "      <td>NaN</td>\n",
       "      <td>NaN</td>\n",
       "      <td>5P66</td>\n",
       "      <td>B</td>\n",
       "      <td>H</td>\n",
       "      <td>535</td>\n",
       "      <td>8937.0</td>\n",
       "      <td>NaN</td>\n",
       "      <td>NaN</td>\n",
       "      <td>NaN</td>\n",
       "      <td>0</td>\n",
       "    </tr>\n",
       "    <tr>\n",
       "      <th>827216</th>\n",
       "      <td>201600371223</td>\n",
       "      <td>2016-04-10 20:40:50</td>\n",
       "      <td>93</td>\n",
       "      <td>TRAFFIC VIOLATION</td>\n",
       "      <td>NaN</td>\n",
       "      <td>NaN</td>\n",
       "      <td>9T</td>\n",
       "      <td>NaN</td>\n",
       "      <td>NaN</td>\n",
       "      <td>BELL RD</td>\n",
       "      <td>332B</td>\n",
       "      <td>B</td>\n",
       "      <td>335</td>\n",
       "      <td>NaN</td>\n",
       "      <td>8721.0</td>\n",
       "      <td>36.045</td>\n",
       "      <td>-86.662</td>\n",
       "      <td>POINT (-86.662 36.045)</td>\n",
       "      <td>0</td>\n",
       "    </tr>\n",
       "    <tr>\n",
       "      <th>503265</th>\n",
       "      <td>201900487756</td>\n",
       "      <td>2019-06-03 10:42:15</td>\n",
       "      <td>71</td>\n",
       "      <td>BURGLARY - NON-RESIDENCE</td>\n",
       "      <td>R</td>\n",
       "      <td>REPORT</td>\n",
       "      <td>1</td>\n",
       "      <td>M.P.D. REPORT COMPLED</td>\n",
       "      <td>NaN</td>\n",
       "      <td>NaN</td>\n",
       "      <td>811A</td>\n",
       "      <td>A</td>\n",
       "      <td>NaN</td>\n",
       "      <td>NaN</td>\n",
       "      <td>NaN</td>\n",
       "      <td>NaN</td>\n",
       "      <td>NaN</td>\n",
       "      <td>NaN</td>\n",
       "      <td>1</td>\n",
       "    </tr>\n",
       "    <tr>\n",
       "      <th>4525988</th>\n",
       "      <td>202000445523</td>\n",
       "      <td>2020-06-05 00:59:52</td>\n",
       "      <td>83</td>\n",
       "      <td>SHOTS FIRED</td>\n",
       "      <td>P</td>\n",
       "      <td>PROGRESS</td>\n",
       "      <td>11</td>\n",
       "      <td>DISREGARD / SIGNAL 9</td>\n",
       "      <td>NaN</td>\n",
       "      <td>NaN</td>\n",
       "      <td>NaN</td>\n",
       "      <td>C</td>\n",
       "      <td>S</td>\n",
       "      <td>321</td>\n",
       "      <td>8445.0</td>\n",
       "      <td>NaN</td>\n",
       "      <td>NaN</td>\n",
       "      <td>NaN</td>\n",
       "      <td>0</td>\n",
       "    </tr>\n",
       "    <tr>\n",
       "      <th>...</th>\n",
       "      <td>...</td>\n",
       "      <td>...</td>\n",
       "      <td>...</td>\n",
       "      <td>...</td>\n",
       "      <td>...</td>\n",
       "      <td>...</td>\n",
       "      <td>...</td>\n",
       "      <td>...</td>\n",
       "      <td>...</td>\n",
       "      <td>...</td>\n",
       "      <td>...</td>\n",
       "      <td>...</td>\n",
       "      <td>...</td>\n",
       "      <td>...</td>\n",
       "      <td>...</td>\n",
       "      <td>...</td>\n",
       "      <td>...</td>\n",
       "      <td>...</td>\n",
       "      <td>...</td>\n",
       "    </tr>\n",
       "    <tr>\n",
       "      <th>1624901</th>\n",
       "      <td>201700282688</td>\n",
       "      <td>2017-03-20 02:56:17</td>\n",
       "      <td>43</td>\n",
       "      <td>WANT OFFICER FOR INVESTIGATION / ASSISTA</td>\n",
       "      <td>P</td>\n",
       "      <td>PROGRESS</td>\n",
       "      <td>5W</td>\n",
       "      <td>NaN</td>\n",
       "      <td>300.0</td>\n",
       "      <td>MAY DR</td>\n",
       "      <td>713C</td>\n",
       "      <td>C</td>\n",
       "      <td>NaN</td>\n",
       "      <td>NaN</td>\n",
       "      <td>NaN</td>\n",
       "      <td>NaN</td>\n",
       "      <td>NaN</td>\n",
       "      <td>NaN</td>\n",
       "      <td>0</td>\n",
       "    </tr>\n",
       "    <tr>\n",
       "      <th>4544265</th>\n",
       "      <td>201700096670</td>\n",
       "      <td>2017-01-27 13:07:50</td>\n",
       "      <td>40</td>\n",
       "      <td>SUSPICIOUS PERSON</td>\n",
       "      <td>P</td>\n",
       "      <td>PROGRESS</td>\n",
       "      <td>4</td>\n",
       "      <td>ASSISTED CITIZEN</td>\n",
       "      <td>NaN</td>\n",
       "      <td>NaN</td>\n",
       "      <td>831A</td>\n",
       "      <td>A</td>\n",
       "      <td>MT</td>\n",
       "      <td>825</td>\n",
       "      <td>7111.0</td>\n",
       "      <td>NaN</td>\n",
       "      <td>NaN</td>\n",
       "      <td>NaN</td>\n",
       "      <td>0</td>\n",
       "    </tr>\n",
       "    <tr>\n",
       "      <th>575371</th>\n",
       "      <td>201500412850</td>\n",
       "      <td>2015-04-20 12:59:47</td>\n",
       "      <td>43</td>\n",
       "      <td>WANT OFFICER FOR INVESTIGATION / ASSISTA</td>\n",
       "      <td>A</td>\n",
       "      <td>ALARM</td>\n",
       "      <td>11</td>\n",
       "      <td>DISREGARD / SIGNAL 9</td>\n",
       "      <td>NaN</td>\n",
       "      <td>NaN</td>\n",
       "      <td>331A</td>\n",
       "      <td>A</td>\n",
       "      <td>S</td>\n",
       "      <td>337</td>\n",
       "      <td>8905.0</td>\n",
       "      <td>NaN</td>\n",
       "      <td>NaN</td>\n",
       "      <td>NaN</td>\n",
       "      <td>0</td>\n",
       "    </tr>\n",
       "    <tr>\n",
       "      <th>5811427</th>\n",
       "      <td>201700214083</td>\n",
       "      <td>2017-02-28 07:58:57</td>\n",
       "      <td>93</td>\n",
       "      <td>TRAFFIC VIOLATION</td>\n",
       "      <td>NaN</td>\n",
       "      <td>NaN</td>\n",
       "      <td>3T</td>\n",
       "      <td>NaN</td>\n",
       "      <td>NaN</td>\n",
       "      <td>NaN</td>\n",
       "      <td>715B</td>\n",
       "      <td>A</td>\n",
       "      <td>S</td>\n",
       "      <td>331</td>\n",
       "      <td>8767.0</td>\n",
       "      <td>NaN</td>\n",
       "      <td>NaN</td>\n",
       "      <td>NaN</td>\n",
       "      <td>0</td>\n",
       "    </tr>\n",
       "    <tr>\n",
       "      <th>606118</th>\n",
       "      <td>201800826309</td>\n",
       "      <td>2018-08-21 02:30:21</td>\n",
       "      <td>96</td>\n",
       "      <td>BUSINESS CHECK</td>\n",
       "      <td>NaN</td>\n",
       "      <td>NaN</td>\n",
       "      <td>12</td>\n",
       "      <td>LOCATION/BUILDING SECURE</td>\n",
       "      <td>NaN</td>\n",
       "      <td>NaN</td>\n",
       "      <td>121C</td>\n",
       "      <td>C</td>\n",
       "      <td>W</td>\n",
       "      <td>113</td>\n",
       "      <td>6209.0</td>\n",
       "      <td>NaN</td>\n",
       "      <td>NaN</td>\n",
       "      <td>NaN</td>\n",
       "      <td>0</td>\n",
       "    </tr>\n",
       "  </tbody>\n",
       "</table>\n",
       "<p>65701 rows × 19 columns</p>\n",
       "</div>"
      ],
      "text/plain": [
       "         Event Number       Call Received Tencode  \\\n",
       "5797724  201601214292 2016-12-01 16:51:05      88   \n",
       "6541170  202100376271 2021-06-10 21:08:23      43   \n",
       "827216   201600371223 2016-04-10 20:40:50      93   \n",
       "503265   201900487756 2019-06-03 10:42:15      71   \n",
       "4525988  202000445523 2020-06-05 00:59:52      83   \n",
       "...               ...                 ...     ...   \n",
       "1624901  201700282688 2017-03-20 02:56:17      43   \n",
       "4544265  201700096670 2017-01-27 13:07:50      40   \n",
       "575371   201500412850 2015-04-20 12:59:47      43   \n",
       "5811427  201700214083 2017-02-28 07:58:57      93   \n",
       "606118   201800826309 2018-08-21 02:30:21      96   \n",
       "\n",
       "                              Tencode Description Tencode Suffix  \\\n",
       "5797724              INVESTIGATE 911 HANG-UP CALL             PW   \n",
       "6541170  WANT OFFICER FOR INVESTIGATION / ASSISTA             PV   \n",
       "827216                          TRAFFIC VIOLATION            NaN   \n",
       "503265                   BURGLARY - NON-RESIDENCE              R   \n",
       "4525988                               SHOTS FIRED              P   \n",
       "...                                           ...            ...   \n",
       "1624901  WANT OFFICER FOR INVESTIGATION / ASSISTA              P   \n",
       "4544265                         SUSPICIOUS PERSON              P   \n",
       "575371   WANT OFFICER FOR INVESTIGATION / ASSISTA              A   \n",
       "5811427                         TRAFFIC VIOLATION            NaN   \n",
       "606118                             BUSINESS CHECK            NaN   \n",
       "\n",
       "        Tencode Suffix Description Disposition Code   Disposition Description  \\\n",
       "5797724                        NaN                5           GONE ON ARRIVAL   \n",
       "6541170                        NaN                5           GONE ON ARRIVAL   \n",
       "827216                         NaN               9T                       NaN   \n",
       "503265                      REPORT                1     M.P.D. REPORT COMPLED   \n",
       "4525988                   PROGRESS               11      DISREGARD / SIGNAL 9   \n",
       "...                            ...              ...                       ...   \n",
       "1624901                   PROGRESS               5W                       NaN   \n",
       "4544265                   PROGRESS                4          ASSISTED CITIZEN   \n",
       "575371                       ALARM               11      DISREGARD / SIGNAL 9   \n",
       "5811427                        NaN               3T                       NaN   \n",
       "606118                         NaN               12  LOCATION/BUILDING SECURE   \n",
       "\n",
       "         Block Street Name Unit Dispatched Shift Sector Zone     RPA  \\\n",
       "5797724    NaN         NaN            322B     B      S  327  8861.0   \n",
       "6541170    NaN         NaN            5P66     B      H  535  8937.0   \n",
       "827216     NaN     BELL RD            332B     B    335  NaN  8721.0   \n",
       "503265     NaN         NaN            811A     A    NaN  NaN     NaN   \n",
       "4525988    NaN         NaN             NaN     C      S  321  8445.0   \n",
       "...        ...         ...             ...   ...    ...  ...     ...   \n",
       "1624901  300.0      MAY DR            713C     C    NaN  NaN     NaN   \n",
       "4544265    NaN         NaN            831A     A     MT  825  7111.0   \n",
       "575371     NaN         NaN            331A     A      S  337  8905.0   \n",
       "5811427    NaN         NaN            715B     A      S  331  8767.0   \n",
       "606118     NaN         NaN            121C     C      W  113  6209.0   \n",
       "\n",
       "         Latitude  Longitude         Mapped Location  generated_incident_yn  \n",
       "5797724       NaN        NaN                     NaN                      0  \n",
       "6541170       NaN        NaN                     NaN                      0  \n",
       "827216     36.045    -86.662  POINT (-86.662 36.045)                      0  \n",
       "503265        NaN        NaN                     NaN                      1  \n",
       "4525988       NaN        NaN                     NaN                      0  \n",
       "...           ...        ...                     ...                    ...  \n",
       "1624901       NaN        NaN                     NaN                      0  \n",
       "4544265       NaN        NaN                     NaN                      0  \n",
       "575371        NaN        NaN                     NaN                      0  \n",
       "5811427       NaN        NaN                     NaN                      0  \n",
       "606118        NaN        NaN                     NaN                      0  \n",
       "\n",
       "[65701 rows x 19 columns]"
      ]
     },
     "execution_count": 13,
     "metadata": {},
     "output_type": "execute_result"
    }
   ],
   "source": [
    "samp_df['generated_incident_yn'] = samp_df['Complaint Number'].apply(complaint_number_clean)\n",
    "samp_df.drop('Complaint Number', axis=1)"
   ]
  },
  {
   "cell_type": "code",
   "execution_count": 14,
   "id": "076f294e-98c4-46bf-8e0b-881345d37291",
   "metadata": {},
   "outputs": [
    {
     "data": {
      "text/plain": [
       "0    60129\n",
       "1     5572\n",
       "Name: generated_incident_yn, dtype: int64"
      ]
     },
     "execution_count": 14,
     "metadata": {},
     "output_type": "execute_result"
    }
   ],
   "source": [
    "# check the function\n",
    "samp_df['generated_incident_yn'].value_counts()"
   ]
  },
  {
   "cell_type": "code",
   "execution_count": null,
   "id": "f1e336cf-b016-4694-86a7-ee4562c05cd0",
   "metadata": {
    "tags": []
   },
   "outputs": [],
   "source": [
    "# Markdown shortcut!\n",
    "for col in cols:\n",
    "    print(f\"#### '{col}'\")"
   ]
  },
  {
   "cell_type": "markdown",
   "id": "bc6b49ce-e117-4548-b657-30517b94b7ce",
   "metadata": {
    "jp-MarkdownHeadingCollapsed": true,
    "tags": []
   },
   "source": [
    "#### 'Tencode'"
   ]
  },
  {
   "cell_type": "markdown",
   "id": "e2cef5a5-199c-4a77-b210-353f5d633884",
   "metadata": {},
   "source": [
    "* This column seems to be clean. It's high-cardinality, and the codes are numeric, so I'll have to be careful with them if I do any modeling."
   ]
  },
  {
   "cell_type": "code",
   "execution_count": 15,
   "id": "d57ed90d-061d-48e7-85b4-e0a599fdf2e4",
   "metadata": {},
   "outputs": [
    {
     "data": {
      "text/plain": [
       "43      12710\n",
       "96      11993\n",
       "93      11775\n",
       "15       3422\n",
       "44       2926\n",
       "45       2918\n",
       "50       2729\n",
       "87       2448\n",
       "40       2223\n",
       "70       1943\n",
       "71       1888\n",
       "3        1624\n",
       "88       1375\n",
       "46        795\n",
       "49        692\n",
       "57        679\n",
       "83        572\n",
       "95        394\n",
       "53        337\n",
       "92        333\n",
       "54        287\n",
       "75        261\n",
       "65        256\n",
       "16        230\n",
       "63        215\n",
       "42        164\n",
       "64         88\n",
       "61         56\n",
       "59         55\n",
       "35         55\n",
       "52         51\n",
       "62         45\n",
       "58         35\n",
       "14         33\n",
       "94         22\n",
       "73         21\n",
       "51         12\n",
       "1000       10\n",
       "68         10\n",
       "3000        4\n",
       "77          4\n",
       "66          4\n",
       "8000        4\n",
       "89          2\n",
       "79          1\n",
       "Name: Tencode, dtype: int64"
      ]
     },
     "execution_count": 15,
     "metadata": {},
     "output_type": "execute_result"
    }
   ],
   "source": [
    "samp_df['Tencode'].value_counts()"
   ]
  },
  {
   "cell_type": "markdown",
   "id": "d0912133-0ac4-4d58-adb3-9bb407ea2a1c",
   "metadata": {
    "jp-MarkdownHeadingCollapsed": true,
    "tags": []
   },
   "source": [
    "#### 'Tencode Description'"
   ]
  },
  {
   "cell_type": "markdown",
   "id": "36a0a3fb-b8fa-476d-8332-5035806acc4a",
   "metadata": {},
   "source": [
    "* It looks like there are some blanks here.\n",
    "* However, the desciptions match the appendix in the metadata document, so rather than clogging the dataframe with strings, I'll remove this column."
   ]
  },
  {
   "cell_type": "code",
   "execution_count": null,
   "id": "6f73e286-d49c-4a06-aec7-64dad5820f3e",
   "metadata": {},
   "outputs": [],
   "source": [
    "samp_df['Tencode Description'].isna().value_counts()"
   ]
  },
  {
   "cell_type": "code",
   "execution_count": null,
   "id": "f0e818f5-bb67-413e-a9e1-2ef4bca22a33",
   "metadata": {},
   "outputs": [],
   "source": [
    "samp_df[samp_df['Tencode Description'].notna()].head(20)"
   ]
  },
  {
   "cell_type": "code",
   "execution_count": 16,
   "id": "a6a32ce3-bd30-4d58-9d6a-69ed852181d5",
   "metadata": {},
   "outputs": [],
   "source": [
    "samp_df = samp_df.drop('Tencode Description', axis=1)"
   ]
  },
  {
   "cell_type": "markdown",
   "id": "9dbe3228-c4a2-4931-b576-745d0277d478",
   "metadata": {
    "jp-MarkdownHeadingCollapsed": true,
    "tags": []
   },
   "source": [
    "#### 'Tencode Suffix'"
   ]
  },
  {
   "cell_type": "markdown",
   "id": "567764bc-5ccc-450d-a03e-1ff151e1e9c3",
   "metadata": {},
   "source": [
    "* Like the tencode column, this is high-cardinality, though these are mostly strings instead of numeric values. For consistency, it looks like I should read the csv with the datatypes specified."
   ]
  },
  {
   "cell_type": "code",
   "execution_count": null,
   "id": "bb8c8c5c-804e-46ec-91e6-6f36f0bc8b48",
   "metadata": {},
   "outputs": [],
   "source": [
    "type(samp_df['Tencode Suffix'][5797724])"
   ]
  },
  {
   "cell_type": "code",
   "execution_count": 17,
   "id": "295b38b8-77fc-431f-8b60-1d6601001546",
   "metadata": {},
   "outputs": [
    {
     "data": {
      "text/plain": [
       "P     26379\n",
       "A      3823\n",
       "R      3130\n",
       "PV     1144\n",
       "TS      869\n",
       "PM      856\n",
       "PW      743\n",
       "PJ      649\n",
       "RT      614\n",
       "TV      586\n",
       "RV      346\n",
       "RJ      177\n",
       "RC      169\n",
       "W       134\n",
       "L        98\n",
       "T        44\n",
       "PD       30\n",
       "H        28\n",
       "F        20\n",
       "B        12\n",
       "RD        9\n",
       "PR        8\n",
       "FI        4\n",
       "S         3\n",
       "RG        1\n",
       "Name: Tencode Suffix, dtype: int64"
      ]
     },
     "execution_count": 17,
     "metadata": {},
     "output_type": "execute_result"
    }
   ],
   "source": [
    "samp_df['Tencode Suffix'].value_counts()"
   ]
  },
  {
   "cell_type": "markdown",
   "id": "575a6269-92d7-41df-8b5b-c82738c6df9c",
   "metadata": {
    "jp-MarkdownHeadingCollapsed": true,
    "tags": []
   },
   "source": [
    "#### 'Tencode Suffix Description'"
   ]
  },
  {
   "cell_type": "markdown",
   "id": "f57573e0-d0ff-46ef-be95-e229d4d07641",
   "metadata": {},
   "source": [
    "* This one is like the tencode description, a string which is unneeded. I'll drop the column."
   ]
  },
  {
   "cell_type": "code",
   "execution_count": 18,
   "id": "107e92a5-8dbf-4939-9d34-bb82731cac2b",
   "metadata": {},
   "outputs": [],
   "source": [
    "samp_df = samp_df.drop('Tencode Suffix Description', axis=1)"
   ]
  },
  {
   "cell_type": "markdown",
   "id": "eb48d84d-f9db-423d-95d3-ba85456b9838",
   "metadata": {
    "jp-MarkdownHeadingCollapsed": true,
    "tags": []
   },
   "source": [
    "#### 'Disposition Code'"
   ]
  },
  {
   "cell_type": "markdown",
   "id": "54500ce7-1af8-45b9-a3b5-cf4f0e1e4794",
   "metadata": {
    "tags": []
   },
   "source": [
    "* Interestingly, it would appear that tencode suffixes are sometimes appended to the disposition code instead of the tencode. That'll be fun to clean up!\n",
    "\n",
    "* Here's my thinking:    \n",
    "    * If the disposition code includes a letter which is not a valid option, and it is a valid option as a tencode suffix, and it is not already present in the tencode suffix, I'll append the letter to the tencode suffix and remove from the disposition code.\n",
    "    * If the disposition code includes a letter which is not a valid option, and it is *not* a valid option as a tencode suffix, I'll remove the letter.\n",
    "    * If the disposition code includes a letter which is a valid option, and it is *also* a valid option as a tencode suffix, I'll do the following:\n",
    "        * For A:\n",
    "            * disposition codes 1, 4, 5, 7, 8, 9, 10, 11, 13, 14, 15 seem unlikely to result in arrest, so the A will be considered as a tencode and appended if not already present.\n",
    "            * disposition codes 2, 3, 6, 12 seem like they could plausibly result in arrest, so the A will be left as part of the disposition code.\n",
    "        * For C, O, and P:\n",
    "            * if the letter is *not* included in the tencode suffix, I'll append it, while also leaving it as part of the disposition code.\n",
    "            * if the letter is already included in the tencode suffix, I'll do nothing, leaving it in both places."
   ]
  },
  {
   "cell_type": "code",
   "execution_count": 43,
   "id": "6b01c45c-81c3-4ead-b3c4-6dddb51425b9",
   "metadata": {},
   "outputs": [
    {
     "data": {
      "text/plain": [
       "False    65427\n",
       "True       274\n",
       "Name: Disposition Code, dtype: int64"
      ]
     },
     "execution_count": 43,
     "metadata": {},
     "output_type": "execute_result"
    }
   ],
   "source": [
    "samp_df['Disposition Code'].isna().value_counts()"
   ]
  },
  {
   "cell_type": "code",
   "execution_count": 77,
   "id": "f39a2228-5449-4a77-bae2-a3ebbec312df",
   "metadata": {
    "tags": []
   },
   "outputs": [],
   "source": [
    "def disposition_code_clean(row):\n",
    "    \n",
    "    # The three variables calculated here must all be strings for the function to work.\n",
    "    \n",
    "    # First test for nan (the disposition code or tencode is a float if it is nan, otherwise it's a str).\n",
    "    if isinstance(row['Disposition Code'], float):\n",
    "        return row\n",
    "    else:\n",
    "        disp_code_letter = str(row['Disposition Code'])[-1:]\n",
    "        disp_code_number = str(row['Disposition Code'])[:-1]\n",
    "\n",
    "    if isinstance(row['Tencode Suffix'], float):\n",
    "        tencode_suffix = ''\n",
    "    else:\n",
    "        tencode_suffix = str(row['Tencode Suffix'])\n",
    "    \n",
    "    if disp_code_letter.isnumeric():\n",
    "        return row\n",
    "    elif disp_code_letter not in ['A', 'C', 'O', 'P']:\n",
    "        if disp_code_letter not in tencode_suffix:\n",
    "            row['Tencode Suffix'] = tencode_suffix + disp_code_letter\n",
    "            row['Disposition Code'] = disp_code_number\n",
    "        else:\n",
    "            row['Disposition Code'] = disp_code_number   \n",
    "    else:\n",
    "        if disp_code_letter == 'A':\n",
    "            if disp_code_number in ['1', '4', '5', '7', '8', '9', '10', '11', '13', '14', '15']:\n",
    "                if disp_code_letter not in tencode_suffix:\n",
    "                    row['Tencode Suffix'] = tencode_suffix + disp_code_letter\n",
    "                    row['Disposition Code'] = disp_code_number\n",
    "                else:\n",
    "                    row['Disposition Code'] = disp_code_number\n",
    "            else:\n",
    "                return row\n",
    "        elif disp_code_letter in ['C', 'O', 'P']:\n",
    "            if disp_code_letter not in tencode_suffix:\n",
    "                row['Tencode Suffix'] = tencode_suffix + disp_code_letter\n",
    "            else:\n",
    "                return row\n",
    "    \n",
    "    # After all the above processing, if there is still nothing in the tencode suffix column, return it to nan\n",
    "    if row['Tencode Suffix'] == '':\n",
    "        row['Tencode Suffix'] = np.nan\n",
    "    \n",
    "    return row"
   ]
  },
  {
   "cell_type": "code",
   "execution_count": null,
   "id": "3d038b71-6521-4c18-b730-d71191cbd167",
   "metadata": {
    "tags": []
   },
   "outputs": [],
   "source": [
    "clean_dispo = ambig_df.apply(disposition_code_clean, axis=1)"
   ]
  },
  {
   "cell_type": "code",
   "execution_count": null,
   "id": "47a7769e-bd3a-4c63-bc19-e5d5b426a7d3",
   "metadata": {},
   "outputs": [
    {
     "data": {
      "text/plain": [
       "(1141, 18)"
      ]
     },
     "execution_count": 72,
     "metadata": {},
     "output_type": "execute_result"
    }
   ],
   "source": [
    "clean_dispo.shape"
   ]
  },
  {
   "cell_type": "code",
   "execution_count": null,
   "id": "1e5da1ca-2f7f-4d61-b204-6aa670289a6b",
   "metadata": {},
   "outputs": [
    {
     "data": {
      "text/html": [
       "<div>\n",
       "<style scoped>\n",
       "    .dataframe tbody tr th:only-of-type {\n",
       "        vertical-align: middle;\n",
       "    }\n",
       "\n",
       "    .dataframe tbody tr th {\n",
       "        vertical-align: top;\n",
       "    }\n",
       "\n",
       "    .dataframe thead th {\n",
       "        text-align: right;\n",
       "    }\n",
       "</style>\n",
       "<table border=\"1\" class=\"dataframe\">\n",
       "  <thead>\n",
       "    <tr style=\"text-align: right;\">\n",
       "      <th></th>\n",
       "      <th>Event Number</th>\n",
       "      <th>Call Received</th>\n",
       "      <th>Complaint Number</th>\n",
       "      <th>Tencode</th>\n",
       "      <th>Tencode Suffix</th>\n",
       "      <th>Disposition Code</th>\n",
       "      <th>Disposition Description</th>\n",
       "      <th>Block</th>\n",
       "      <th>Street Name</th>\n",
       "      <th>Unit Dispatched</th>\n",
       "      <th>Shift</th>\n",
       "      <th>Sector</th>\n",
       "      <th>Zone</th>\n",
       "      <th>RPA</th>\n",
       "      <th>Latitude</th>\n",
       "      <th>Longitude</th>\n",
       "      <th>Mapped Location</th>\n",
       "      <th>generated_incident_yn</th>\n",
       "    </tr>\n",
       "  </thead>\n",
       "  <tbody>\n",
       "    <tr>\n",
       "      <th>1891040</th>\n",
       "      <td>201500296004</td>\n",
       "      <td>2015-03-20 16:05:16</td>\n",
       "      <td>NaN</td>\n",
       "      <td>43</td>\n",
       "      <td>PJC</td>\n",
       "      <td>4C</td>\n",
       "      <td>NaN</td>\n",
       "      <td>200.0</td>\n",
       "      <td>GARNER AV</td>\n",
       "      <td>713B</td>\n",
       "      <td>B</td>\n",
       "      <td>M</td>\n",
       "      <td>715</td>\n",
       "      <td>1725.0</td>\n",
       "      <td>36.27</td>\n",
       "      <td>-86.708</td>\n",
       "      <td>POINT (-86.708 36.27)</td>\n",
       "      <td>0</td>\n",
       "    </tr>\n",
       "    <tr>\n",
       "      <th>1055263</th>\n",
       "      <td>201801234079</td>\n",
       "      <td>2018-12-27 09:40:34</td>\n",
       "      <td>2.018107e+10</td>\n",
       "      <td>43</td>\n",
       "      <td>RC</td>\n",
       "      <td>1C</td>\n",
       "      <td>NaN</td>\n",
       "      <td>5100.0</td>\n",
       "      <td>HARDING PL</td>\n",
       "      <td>SAPR</td>\n",
       "      <td>A</td>\n",
       "      <td>NaN</td>\n",
       "      <td>323W</td>\n",
       "      <td>0.0</td>\n",
       "      <td>36.09</td>\n",
       "      <td>-86.688</td>\n",
       "      <td>POINT (-86.688 36.09)</td>\n",
       "      <td>1</td>\n",
       "    </tr>\n",
       "    <tr>\n",
       "      <th>6352074</th>\n",
       "      <td>202100106242</td>\n",
       "      <td>2021-02-15 06:44:08</td>\n",
       "      <td>2.021009e+10</td>\n",
       "      <td>43</td>\n",
       "      <td>PMC</td>\n",
       "      <td>1C</td>\n",
       "      <td>NaN</td>\n",
       "      <td>NaN</td>\n",
       "      <td>NaN</td>\n",
       "      <td>213A</td>\n",
       "      <td>A</td>\n",
       "      <td>E</td>\n",
       "      <td>213</td>\n",
       "      <td>1329.0</td>\n",
       "      <td>NaN</td>\n",
       "      <td>NaN</td>\n",
       "      <td>NaN</td>\n",
       "      <td>1</td>\n",
       "    </tr>\n",
       "    <tr>\n",
       "      <th>1414889</th>\n",
       "      <td>201500808343</td>\n",
       "      <td>2015-07-30 07:25:08</td>\n",
       "      <td>2.015072e+10</td>\n",
       "      <td>43</td>\n",
       "      <td>RC</td>\n",
       "      <td>1C</td>\n",
       "      <td>NaN</td>\n",
       "      <td>NaN</td>\n",
       "      <td>NaN</td>\n",
       "      <td>525A</td>\n",
       "      <td>A</td>\n",
       "      <td>NaN</td>\n",
       "      <td>NaN</td>\n",
       "      <td>NaN</td>\n",
       "      <td>NaN</td>\n",
       "      <td>NaN</td>\n",
       "      <td>NaN</td>\n",
       "      <td>1</td>\n",
       "    </tr>\n",
       "    <tr>\n",
       "      <th>163595</th>\n",
       "      <td>202100656627</td>\n",
       "      <td>2021-10-17 14:26:56</td>\n",
       "      <td>NaN</td>\n",
       "      <td>3</td>\n",
       "      <td>C</td>\n",
       "      <td>4C</td>\n",
       "      <td>NaN</td>\n",
       "      <td>5100.0</td>\n",
       "      <td>HARDING PL</td>\n",
       "      <td>327B</td>\n",
       "      <td>A</td>\n",
       "      <td>NaN</td>\n",
       "      <td>323W</td>\n",
       "      <td>0.0</td>\n",
       "      <td>36.09</td>\n",
       "      <td>-86.688</td>\n",
       "      <td>POINT (-86.688 36.09)</td>\n",
       "      <td>0</td>\n",
       "    </tr>\n",
       "    <tr>\n",
       "      <th>...</th>\n",
       "      <td>...</td>\n",
       "      <td>...</td>\n",
       "      <td>...</td>\n",
       "      <td>...</td>\n",
       "      <td>...</td>\n",
       "      <td>...</td>\n",
       "      <td>...</td>\n",
       "      <td>...</td>\n",
       "      <td>...</td>\n",
       "      <td>...</td>\n",
       "      <td>...</td>\n",
       "      <td>...</td>\n",
       "      <td>...</td>\n",
       "      <td>...</td>\n",
       "      <td>...</td>\n",
       "      <td>...</td>\n",
       "      <td>...</td>\n",
       "      <td>...</td>\n",
       "    </tr>\n",
       "    <tr>\n",
       "      <th>4060628</th>\n",
       "      <td>201800348676</td>\n",
       "      <td>2018-04-05 20:16:43</td>\n",
       "      <td>NaN</td>\n",
       "      <td>71</td>\n",
       "      <td>A</td>\n",
       "      <td>10</td>\n",
       "      <td>NaN</td>\n",
       "      <td>NaN</td>\n",
       "      <td>NaN</td>\n",
       "      <td>510B1</td>\n",
       "      <td>B</td>\n",
       "      <td>H</td>\n",
       "      <td>513</td>\n",
       "      <td>9001.0</td>\n",
       "      <td>NaN</td>\n",
       "      <td>NaN</td>\n",
       "      <td>NaN</td>\n",
       "      <td>0</td>\n",
       "    </tr>\n",
       "    <tr>\n",
       "      <th>3951798</th>\n",
       "      <td>201500451445</td>\n",
       "      <td>2015-04-29 22:04:56</td>\n",
       "      <td>NaN</td>\n",
       "      <td>71</td>\n",
       "      <td>A</td>\n",
       "      <td>12A</td>\n",
       "      <td>NaN</td>\n",
       "      <td>NaN</td>\n",
       "      <td>NaN</td>\n",
       "      <td>815B</td>\n",
       "      <td>B</td>\n",
       "      <td>MT</td>\n",
       "      <td>811</td>\n",
       "      <td>5519.0</td>\n",
       "      <td>NaN</td>\n",
       "      <td>NaN</td>\n",
       "      <td>NaN</td>\n",
       "      <td>0</td>\n",
       "    </tr>\n",
       "    <tr>\n",
       "      <th>137748</th>\n",
       "      <td>202200057557</td>\n",
       "      <td>2022-01-31 12:30:48</td>\n",
       "      <td>NaN</td>\n",
       "      <td>70</td>\n",
       "      <td>A</td>\n",
       "      <td>12A</td>\n",
       "      <td>NaN</td>\n",
       "      <td>NaN</td>\n",
       "      <td>NaN</td>\n",
       "      <td>354B</td>\n",
       "      <td>A</td>\n",
       "      <td>S</td>\n",
       "      <td>335</td>\n",
       "      <td>8905.0</td>\n",
       "      <td>NaN</td>\n",
       "      <td>NaN</td>\n",
       "      <td>NaN</td>\n",
       "      <td>0</td>\n",
       "    </tr>\n",
       "    <tr>\n",
       "      <th>877772</th>\n",
       "      <td>202000274232</td>\n",
       "      <td>2020-04-04 03:59:56</td>\n",
       "      <td>NaN</td>\n",
       "      <td>70</td>\n",
       "      <td>A</td>\n",
       "      <td>6A</td>\n",
       "      <td>NaN</td>\n",
       "      <td>NaN</td>\n",
       "      <td>NaN</td>\n",
       "      <td>225C</td>\n",
       "      <td>C</td>\n",
       "      <td>E</td>\n",
       "      <td>225</td>\n",
       "      <td>1809.0</td>\n",
       "      <td>NaN</td>\n",
       "      <td>NaN</td>\n",
       "      <td>NaN</td>\n",
       "      <td>0</td>\n",
       "    </tr>\n",
       "    <tr>\n",
       "      <th>2814384</th>\n",
       "      <td>201900984707</td>\n",
       "      <td>2019-11-20 17:07:24</td>\n",
       "      <td>NaN</td>\n",
       "      <td>43</td>\n",
       "      <td>PVC</td>\n",
       "      <td>4C</td>\n",
       "      <td>NaN</td>\n",
       "      <td>NaN</td>\n",
       "      <td>NaN</td>\n",
       "      <td>315B</td>\n",
       "      <td>B</td>\n",
       "      <td>S</td>\n",
       "      <td>313</td>\n",
       "      <td>8403.0</td>\n",
       "      <td>NaN</td>\n",
       "      <td>NaN</td>\n",
       "      <td>NaN</td>\n",
       "      <td>0</td>\n",
       "    </tr>\n",
       "  </tbody>\n",
       "</table>\n",
       "<p>1141 rows × 18 columns</p>\n",
       "</div>"
      ],
      "text/plain": [
       "         Event Number       Call Received  Complaint Number Tencode  \\\n",
       "1891040  201500296004 2015-03-20 16:05:16               NaN      43   \n",
       "1055263  201801234079 2018-12-27 09:40:34      2.018107e+10      43   \n",
       "6352074  202100106242 2021-02-15 06:44:08      2.021009e+10      43   \n",
       "1414889  201500808343 2015-07-30 07:25:08      2.015072e+10      43   \n",
       "163595   202100656627 2021-10-17 14:26:56               NaN       3   \n",
       "...               ...                 ...               ...     ...   \n",
       "4060628  201800348676 2018-04-05 20:16:43               NaN      71   \n",
       "3951798  201500451445 2015-04-29 22:04:56               NaN      71   \n",
       "137748   202200057557 2022-01-31 12:30:48               NaN      70   \n",
       "877772   202000274232 2020-04-04 03:59:56               NaN      70   \n",
       "2814384  201900984707 2019-11-20 17:07:24               NaN      43   \n",
       "\n",
       "        Tencode Suffix Disposition Code  Disposition Description   Block  \\\n",
       "1891040            PJC               4C                      NaN   200.0   \n",
       "1055263             RC               1C                      NaN  5100.0   \n",
       "6352074            PMC               1C                      NaN     NaN   \n",
       "1414889             RC               1C                      NaN     NaN   \n",
       "163595               C               4C                      NaN  5100.0   \n",
       "...                ...              ...                      ...     ...   \n",
       "4060628              A               10                      NaN     NaN   \n",
       "3951798              A              12A                      NaN     NaN   \n",
       "137748               A              12A                      NaN     NaN   \n",
       "877772               A               6A                      NaN     NaN   \n",
       "2814384            PVC               4C                      NaN     NaN   \n",
       "\n",
       "        Street Name Unit Dispatched Shift Sector  Zone     RPA  Latitude  \\\n",
       "1891040   GARNER AV            713B     B      M   715  1725.0     36.27   \n",
       "1055263  HARDING PL            SAPR     A    NaN  323W     0.0     36.09   \n",
       "6352074         NaN            213A     A      E   213  1329.0       NaN   \n",
       "1414889         NaN            525A     A    NaN   NaN     NaN       NaN   \n",
       "163595   HARDING PL            327B     A    NaN  323W     0.0     36.09   \n",
       "...             ...             ...   ...    ...   ...     ...       ...   \n",
       "4060628         NaN           510B1     B      H   513  9001.0       NaN   \n",
       "3951798         NaN            815B     B     MT   811  5519.0       NaN   \n",
       "137748          NaN            354B     A      S   335  8905.0       NaN   \n",
       "877772          NaN            225C     C      E   225  1809.0       NaN   \n",
       "2814384         NaN            315B     B      S   313  8403.0       NaN   \n",
       "\n",
       "         Longitude        Mapped Location  generated_incident_yn  \n",
       "1891040    -86.708  POINT (-86.708 36.27)                      0  \n",
       "1055263    -86.688  POINT (-86.688 36.09)                      1  \n",
       "6352074        NaN                    NaN                      1  \n",
       "1414889        NaN                    NaN                      1  \n",
       "163595     -86.688  POINT (-86.688 36.09)                      0  \n",
       "...            ...                    ...                    ...  \n",
       "4060628        NaN                    NaN                      0  \n",
       "3951798        NaN                    NaN                      0  \n",
       "137748         NaN                    NaN                      0  \n",
       "877772         NaN                    NaN                      0  \n",
       "2814384        NaN                    NaN                      0  \n",
       "\n",
       "[1141 rows x 18 columns]"
      ]
     },
     "execution_count": 73,
     "metadata": {},
     "output_type": "execute_result"
    }
   ],
   "source": [
    "clean_dispo"
   ]
  },
  {
   "cell_type": "code",
   "execution_count": null,
   "id": "9dc1db8f-91d4-4e53-8369-0957572b9930",
   "metadata": {},
   "outputs": [],
   "source": [
    "ambig_df.reset_index(inplace=True)"
   ]
  },
  {
   "cell_type": "code",
   "execution_count": null,
   "id": "56ed7469-58fe-4df3-a372-ffcdb52cc02f",
   "metadata": {},
   "outputs": [
    {
     "data": {
      "text/plain": [
       "False"
      ]
     },
     "execution_count": 69,
     "metadata": {},
     "output_type": "execute_result"
    }
   ],
   "source": [
    "isinstance(ambig_df['Tencode Suffix'][1891040], float)"
   ]
  },
  {
   "cell_type": "code",
   "execution_count": null,
   "id": "c8b3484c-cf22-4a2c-b1a9-ef865aa12a64",
   "metadata": {},
   "outputs": [
    {
     "data": {
      "text/html": [
       "<div>\n",
       "<style scoped>\n",
       "    .dataframe tbody tr th:only-of-type {\n",
       "        vertical-align: middle;\n",
       "    }\n",
       "\n",
       "    .dataframe tbody tr th {\n",
       "        vertical-align: top;\n",
       "    }\n",
       "\n",
       "    .dataframe thead th {\n",
       "        text-align: right;\n",
       "    }\n",
       "</style>\n",
       "<table border=\"1\" class=\"dataframe\">\n",
       "  <thead>\n",
       "    <tr style=\"text-align: right;\">\n",
       "      <th></th>\n",
       "      <th>Event Number</th>\n",
       "      <th>Call Received</th>\n",
       "      <th>Complaint Number</th>\n",
       "      <th>Tencode</th>\n",
       "      <th>Tencode Suffix</th>\n",
       "      <th>Disposition Code</th>\n",
       "      <th>Disposition Description</th>\n",
       "      <th>Block</th>\n",
       "      <th>Street Name</th>\n",
       "      <th>Unit Dispatched</th>\n",
       "      <th>Shift</th>\n",
       "      <th>Sector</th>\n",
       "      <th>Zone</th>\n",
       "      <th>RPA</th>\n",
       "      <th>Latitude</th>\n",
       "      <th>Longitude</th>\n",
       "      <th>Mapped Location</th>\n",
       "      <th>generated_incident_yn</th>\n",
       "    </tr>\n",
       "  </thead>\n",
       "  <tbody>\n",
       "    <tr>\n",
       "      <th>1891040</th>\n",
       "      <td>201500296004</td>\n",
       "      <td>2015-03-20 16:05:16</td>\n",
       "      <td>NaN</td>\n",
       "      <td>43</td>\n",
       "      <td>PJ</td>\n",
       "      <td>4C</td>\n",
       "      <td>NaN</td>\n",
       "      <td>200.0</td>\n",
       "      <td>GARNER AV</td>\n",
       "      <td>713B</td>\n",
       "      <td>B</td>\n",
       "      <td>M</td>\n",
       "      <td>715</td>\n",
       "      <td>1725.0</td>\n",
       "      <td>36.27</td>\n",
       "      <td>-86.708</td>\n",
       "      <td>POINT (-86.708 36.27)</td>\n",
       "      <td>0</td>\n",
       "    </tr>\n",
       "    <tr>\n",
       "      <th>1055263</th>\n",
       "      <td>201801234079</td>\n",
       "      <td>2018-12-27 09:40:34</td>\n",
       "      <td>2.018107e+10</td>\n",
       "      <td>43</td>\n",
       "      <td>R</td>\n",
       "      <td>1C</td>\n",
       "      <td>NaN</td>\n",
       "      <td>5100.0</td>\n",
       "      <td>HARDING PL</td>\n",
       "      <td>SAPR</td>\n",
       "      <td>A</td>\n",
       "      <td>NaN</td>\n",
       "      <td>323W</td>\n",
       "      <td>0.0</td>\n",
       "      <td>36.09</td>\n",
       "      <td>-86.688</td>\n",
       "      <td>POINT (-86.688 36.09)</td>\n",
       "      <td>1</td>\n",
       "    </tr>\n",
       "    <tr>\n",
       "      <th>6352074</th>\n",
       "      <td>202100106242</td>\n",
       "      <td>2021-02-15 06:44:08</td>\n",
       "      <td>2.021009e+10</td>\n",
       "      <td>43</td>\n",
       "      <td>PM</td>\n",
       "      <td>1C</td>\n",
       "      <td>NaN</td>\n",
       "      <td>NaN</td>\n",
       "      <td>NaN</td>\n",
       "      <td>213A</td>\n",
       "      <td>A</td>\n",
       "      <td>E</td>\n",
       "      <td>213</td>\n",
       "      <td>1329.0</td>\n",
       "      <td>NaN</td>\n",
       "      <td>NaN</td>\n",
       "      <td>NaN</td>\n",
       "      <td>1</td>\n",
       "    </tr>\n",
       "    <tr>\n",
       "      <th>1414889</th>\n",
       "      <td>201500808343</td>\n",
       "      <td>2015-07-30 07:25:08</td>\n",
       "      <td>2.015072e+10</td>\n",
       "      <td>43</td>\n",
       "      <td>R</td>\n",
       "      <td>1C</td>\n",
       "      <td>NaN</td>\n",
       "      <td>NaN</td>\n",
       "      <td>NaN</td>\n",
       "      <td>525A</td>\n",
       "      <td>A</td>\n",
       "      <td>NaN</td>\n",
       "      <td>NaN</td>\n",
       "      <td>NaN</td>\n",
       "      <td>NaN</td>\n",
       "      <td>NaN</td>\n",
       "      <td>NaN</td>\n",
       "      <td>1</td>\n",
       "    </tr>\n",
       "    <tr>\n",
       "      <th>163595</th>\n",
       "      <td>202100656627</td>\n",
       "      <td>2021-10-17 14:26:56</td>\n",
       "      <td>NaN</td>\n",
       "      <td>3</td>\n",
       "      <td>NaN</td>\n",
       "      <td>4C</td>\n",
       "      <td>NaN</td>\n",
       "      <td>5100.0</td>\n",
       "      <td>HARDING PL</td>\n",
       "      <td>327B</td>\n",
       "      <td>A</td>\n",
       "      <td>NaN</td>\n",
       "      <td>323W</td>\n",
       "      <td>0.0</td>\n",
       "      <td>36.09</td>\n",
       "      <td>-86.688</td>\n",
       "      <td>POINT (-86.688 36.09)</td>\n",
       "      <td>0</td>\n",
       "    </tr>\n",
       "    <tr>\n",
       "      <th>...</th>\n",
       "      <td>...</td>\n",
       "      <td>...</td>\n",
       "      <td>...</td>\n",
       "      <td>...</td>\n",
       "      <td>...</td>\n",
       "      <td>...</td>\n",
       "      <td>...</td>\n",
       "      <td>...</td>\n",
       "      <td>...</td>\n",
       "      <td>...</td>\n",
       "      <td>...</td>\n",
       "      <td>...</td>\n",
       "      <td>...</td>\n",
       "      <td>...</td>\n",
       "      <td>...</td>\n",
       "      <td>...</td>\n",
       "      <td>...</td>\n",
       "      <td>...</td>\n",
       "    </tr>\n",
       "    <tr>\n",
       "      <th>4060628</th>\n",
       "      <td>201800348676</td>\n",
       "      <td>2018-04-05 20:16:43</td>\n",
       "      <td>NaN</td>\n",
       "      <td>71</td>\n",
       "      <td>A</td>\n",
       "      <td>10A</td>\n",
       "      <td>NaN</td>\n",
       "      <td>NaN</td>\n",
       "      <td>NaN</td>\n",
       "      <td>510B1</td>\n",
       "      <td>B</td>\n",
       "      <td>H</td>\n",
       "      <td>513</td>\n",
       "      <td>9001.0</td>\n",
       "      <td>NaN</td>\n",
       "      <td>NaN</td>\n",
       "      <td>NaN</td>\n",
       "      <td>0</td>\n",
       "    </tr>\n",
       "    <tr>\n",
       "      <th>3951798</th>\n",
       "      <td>201500451445</td>\n",
       "      <td>2015-04-29 22:04:56</td>\n",
       "      <td>NaN</td>\n",
       "      <td>71</td>\n",
       "      <td>A</td>\n",
       "      <td>12A</td>\n",
       "      <td>NaN</td>\n",
       "      <td>NaN</td>\n",
       "      <td>NaN</td>\n",
       "      <td>815B</td>\n",
       "      <td>B</td>\n",
       "      <td>MT</td>\n",
       "      <td>811</td>\n",
       "      <td>5519.0</td>\n",
       "      <td>NaN</td>\n",
       "      <td>NaN</td>\n",
       "      <td>NaN</td>\n",
       "      <td>0</td>\n",
       "    </tr>\n",
       "    <tr>\n",
       "      <th>137748</th>\n",
       "      <td>202200057557</td>\n",
       "      <td>2022-01-31 12:30:48</td>\n",
       "      <td>NaN</td>\n",
       "      <td>70</td>\n",
       "      <td>A</td>\n",
       "      <td>12A</td>\n",
       "      <td>NaN</td>\n",
       "      <td>NaN</td>\n",
       "      <td>NaN</td>\n",
       "      <td>354B</td>\n",
       "      <td>A</td>\n",
       "      <td>S</td>\n",
       "      <td>335</td>\n",
       "      <td>8905.0</td>\n",
       "      <td>NaN</td>\n",
       "      <td>NaN</td>\n",
       "      <td>NaN</td>\n",
       "      <td>0</td>\n",
       "    </tr>\n",
       "    <tr>\n",
       "      <th>877772</th>\n",
       "      <td>202000274232</td>\n",
       "      <td>2020-04-04 03:59:56</td>\n",
       "      <td>NaN</td>\n",
       "      <td>70</td>\n",
       "      <td>A</td>\n",
       "      <td>6A</td>\n",
       "      <td>NaN</td>\n",
       "      <td>NaN</td>\n",
       "      <td>NaN</td>\n",
       "      <td>225C</td>\n",
       "      <td>C</td>\n",
       "      <td>E</td>\n",
       "      <td>225</td>\n",
       "      <td>1809.0</td>\n",
       "      <td>NaN</td>\n",
       "      <td>NaN</td>\n",
       "      <td>NaN</td>\n",
       "      <td>0</td>\n",
       "    </tr>\n",
       "    <tr>\n",
       "      <th>2814384</th>\n",
       "      <td>201900984707</td>\n",
       "      <td>2019-11-20 17:07:24</td>\n",
       "      <td>NaN</td>\n",
       "      <td>43</td>\n",
       "      <td>PV</td>\n",
       "      <td>4C</td>\n",
       "      <td>NaN</td>\n",
       "      <td>NaN</td>\n",
       "      <td>NaN</td>\n",
       "      <td>315B</td>\n",
       "      <td>B</td>\n",
       "      <td>S</td>\n",
       "      <td>313</td>\n",
       "      <td>8403.0</td>\n",
       "      <td>NaN</td>\n",
       "      <td>NaN</td>\n",
       "      <td>NaN</td>\n",
       "      <td>0</td>\n",
       "    </tr>\n",
       "  </tbody>\n",
       "</table>\n",
       "<p>1141 rows × 18 columns</p>\n",
       "</div>"
      ],
      "text/plain": [
       "         Event Number       Call Received  Complaint Number Tencode  \\\n",
       "1891040  201500296004 2015-03-20 16:05:16               NaN      43   \n",
       "1055263  201801234079 2018-12-27 09:40:34      2.018107e+10      43   \n",
       "6352074  202100106242 2021-02-15 06:44:08      2.021009e+10      43   \n",
       "1414889  201500808343 2015-07-30 07:25:08      2.015072e+10      43   \n",
       "163595   202100656627 2021-10-17 14:26:56               NaN       3   \n",
       "...               ...                 ...               ...     ...   \n",
       "4060628  201800348676 2018-04-05 20:16:43               NaN      71   \n",
       "3951798  201500451445 2015-04-29 22:04:56               NaN      71   \n",
       "137748   202200057557 2022-01-31 12:30:48               NaN      70   \n",
       "877772   202000274232 2020-04-04 03:59:56               NaN      70   \n",
       "2814384  201900984707 2019-11-20 17:07:24               NaN      43   \n",
       "\n",
       "        Tencode Suffix Disposition Code Disposition Description   Block  \\\n",
       "1891040             PJ               4C                     NaN   200.0   \n",
       "1055263              R               1C                     NaN  5100.0   \n",
       "6352074             PM               1C                     NaN     NaN   \n",
       "1414889              R               1C                     NaN     NaN   \n",
       "163595             NaN               4C                     NaN  5100.0   \n",
       "...                ...              ...                     ...     ...   \n",
       "4060628              A              10A                     NaN     NaN   \n",
       "3951798              A              12A                     NaN     NaN   \n",
       "137748               A              12A                     NaN     NaN   \n",
       "877772               A               6A                     NaN     NaN   \n",
       "2814384             PV               4C                     NaN     NaN   \n",
       "\n",
       "        Street Name Unit Dispatched Shift Sector  Zone     RPA  Latitude  \\\n",
       "1891040   GARNER AV            713B     B      M   715  1725.0     36.27   \n",
       "1055263  HARDING PL            SAPR     A    NaN  323W     0.0     36.09   \n",
       "6352074         NaN            213A     A      E   213  1329.0       NaN   \n",
       "1414889         NaN            525A     A    NaN   NaN     NaN       NaN   \n",
       "163595   HARDING PL            327B     A    NaN  323W     0.0     36.09   \n",
       "...             ...             ...   ...    ...   ...     ...       ...   \n",
       "4060628         NaN           510B1     B      H   513  9001.0       NaN   \n",
       "3951798         NaN            815B     B     MT   811  5519.0       NaN   \n",
       "137748          NaN            354B     A      S   335  8905.0       NaN   \n",
       "877772          NaN            225C     C      E   225  1809.0       NaN   \n",
       "2814384         NaN            315B     B      S   313  8403.0       NaN   \n",
       "\n",
       "         Longitude        Mapped Location  generated_incident_yn  \n",
       "1891040    -86.708  POINT (-86.708 36.27)                      0  \n",
       "1055263    -86.688  POINT (-86.688 36.09)                      1  \n",
       "6352074        NaN                    NaN                      1  \n",
       "1414889        NaN                    NaN                      1  \n",
       "163595     -86.688  POINT (-86.688 36.09)                      0  \n",
       "...            ...                    ...                    ...  \n",
       "4060628        NaN                    NaN                      0  \n",
       "3951798        NaN                    NaN                      0  \n",
       "137748         NaN                    NaN                      0  \n",
       "877772         NaN                    NaN                      0  \n",
       "2814384        NaN                    NaN                      0  \n",
       "\n",
       "[1141 rows x 18 columns]"
      ]
     },
     "execution_count": 26,
     "metadata": {},
     "output_type": "execute_result"
    }
   ],
   "source": [
    "ambig_df"
   ]
  },
  {
   "cell_type": "code",
   "execution_count": null,
   "id": "effa7473-ec07-4c8f-8ae9-97dd7b5f2bb0",
   "metadata": {},
   "outputs": [],
   "source": [
    "pd.set_option(\"display.max_rows\", 100)"
   ]
  },
  {
   "cell_type": "code",
   "execution_count": null,
   "id": "9f9b03c0-5307-4a04-a556-7a3228d340ef",
   "metadata": {},
   "outputs": [],
   "source": [
    "samp_df['Disposition Code'].value_counts()"
   ]
  },
  {
   "cell_type": "code",
   "execution_count": null,
   "id": "52b60709-1cd3-4c64-8fc9-103c8824fd88",
   "metadata": {},
   "outputs": [],
   "source": [
    "pd.reset_option(\"display.max_rows\")"
   ]
  },
  {
   "cell_type": "code",
   "execution_count": null,
   "id": "ddd2d16b-523e-4d8c-a6c8-3a91560a1fe9",
   "metadata": {},
   "outputs": [],
   "source": [
    "ambig_df = samp_df[samp_df['Disposition Code'].str.contains('A|C|O|P', case=False, regex=True, na=False)]"
   ]
  },
  {
   "cell_type": "code",
   "execution_count": 78,
   "id": "6c7d8f0d-e29d-4ae5-a7c0-1a77d6e5bfb9",
   "metadata": {},
   "outputs": [],
   "source": [
    "samp_df = samp_df.apply(disposition_code_clean, axis=1)"
   ]
  },
  {
   "cell_type": "code",
   "execution_count": 79,
   "id": "bca9c3b6-9276-4353-9091-6ff6dfb7250c",
   "metadata": {},
   "outputs": [
    {
     "data": {
      "text/html": [
       "<div>\n",
       "<style scoped>\n",
       "    .dataframe tbody tr th:only-of-type {\n",
       "        vertical-align: middle;\n",
       "    }\n",
       "\n",
       "    .dataframe tbody tr th {\n",
       "        vertical-align: top;\n",
       "    }\n",
       "\n",
       "    .dataframe thead th {\n",
       "        text-align: right;\n",
       "    }\n",
       "</style>\n",
       "<table border=\"1\" class=\"dataframe\">\n",
       "  <thead>\n",
       "    <tr style=\"text-align: right;\">\n",
       "      <th></th>\n",
       "      <th>Event Number</th>\n",
       "      <th>Call Received</th>\n",
       "      <th>Complaint Number</th>\n",
       "      <th>Tencode</th>\n",
       "      <th>Tencode Suffix</th>\n",
       "      <th>Disposition Code</th>\n",
       "      <th>Disposition Description</th>\n",
       "      <th>Block</th>\n",
       "      <th>Street Name</th>\n",
       "      <th>Unit Dispatched</th>\n",
       "      <th>Shift</th>\n",
       "      <th>Sector</th>\n",
       "      <th>Zone</th>\n",
       "      <th>RPA</th>\n",
       "      <th>Latitude</th>\n",
       "      <th>Longitude</th>\n",
       "      <th>Mapped Location</th>\n",
       "      <th>generated_incident_yn</th>\n",
       "    </tr>\n",
       "  </thead>\n",
       "  <tbody>\n",
       "    <tr>\n",
       "      <th>5797724</th>\n",
       "      <td>201601214292</td>\n",
       "      <td>2016-12-01 16:51:05</td>\n",
       "      <td>NaN</td>\n",
       "      <td>88</td>\n",
       "      <td>PW</td>\n",
       "      <td>5</td>\n",
       "      <td>GONE ON ARRIVAL</td>\n",
       "      <td>NaN</td>\n",
       "      <td>NaN</td>\n",
       "      <td>322B</td>\n",
       "      <td>B</td>\n",
       "      <td>S</td>\n",
       "      <td>327</td>\n",
       "      <td>8861.0</td>\n",
       "      <td>NaN</td>\n",
       "      <td>NaN</td>\n",
       "      <td>NaN</td>\n",
       "      <td>0</td>\n",
       "    </tr>\n",
       "    <tr>\n",
       "      <th>6541170</th>\n",
       "      <td>202100376271</td>\n",
       "      <td>2021-06-10 21:08:23</td>\n",
       "      <td>NaN</td>\n",
       "      <td>43</td>\n",
       "      <td>PV</td>\n",
       "      <td>5</td>\n",
       "      <td>GONE ON ARRIVAL</td>\n",
       "      <td>NaN</td>\n",
       "      <td>NaN</td>\n",
       "      <td>5P66</td>\n",
       "      <td>B</td>\n",
       "      <td>H</td>\n",
       "      <td>535</td>\n",
       "      <td>8937.0</td>\n",
       "      <td>NaN</td>\n",
       "      <td>NaN</td>\n",
       "      <td>NaN</td>\n",
       "      <td>0</td>\n",
       "    </tr>\n",
       "    <tr>\n",
       "      <th>827216</th>\n",
       "      <td>201600371223</td>\n",
       "      <td>2016-04-10 20:40:50</td>\n",
       "      <td>NaN</td>\n",
       "      <td>93</td>\n",
       "      <td>T</td>\n",
       "      <td>9</td>\n",
       "      <td>NaN</td>\n",
       "      <td>NaN</td>\n",
       "      <td>BELL RD</td>\n",
       "      <td>332B</td>\n",
       "      <td>B</td>\n",
       "      <td>335</td>\n",
       "      <td>NaN</td>\n",
       "      <td>8721.0</td>\n",
       "      <td>36.045</td>\n",
       "      <td>-86.662</td>\n",
       "      <td>POINT (-86.662 36.045)</td>\n",
       "      <td>0</td>\n",
       "    </tr>\n",
       "    <tr>\n",
       "      <th>503265</th>\n",
       "      <td>201900487756</td>\n",
       "      <td>2019-06-03 10:42:15</td>\n",
       "      <td>2.019042e+10</td>\n",
       "      <td>71</td>\n",
       "      <td>R</td>\n",
       "      <td>1</td>\n",
       "      <td>M.P.D. REPORT COMPLED</td>\n",
       "      <td>NaN</td>\n",
       "      <td>NaN</td>\n",
       "      <td>811A</td>\n",
       "      <td>A</td>\n",
       "      <td>NaN</td>\n",
       "      <td>NaN</td>\n",
       "      <td>NaN</td>\n",
       "      <td>NaN</td>\n",
       "      <td>NaN</td>\n",
       "      <td>NaN</td>\n",
       "      <td>1</td>\n",
       "    </tr>\n",
       "    <tr>\n",
       "      <th>4525988</th>\n",
       "      <td>202000445523</td>\n",
       "      <td>2020-06-05 00:59:52</td>\n",
       "      <td>NaN</td>\n",
       "      <td>83</td>\n",
       "      <td>P</td>\n",
       "      <td>11</td>\n",
       "      <td>DISREGARD / SIGNAL 9</td>\n",
       "      <td>NaN</td>\n",
       "      <td>NaN</td>\n",
       "      <td>NaN</td>\n",
       "      <td>C</td>\n",
       "      <td>S</td>\n",
       "      <td>321</td>\n",
       "      <td>8445.0</td>\n",
       "      <td>NaN</td>\n",
       "      <td>NaN</td>\n",
       "      <td>NaN</td>\n",
       "      <td>0</td>\n",
       "    </tr>\n",
       "    <tr>\n",
       "      <th>...</th>\n",
       "      <td>...</td>\n",
       "      <td>...</td>\n",
       "      <td>...</td>\n",
       "      <td>...</td>\n",
       "      <td>...</td>\n",
       "      <td>...</td>\n",
       "      <td>...</td>\n",
       "      <td>...</td>\n",
       "      <td>...</td>\n",
       "      <td>...</td>\n",
       "      <td>...</td>\n",
       "      <td>...</td>\n",
       "      <td>...</td>\n",
       "      <td>...</td>\n",
       "      <td>...</td>\n",
       "      <td>...</td>\n",
       "      <td>...</td>\n",
       "      <td>...</td>\n",
       "    </tr>\n",
       "    <tr>\n",
       "      <th>1624901</th>\n",
       "      <td>201700282688</td>\n",
       "      <td>2017-03-20 02:56:17</td>\n",
       "      <td>NaN</td>\n",
       "      <td>43</td>\n",
       "      <td>PW</td>\n",
       "      <td>5</td>\n",
       "      <td>NaN</td>\n",
       "      <td>300.0</td>\n",
       "      <td>MAY DR</td>\n",
       "      <td>713C</td>\n",
       "      <td>C</td>\n",
       "      <td>NaN</td>\n",
       "      <td>NaN</td>\n",
       "      <td>NaN</td>\n",
       "      <td>NaN</td>\n",
       "      <td>NaN</td>\n",
       "      <td>NaN</td>\n",
       "      <td>0</td>\n",
       "    </tr>\n",
       "    <tr>\n",
       "      <th>4544265</th>\n",
       "      <td>201700096670</td>\n",
       "      <td>2017-01-27 13:07:50</td>\n",
       "      <td>NaN</td>\n",
       "      <td>40</td>\n",
       "      <td>P</td>\n",
       "      <td>4</td>\n",
       "      <td>ASSISTED CITIZEN</td>\n",
       "      <td>NaN</td>\n",
       "      <td>NaN</td>\n",
       "      <td>831A</td>\n",
       "      <td>A</td>\n",
       "      <td>MT</td>\n",
       "      <td>825</td>\n",
       "      <td>7111.0</td>\n",
       "      <td>NaN</td>\n",
       "      <td>NaN</td>\n",
       "      <td>NaN</td>\n",
       "      <td>0</td>\n",
       "    </tr>\n",
       "    <tr>\n",
       "      <th>575371</th>\n",
       "      <td>201500412850</td>\n",
       "      <td>2015-04-20 12:59:47</td>\n",
       "      <td>NaN</td>\n",
       "      <td>43</td>\n",
       "      <td>A</td>\n",
       "      <td>11</td>\n",
       "      <td>DISREGARD / SIGNAL 9</td>\n",
       "      <td>NaN</td>\n",
       "      <td>NaN</td>\n",
       "      <td>331A</td>\n",
       "      <td>A</td>\n",
       "      <td>S</td>\n",
       "      <td>337</td>\n",
       "      <td>8905.0</td>\n",
       "      <td>NaN</td>\n",
       "      <td>NaN</td>\n",
       "      <td>NaN</td>\n",
       "      <td>0</td>\n",
       "    </tr>\n",
       "    <tr>\n",
       "      <th>5811427</th>\n",
       "      <td>201700214083</td>\n",
       "      <td>2017-02-28 07:58:57</td>\n",
       "      <td>NaN</td>\n",
       "      <td>93</td>\n",
       "      <td>T</td>\n",
       "      <td>3</td>\n",
       "      <td>NaN</td>\n",
       "      <td>NaN</td>\n",
       "      <td>NaN</td>\n",
       "      <td>715B</td>\n",
       "      <td>A</td>\n",
       "      <td>S</td>\n",
       "      <td>331</td>\n",
       "      <td>8767.0</td>\n",
       "      <td>NaN</td>\n",
       "      <td>NaN</td>\n",
       "      <td>NaN</td>\n",
       "      <td>0</td>\n",
       "    </tr>\n",
       "    <tr>\n",
       "      <th>606118</th>\n",
       "      <td>201800826309</td>\n",
       "      <td>2018-08-21 02:30:21</td>\n",
       "      <td>NaN</td>\n",
       "      <td>96</td>\n",
       "      <td>NaN</td>\n",
       "      <td>12</td>\n",
       "      <td>LOCATION/BUILDING SECURE</td>\n",
       "      <td>NaN</td>\n",
       "      <td>NaN</td>\n",
       "      <td>121C</td>\n",
       "      <td>C</td>\n",
       "      <td>W</td>\n",
       "      <td>113</td>\n",
       "      <td>6209.0</td>\n",
       "      <td>NaN</td>\n",
       "      <td>NaN</td>\n",
       "      <td>NaN</td>\n",
       "      <td>0</td>\n",
       "    </tr>\n",
       "  </tbody>\n",
       "</table>\n",
       "<p>65701 rows × 18 columns</p>\n",
       "</div>"
      ],
      "text/plain": [
       "         Event Number       Call Received  Complaint Number Tencode  \\\n",
       "5797724  201601214292 2016-12-01 16:51:05               NaN      88   \n",
       "6541170  202100376271 2021-06-10 21:08:23               NaN      43   \n",
       "827216   201600371223 2016-04-10 20:40:50               NaN      93   \n",
       "503265   201900487756 2019-06-03 10:42:15      2.019042e+10      71   \n",
       "4525988  202000445523 2020-06-05 00:59:52               NaN      83   \n",
       "...               ...                 ...               ...     ...   \n",
       "1624901  201700282688 2017-03-20 02:56:17               NaN      43   \n",
       "4544265  201700096670 2017-01-27 13:07:50               NaN      40   \n",
       "575371   201500412850 2015-04-20 12:59:47               NaN      43   \n",
       "5811427  201700214083 2017-02-28 07:58:57               NaN      93   \n",
       "606118   201800826309 2018-08-21 02:30:21               NaN      96   \n",
       "\n",
       "        Tencode Suffix Disposition Code   Disposition Description  Block  \\\n",
       "5797724             PW                5           GONE ON ARRIVAL    NaN   \n",
       "6541170             PV                5           GONE ON ARRIVAL    NaN   \n",
       "827216               T                9                       NaN    NaN   \n",
       "503265               R                1     M.P.D. REPORT COMPLED    NaN   \n",
       "4525988              P               11      DISREGARD / SIGNAL 9    NaN   \n",
       "...                ...              ...                       ...    ...   \n",
       "1624901             PW                5                       NaN  300.0   \n",
       "4544265              P                4          ASSISTED CITIZEN    NaN   \n",
       "575371               A               11      DISREGARD / SIGNAL 9    NaN   \n",
       "5811427              T                3                       NaN    NaN   \n",
       "606118             NaN               12  LOCATION/BUILDING SECURE    NaN   \n",
       "\n",
       "        Street Name Unit Dispatched Shift Sector Zone     RPA  Latitude  \\\n",
       "5797724         NaN            322B     B      S  327  8861.0       NaN   \n",
       "6541170         NaN            5P66     B      H  535  8937.0       NaN   \n",
       "827216      BELL RD            332B     B    335  NaN  8721.0    36.045   \n",
       "503265          NaN            811A     A    NaN  NaN     NaN       NaN   \n",
       "4525988         NaN             NaN     C      S  321  8445.0       NaN   \n",
       "...             ...             ...   ...    ...  ...     ...       ...   \n",
       "1624901      MAY DR            713C     C    NaN  NaN     NaN       NaN   \n",
       "4544265         NaN            831A     A     MT  825  7111.0       NaN   \n",
       "575371          NaN            331A     A      S  337  8905.0       NaN   \n",
       "5811427         NaN            715B     A      S  331  8767.0       NaN   \n",
       "606118          NaN            121C     C      W  113  6209.0       NaN   \n",
       "\n",
       "         Longitude         Mapped Location  generated_incident_yn  \n",
       "5797724        NaN                     NaN                      0  \n",
       "6541170        NaN                     NaN                      0  \n",
       "827216     -86.662  POINT (-86.662 36.045)                      0  \n",
       "503265         NaN                     NaN                      1  \n",
       "4525988        NaN                     NaN                      0  \n",
       "...            ...                     ...                    ...  \n",
       "1624901        NaN                     NaN                      0  \n",
       "4544265        NaN                     NaN                      0  \n",
       "575371         NaN                     NaN                      0  \n",
       "5811427        NaN                     NaN                      0  \n",
       "606118         NaN                     NaN                      0  \n",
       "\n",
       "[65701 rows x 18 columns]"
      ]
     },
     "execution_count": 79,
     "metadata": {},
     "output_type": "execute_result"
    }
   ],
   "source": [
    "samp_df"
   ]
  },
  {
   "cell_type": "markdown",
   "id": "a52a3e78-5da5-44af-bbd0-9a6cad9eb922",
   "metadata": {
    "jp-MarkdownHeadingCollapsed": true,
    "tags": []
   },
   "source": [
    "#### 'Disposition Description'"
   ]
  },
  {
   "cell_type": "markdown",
   "id": "ff22f6af-f658-4d02-87c8-27ef38bf0a39",
   "metadata": {},
   "source": [
    "* Like the other two descriptive columns, this one doesn't hold information that's not already present in the metadata pdf. I'll remove."
   ]
  },
  {
   "cell_type": "code",
   "execution_count": 81,
   "id": "2cf6d272-72ff-41dd-886e-a8f6e3c4ad0f",
   "metadata": {},
   "outputs": [
    {
     "data": {
      "text/plain": [
       "LOCATION/BUILDING SECURE         9374\n",
       "ASSISTED CITIZEN                 8991\n",
       "DISREGARD / SIGNAL 9             7710\n",
       "COMMUNITY POLICING               7038\n",
       "ASSISTED OTHER UNIT              4862\n",
       "M.P.D. REPORT COMPLED            4631\n",
       "GONE ON ARRIVAL                  3459\n",
       "SUBJECT WARNED                   2113\n",
       "NO RESPONSE                      1322\n",
       "CITATION - TRAFFIC                644\n",
       "FALSE CALL                        611\n",
       "ARREST, CUSTODIAL OR CITATION     228\n",
       "ASSISTANCE REFUSED                206\n",
       "ADVISED IN CIVIL CASE             144\n",
       "ADVISORY / NOTICE FORM GIVEN       47\n",
       "Name: Disposition Description, dtype: int64"
      ]
     },
     "execution_count": 81,
     "metadata": {},
     "output_type": "execute_result"
    }
   ],
   "source": [
    "samp_df['Disposition Description'].value_counts()"
   ]
  },
  {
   "cell_type": "code",
   "execution_count": 82,
   "id": "639b8af0-c02f-4e82-9f04-e5ccb1ae0938",
   "metadata": {},
   "outputs": [],
   "source": [
    "samp_df = samp_df.drop('Disposition Description', axis=1)"
   ]
  },
  {
   "cell_type": "code",
   "execution_count": 83,
   "id": "40767360-9d9e-4559-a203-abfedc134594",
   "metadata": {},
   "outputs": [
    {
     "data": {
      "text/plain": [
       "(65701, 17)"
      ]
     },
     "execution_count": 83,
     "metadata": {},
     "output_type": "execute_result"
    }
   ],
   "source": [
    "samp_df.shape"
   ]
  },
  {
   "cell_type": "markdown",
   "id": "1c562b50-50ba-4961-93f2-d30c7d518763",
   "metadata": {
    "jp-MarkdownHeadingCollapsed": true,
    "tags": []
   },
   "source": [
    "#### 'Block'"
   ]
  },
  {
   "cell_type": "markdown",
   "id": "39ccf3c9-97e6-4521-b34f-9e8e34a63d92",
   "metadata": {},
   "source": [
    "* It appears that most of the 'Block' column is left blank, but there may be interesting location information there, so I'll keep for now."
   ]
  },
  {
   "cell_type": "code",
   "execution_count": 85,
   "id": "37560098-ad78-4ee4-9605-dd3adef0cc87",
   "metadata": {},
   "outputs": [
    {
     "data": {
      "text/plain": [
       "True     50710\n",
       "False    14991\n",
       "Name: Block, dtype: int64"
      ]
     },
     "execution_count": 85,
     "metadata": {},
     "output_type": "execute_result"
    }
   ],
   "source": [
    "samp_df['Block'].isna().value_counts()"
   ]
  },
  {
   "cell_type": "code",
   "execution_count": 86,
   "id": "c8543e81-0e9d-4b85-a6a9-f47e07b09555",
   "metadata": {},
   "outputs": [
    {
     "data": {
      "text/plain": [
       "400.0      962\n",
       "300.0      906\n",
       "100.0      794\n",
       "200.0      705\n",
       "600.0      536\n",
       "          ... \n",
       "8400.0       2\n",
       "8900.0       2\n",
       "15500.0      1\n",
       "8700.0       1\n",
       "12900.0      1\n",
       "Name: Block, Length: 96, dtype: int64"
      ]
     },
     "execution_count": 86,
     "metadata": {},
     "output_type": "execute_result"
    }
   ],
   "source": [
    "samp_df['Block'].value_counts()"
   ]
  },
  {
   "cell_type": "markdown",
   "id": "c35fd591-de17-4357-9524-6f239e52aa58",
   "metadata": {
    "jp-MarkdownHeadingCollapsed": true,
    "tags": []
   },
   "source": [
    "#### 'Street Name'"
   ]
  },
  {
   "cell_type": "markdown",
   "id": "fdc2e3f7-d996-4d8a-9428-31a174cc6619",
   "metadata": {},
   "source": [
    "* As with the block, many records don't include the street name, but enough do, and the information could be valuable enough, that I'll keep the column for now."
   ]
  },
  {
   "cell_type": "code",
   "execution_count": 89,
   "id": "00a131d3-a367-422b-81df-1906f7ce37a7",
   "metadata": {},
   "outputs": [
    {
     "data": {
      "text/plain": [
       "True     47987\n",
       "False    17714\n",
       "Name: Street Name, dtype: int64"
      ]
     },
     "execution_count": 89,
     "metadata": {},
     "output_type": "execute_result"
    }
   ],
   "source": [
    "samp_df['Street Name'].isna().value_counts()"
   ]
  },
  {
   "cell_type": "code",
   "execution_count": 87,
   "id": "8fc43d7a-bc02-4901-99dc-515c16a3fde7",
   "metadata": {},
   "outputs": [
    {
     "data": {
      "text/plain": [
       "OLD HICKORY BLVD      964\n",
       "CHARLOTTE PKE         709\n",
       "MURFREESBORO PKE      559\n",
       "BELL RD               555\n",
       "LEBANON PKE           534\n",
       "                     ... \n",
       "GASSER DR               1\n",
       "SELLS DR                1\n",
       "MM 32 4 I24 W           1\n",
       "CRESCENT VALLEY LN      1\n",
       "APEX ST                 1\n",
       "Name: Street Name, Length: 1456, dtype: int64"
      ]
     },
     "execution_count": 87,
     "metadata": {},
     "output_type": "execute_result"
    }
   ],
   "source": [
    "samp_df['Street Name'].value_counts()"
   ]
  },
  {
   "cell_type": "markdown",
   "id": "83f60a8f-bf92-40cc-940a-868a6cdc7ad7",
   "metadata": {
    "jp-MarkdownHeadingCollapsed": true,
    "tags": []
   },
   "source": [
    "#### 'Unit Dispatched'"
   ]
  },
  {
   "cell_type": "markdown",
   "id": "d8b9e603-fce9-4b71-9712-25ba78289531",
   "metadata": {},
   "source": [
    "* Since I know nothing about the units (for example, what the codes mean, or which areas they cover), I'll remove this column."
   ]
  },
  {
   "cell_type": "code",
   "execution_count": 90,
   "id": "d001358a-a2d0-468b-8a13-80f7bf5d742d",
   "metadata": {},
   "outputs": [
    {
     "data": {
      "text/plain": [
       "125C     351\n",
       "121C     269\n",
       "423C     268\n",
       "815C     264\n",
       "421C     260\n",
       "        ... \n",
       "35S45      1\n",
       "541C9      1\n",
       "620B9      1\n",
       "4D54       1\n",
       "1E17       1\n",
       "Name: Unit Dispatched, Length: 2364, dtype: int64"
      ]
     },
     "execution_count": 90,
     "metadata": {},
     "output_type": "execute_result"
    }
   ],
   "source": [
    "samp_df['Unit Dispatched'].value_counts()"
   ]
  },
  {
   "cell_type": "code",
   "execution_count": 91,
   "id": "55f383b3-a2fd-4ebf-b0fd-64f0370fdbe9",
   "metadata": {},
   "outputs": [],
   "source": [
    "samp_df = samp_df.drop('Unit Dispatched', axis=1)"
   ]
  },
  {
   "cell_type": "markdown",
   "id": "0e4f3b36-688d-458e-8e19-a409f135b143",
   "metadata": {
    "jp-MarkdownHeadingCollapsed": true,
    "tags": []
   },
   "source": [
    "#### 'Shift'"
   ]
  },
  {
   "cell_type": "markdown",
   "id": "a0d5372e-04a1-4673-86e0-4a70f5d4e11c",
   "metadata": {},
   "source": [
    "* This feature sorts the times of the call into three groups: A (daytime), B (evening), and C (night). Even though this information could be gleaned from the 'Call Received' feature, it may be a time-saver to keep this simple summary column. I'll update it to a pandas categorical to save some space."
   ]
  },
  {
   "cell_type": "code",
   "execution_count": 93,
   "id": "3dd85df6-29a9-48db-9341-a1883fb0e637",
   "metadata": {},
   "outputs": [
    {
     "data": {
      "text/plain": [
       "False    65701\n",
       "Name: Call Received, dtype: int64"
      ]
     },
     "execution_count": 93,
     "metadata": {},
     "output_type": "execute_result"
    }
   ],
   "source": [
    "samp_df['Call Received'].isna().value_counts()"
   ]
  },
  {
   "cell_type": "code",
   "execution_count": 92,
   "id": "d348f891-5d34-44a7-99b5-a6ae455a5c83",
   "metadata": {},
   "outputs": [
    {
     "data": {
      "text/plain": [
       "A    25178\n",
       "B    24712\n",
       "C    15811\n",
       "Name: Shift, dtype: int64"
      ]
     },
     "execution_count": 92,
     "metadata": {},
     "output_type": "execute_result"
    }
   ],
   "source": [
    "samp_df['Shift'].value_counts()"
   ]
  },
  {
   "cell_type": "code",
   "execution_count": 94,
   "id": "f86d4486-301d-4af5-bbef-f45e308a0e7d",
   "metadata": {},
   "outputs": [],
   "source": [
    "samp_df['Shift'] = samp_df['Shift'].astype('category')"
   ]
  },
  {
   "cell_type": "markdown",
   "id": "bb447645-2292-42a6-b5aa-c9d59e2837c3",
   "metadata": {
    "jp-MarkdownHeadingCollapsed": true,
    "tags": []
   },
   "source": [
    "#### 'Sector' and 'Zone'"
   ]
  },
  {
   "cell_type": "markdown",
   "id": "2589e693-ccc4-4705-bd8f-91a58ec02414",
   "metadata": {},
   "source": [
    "* This should be one of only a handful of letters: C, E, H, M, MT, N, S, W. My hypothesis is that there are some zone codes in this column, and clearly there are some typos as well. Let's clean it at the same time as the zone!\n",
    "\n",
    "* The zone must be a 3-digit numeral beginning with 1-9.\n",
    "\n",
    "* The first digit of the zone code applies to the sector as follows:\n",
    "    {'1': 'W',\n",
    "    '2': 'E',\n",
    "    '3': 'S',\n",
    "    '4': 'C',\n",
    "    '5': 'H',\n",
    "    '6': 'N',\n",
    "    '7': 'M',\n",
    "    '8': 'MH'\n",
    "    }"
   ]
  },
  {
   "cell_type": "code",
   "execution_count": 157,
   "id": "8a4b1a6c-2a41-4ec1-8756-afecee7b691a",
   "metadata": {},
   "outputs": [],
   "source": [
    "def sector_and_zone_clean(row):\n",
    "    \n",
    "    zone_to_sect_dct = {'1': 'W',\n",
    "                        '2': 'E',\n",
    "                        '3': 'S',\n",
    "                        '4': 'C',\n",
    "                        '5': 'H',\n",
    "                        '6': 'N',\n",
    "                        '7': 'M',\n",
    "                        '8': 'MH'\n",
    "                       }\n",
    "    \n",
    "    # this dict won't catch all typos (with more time, I'd throw some regex at it haha!), but it will help\n",
    "    typo_dct = {'TE': 'E',\n",
    "                'PCW': 'W',\n",
    "                'ECC': 'C',\n",
    "                'CENTRA': 'C',\n",
    "                'CW': 'W',\n",
    "                'HERMIT': 'H',\n",
    "                'SOUTH': 'S',\n",
    "                'MADISO': 'M',\n",
    "                'EAST': 'E',\n",
    "                'WEST': 'W',\n",
    "                'NORTH': 'N',\n",
    "                'MIDTOW': 'MH'\n",
    "               }\n",
    "    \n",
    "    \n",
    "    # First test for nan (the zone or sector is a float if it is nan, otherwise it's a str).\n",
    "    if isinstance(row['Sector'], float) and isinstance(row['Zone'], float):\n",
    "        # both sector and zone are nans\n",
    "        return row\n",
    "    elif isinstance(row['Sector'], float):\n",
    "        # sector is a nan\n",
    "        sector_letter = ''\n",
    "        if len(row['Zone']) > 3:\n",
    "            # zone may include the sector letter(s)\n",
    "            if row['Zone'][-2].isnumeric() and row['Zone'][-1].isalpha():\n",
    "                # only the final char is alphabetic\n",
    "                if row['Zone'][-1] in zone_to_sect_dct.values():\n",
    "                    sector_letter = row['Zone'][-1]\n",
    "                    zone_number = ''\n",
    "                else:\n",
    "                    zone_number = row['Zone'][:3]\n",
    "            elif row['Zone'][-2].isalpha():\n",
    "                # the final two chars are alphabetic\n",
    "                if row['Zone'][-2:].upper() == 'MH':\n",
    "                    sector_letter = 'MH'\n",
    "                \n",
    "                if row['Zone'][:3].isnumeric():\n",
    "                    zone_number = row['Zone'][:3]\n",
    "                else:\n",
    "                    zone_number = ''\n",
    "            else:\n",
    "                # otherwise we assume the zone includes (an) extra digit(s) at the end, and we truncate\n",
    "                zone_number = row['Zone'][:3]\n",
    "        elif len(row['Zone']) < 3:\n",
    "            zone_number = ''\n",
    "        else:\n",
    "            # zone is 3 characters, but one of them may be a letter, most likely the final char\n",
    "            if row['Zone'].isnumeric():\n",
    "                # zone is all numerals\n",
    "                zone_number = row['Zone']\n",
    "            else:\n",
    "                # zone includes either 1, 2, or 3 letters, in which case we do not have a valid zone number\n",
    "                for i, char in enumerate(row['Zone'].upper()):\n",
    "                    if i+1 < len(row['Zone']) and char in zone_to_sect_dct.values():\n",
    "                        if char == 'M' and row['Zone'][i+1] == 'H':\n",
    "                            # check if two successive chars are 'MH'\n",
    "                            sector_letter = 'MH'\n",
    "                        else:\n",
    "                            sector_letter = char        \n",
    "                    else:\n",
    "                        if char in zone_to_sect_dct.values():\n",
    "                            # if the final character is a sector code\n",
    "                            sector_letter = char\n",
    "            zone_number = ''\n",
    "        # at this point, the variable zone_number holds a str which is either a 3-digit numeral or empty\n",
    "        # and the variable sector_letter is likely an empty str (because it was a null) or possibly had a value imputed from the zone\n",
    "    elif isinstance(row['Zone'], float):\n",
    "        # zone is a nan\n",
    "        zone_number = ''\n",
    "        if row['Sector'].isnumeric():\n",
    "            if len(row['Sector']) == 3:\n",
    "                # this would mean the zone was inadvertently placed into the sector column\n",
    "                zone_number += row['Sector']\n",
    "                sector_letter = ''\n",
    "                # otherwise the sector is a number with something other than 3 digits, so needs to be discarded; zone_number is already an empty str\n",
    "        elif row['Sector'] in zone_to_sect_dct.values():\n",
    "            # the sector code is a proper code\n",
    "            sector_letter = row['Sector']\n",
    "        elif row['Sector'] not in zone_to_sect_dct.values():\n",
    "            # the code is alphabetic but not a proper sector code\n",
    "            if row['Sector'].upper() in typo_dct.keys():\n",
    "                sector_letter = typo_dct[row['Sector'].upper()]\n",
    "            else:\n",
    "                sector_letter = ''\n",
    "        else:\n",
    "            # in all other cases, since I don't have additional information, I will simply remove the sector code\n",
    "            sector_letter = ''\n",
    "    else:\n",
    "        # both codes are strings\n",
    "        if row['Sector'].isnumeric():\n",
    "            if len(row['Sector']) == 3:\n",
    "                # this would mean the zone was inadvertently placed into the sector column\n",
    "                zone_number = row['Sector']\n",
    "                sector_letter = ''\n",
    "            else:\n",
    "                # otherwise the sector is a number with something other than 3 digits, so needs to be discarded\n",
    "                sector_letter = ''\n",
    "                if len(row['Zone']) > 3:\n",
    "                    zone_number = row['Zone'][:3]\n",
    "                elif len(row['Zone']) < 3:\n",
    "                    zone_number = ''\n",
    "                else:\n",
    "                    zone_number = row['Zone']\n",
    "        elif row['Sector'] in zone_to_sect_dct.values():\n",
    "            # the sector code is a proper code\n",
    "            sector_letter = row['Sector']\n",
    "            if len(row['Zone']) > 3:\n",
    "                zone_number = row['Zone'][:3]\n",
    "            elif len(row['Zone']) < 3:\n",
    "                zone_number = ''\n",
    "            else:\n",
    "                zone_number = row['Zone']\n",
    "        elif row['Sector'] not in zone_to_sect_dct.values():\n",
    "            # the code is alphabetic but not a proper sector code\n",
    "            if row['Sector'].upper() in typo_dct.keys():\n",
    "                sector_letter = typo_dct[row['Sector'].upper()]\n",
    "                if len(row['Zone']) > 3:\n",
    "                    zone_number = row['Zone'][:3]\n",
    "                elif len(row['Zone']) < 3:\n",
    "                    zone_number = ''\n",
    "                else:\n",
    "                    zone_number = row['Zone']\n",
    "            else:\n",
    "                sector_letter = ''\n",
    "                if len(row['Zone']) > 3:\n",
    "                    zone_number = row['Zone'][:3]\n",
    "                elif len(row['Zone']) < 3:\n",
    "                    zone_number = ''\n",
    "                else:\n",
    "                    zone_number = row['Zone']\n",
    "        else:\n",
    "            # in all other cases, since I don't have additional information, I will simply remove the sector code\n",
    "            sector_letter = ''\n",
    "            if len(row['Zone']) > 3:\n",
    "                zone_number = row['Zone'][:3]\n",
    "            elif len(row['Zone']) < 3:\n",
    "                zone_number = ''\n",
    "            else:\n",
    "                zone_number = row['Zone']\n",
    "            \n",
    "\n",
    "    # At this point, both sector_letter and zone_number should hold either empty str or useful information.\n",
    "    # Now we can take the first digit of proper zone_numbers to determine the sector_letter.\n",
    "    \n",
    "    if sector_letter == '':\n",
    "        if zone_number != '':\n",
    "            # the sector is blank, but the zone is not\n",
    "            try:\n",
    "                sector_letter = zone_to_sect_dct[zone_number[0]]\n",
    "                # the sector can be determined by the first char in the zone\n",
    "            except:\n",
    "                # if the first char in the zone is '9', this block will run\n",
    "                sector_letter = np.nan\n",
    "                zone_number = np.nan\n",
    "            else:\n",
    "                # if the zone number is a proper value, the except block will not run and this will\n",
    "                zone_number = int(zone_number)\n",
    "        else:\n",
    "            # sector and zone are both blank\n",
    "            sector_letter = np.nan\n",
    "            zone_number = np.nan\n",
    "    else:\n",
    "        # sector is not blank\n",
    "        if zone_number == '':\n",
    "            # zone is blank\n",
    "            zone_number = np.nan\n",
    "        else:\n",
    "            # otherwise neither sector nor zone is blank, in which case the variable values remain (with zone turned into an int for storage)\n",
    "            zone_number = int(zone_number)\n",
    "           \n",
    "    # After all the above processing, we insert the two values into the dataframe\n",
    "    row['Zone'] = zone_number\n",
    "    row['Sector'] = sector_letter\n",
    "    \n",
    "    return row"
   ]
  },
  {
   "cell_type": "code",
   "execution_count": 139,
   "id": "3bc39ef7-04b0-465e-a92c-96b7727f1f84",
   "metadata": {},
   "outputs": [
    {
     "data": {
      "text/html": [
       "<div>\n",
       "<style scoped>\n",
       "    .dataframe tbody tr th:only-of-type {\n",
       "        vertical-align: middle;\n",
       "    }\n",
       "\n",
       "    .dataframe tbody tr th {\n",
       "        vertical-align: top;\n",
       "    }\n",
       "\n",
       "    .dataframe thead th {\n",
       "        text-align: right;\n",
       "    }\n",
       "</style>\n",
       "<table border=\"1\" class=\"dataframe\">\n",
       "  <thead>\n",
       "    <tr style=\"text-align: right;\">\n",
       "      <th></th>\n",
       "      <th>Event Number</th>\n",
       "      <th>Call Received</th>\n",
       "      <th>Complaint Number</th>\n",
       "      <th>Tencode</th>\n",
       "      <th>Tencode Suffix</th>\n",
       "      <th>Disposition Code</th>\n",
       "      <th>Block</th>\n",
       "      <th>Street Name</th>\n",
       "      <th>Shift</th>\n",
       "      <th>Sector</th>\n",
       "      <th>Zone</th>\n",
       "      <th>RPA</th>\n",
       "      <th>Latitude</th>\n",
       "      <th>Longitude</th>\n",
       "      <th>Mapped Location</th>\n",
       "      <th>generated_incident_yn</th>\n",
       "    </tr>\n",
       "  </thead>\n",
       "  <tbody>\n",
       "    <tr>\n",
       "      <th>5797724</th>\n",
       "      <td>201601214292</td>\n",
       "      <td>2016-12-01 16:51:05</td>\n",
       "      <td>NaN</td>\n",
       "      <td>88</td>\n",
       "      <td>PW</td>\n",
       "      <td>5</td>\n",
       "      <td>NaN</td>\n",
       "      <td>NaN</td>\n",
       "      <td>B</td>\n",
       "      <td>S</td>\n",
       "      <td>327</td>\n",
       "      <td>8861.0</td>\n",
       "      <td>NaN</td>\n",
       "      <td>NaN</td>\n",
       "      <td>NaN</td>\n",
       "      <td>0</td>\n",
       "    </tr>\n",
       "    <tr>\n",
       "      <th>6541170</th>\n",
       "      <td>202100376271</td>\n",
       "      <td>2021-06-10 21:08:23</td>\n",
       "      <td>NaN</td>\n",
       "      <td>43</td>\n",
       "      <td>PV</td>\n",
       "      <td>5</td>\n",
       "      <td>NaN</td>\n",
       "      <td>NaN</td>\n",
       "      <td>B</td>\n",
       "      <td>H</td>\n",
       "      <td>535</td>\n",
       "      <td>8937.0</td>\n",
       "      <td>NaN</td>\n",
       "      <td>NaN</td>\n",
       "      <td>NaN</td>\n",
       "      <td>0</td>\n",
       "    </tr>\n",
       "    <tr>\n",
       "      <th>827216</th>\n",
       "      <td>201600371223</td>\n",
       "      <td>2016-04-10 20:40:50</td>\n",
       "      <td>NaN</td>\n",
       "      <td>93</td>\n",
       "      <td>T</td>\n",
       "      <td>9</td>\n",
       "      <td>NaN</td>\n",
       "      <td>BELL RD</td>\n",
       "      <td>B</td>\n",
       "      <td>335</td>\n",
       "      <td>NaN</td>\n",
       "      <td>8721.0</td>\n",
       "      <td>36.045</td>\n",
       "      <td>-86.662</td>\n",
       "      <td>POINT (-86.662 36.045)</td>\n",
       "      <td>0</td>\n",
       "    </tr>\n",
       "  </tbody>\n",
       "</table>\n",
       "</div>"
      ],
      "text/plain": [
       "         Event Number       Call Received  Complaint Number Tencode  \\\n",
       "5797724  201601214292 2016-12-01 16:51:05               NaN      88   \n",
       "6541170  202100376271 2021-06-10 21:08:23               NaN      43   \n",
       "827216   201600371223 2016-04-10 20:40:50               NaN      93   \n",
       "\n",
       "        Tencode Suffix Disposition Code  Block Street Name Shift Sector Zone  \\\n",
       "5797724             PW                5    NaN         NaN     B      S  327   \n",
       "6541170             PV                5    NaN         NaN     B      H  535   \n",
       "827216               T                9    NaN     BELL RD     B    335  NaN   \n",
       "\n",
       "            RPA  Latitude  Longitude         Mapped Location  \\\n",
       "5797724  8861.0       NaN        NaN                     NaN   \n",
       "6541170  8937.0       NaN        NaN                     NaN   \n",
       "827216   8721.0    36.045    -86.662  POINT (-86.662 36.045)   \n",
       "\n",
       "         generated_incident_yn  \n",
       "5797724                      0  \n",
       "6541170                      0  \n",
       "827216                       0  "
      ]
     },
     "execution_count": 139,
     "metadata": {},
     "output_type": "execute_result"
    }
   ],
   "source": [
    "test = samp_df.loc[5797724:827216]\n",
    "# Includes 6541170\n",
    "test"
   ]
  },
  {
   "cell_type": "code",
   "execution_count": 150,
   "id": "9c09ba9f-53d7-4b8f-be64-4ebc7f52f4df",
   "metadata": {},
   "outputs": [],
   "source": [
    "test_sect = test.apply(sector_and_zone_clean, axis=1)"
   ]
  },
  {
   "cell_type": "code",
   "execution_count": 151,
   "id": "b7aca735-9974-4e95-8060-636a6aeab6e1",
   "metadata": {},
   "outputs": [
    {
     "data": {
      "text/html": [
       "<div>\n",
       "<style scoped>\n",
       "    .dataframe tbody tr th:only-of-type {\n",
       "        vertical-align: middle;\n",
       "    }\n",
       "\n",
       "    .dataframe tbody tr th {\n",
       "        vertical-align: top;\n",
       "    }\n",
       "\n",
       "    .dataframe thead th {\n",
       "        text-align: right;\n",
       "    }\n",
       "</style>\n",
       "<table border=\"1\" class=\"dataframe\">\n",
       "  <thead>\n",
       "    <tr style=\"text-align: right;\">\n",
       "      <th></th>\n",
       "      <th>Event Number</th>\n",
       "      <th>Call Received</th>\n",
       "      <th>Complaint Number</th>\n",
       "      <th>Tencode</th>\n",
       "      <th>Tencode Suffix</th>\n",
       "      <th>Disposition Code</th>\n",
       "      <th>Block</th>\n",
       "      <th>Street Name</th>\n",
       "      <th>Shift</th>\n",
       "      <th>Sector</th>\n",
       "      <th>Zone</th>\n",
       "      <th>RPA</th>\n",
       "      <th>Latitude</th>\n",
       "      <th>Longitude</th>\n",
       "      <th>Mapped Location</th>\n",
       "      <th>generated_incident_yn</th>\n",
       "    </tr>\n",
       "  </thead>\n",
       "  <tbody>\n",
       "    <tr>\n",
       "      <th>5797724</th>\n",
       "      <td>201601214292</td>\n",
       "      <td>2016-12-01 16:51:05</td>\n",
       "      <td>NaN</td>\n",
       "      <td>88</td>\n",
       "      <td>PW</td>\n",
       "      <td>5</td>\n",
       "      <td>NaN</td>\n",
       "      <td>NaN</td>\n",
       "      <td>B</td>\n",
       "      <td>S</td>\n",
       "      <td>327</td>\n",
       "      <td>8861.0</td>\n",
       "      <td>NaN</td>\n",
       "      <td>NaN</td>\n",
       "      <td>NaN</td>\n",
       "      <td>0</td>\n",
       "    </tr>\n",
       "    <tr>\n",
       "      <th>6541170</th>\n",
       "      <td>202100376271</td>\n",
       "      <td>2021-06-10 21:08:23</td>\n",
       "      <td>NaN</td>\n",
       "      <td>43</td>\n",
       "      <td>PV</td>\n",
       "      <td>5</td>\n",
       "      <td>NaN</td>\n",
       "      <td>NaN</td>\n",
       "      <td>B</td>\n",
       "      <td>H</td>\n",
       "      <td>535</td>\n",
       "      <td>8937.0</td>\n",
       "      <td>NaN</td>\n",
       "      <td>NaN</td>\n",
       "      <td>NaN</td>\n",
       "      <td>0</td>\n",
       "    </tr>\n",
       "    <tr>\n",
       "      <th>827216</th>\n",
       "      <td>201600371223</td>\n",
       "      <td>2016-04-10 20:40:50</td>\n",
       "      <td>NaN</td>\n",
       "      <td>93</td>\n",
       "      <td>T</td>\n",
       "      <td>9</td>\n",
       "      <td>NaN</td>\n",
       "      <td>BELL RD</td>\n",
       "      <td>B</td>\n",
       "      <td>S</td>\n",
       "      <td>335</td>\n",
       "      <td>8721.0</td>\n",
       "      <td>36.045</td>\n",
       "      <td>-86.662</td>\n",
       "      <td>POINT (-86.662 36.045)</td>\n",
       "      <td>0</td>\n",
       "    </tr>\n",
       "  </tbody>\n",
       "</table>\n",
       "</div>"
      ],
      "text/plain": [
       "         Event Number       Call Received  Complaint Number Tencode  \\\n",
       "5797724  201601214292 2016-12-01 16:51:05               NaN      88   \n",
       "6541170  202100376271 2021-06-10 21:08:23               NaN      43   \n",
       "827216   201600371223 2016-04-10 20:40:50               NaN      93   \n",
       "\n",
       "        Tencode Suffix Disposition Code  Block Street Name Shift Sector  Zone  \\\n",
       "5797724             PW                5    NaN         NaN     B      S   327   \n",
       "6541170             PV                5    NaN         NaN     B      H   535   \n",
       "827216               T                9    NaN     BELL RD     B      S   335   \n",
       "\n",
       "            RPA  Latitude  Longitude         Mapped Location  \\\n",
       "5797724  8861.0       NaN        NaN                     NaN   \n",
       "6541170  8937.0       NaN        NaN                     NaN   \n",
       "827216   8721.0    36.045    -86.662  POINT (-86.662 36.045)   \n",
       "\n",
       "         generated_incident_yn  \n",
       "5797724                      0  \n",
       "6541170                      0  \n",
       "827216                       0  "
      ]
     },
     "execution_count": 151,
     "metadata": {},
     "output_type": "execute_result"
    }
   ],
   "source": [
    "test_sect"
   ]
  },
  {
   "cell_type": "code",
   "execution_count": 113,
   "id": "0ca2afae-572e-4f4c-9cc3-ccd6ea979655",
   "metadata": {
    "collapsed": true,
    "jupyter": {
     "outputs_hidden": true
    },
    "tags": []
   },
   "outputs": [
    {
     "data": {
      "text/plain": [
       "str"
      ]
     },
     "execution_count": 113,
     "metadata": {},
     "output_type": "execute_result"
    }
   ],
   "source": [
    "type(test['Sector'][827216])"
   ]
  },
  {
   "cell_type": "code",
   "execution_count": 114,
   "id": "92c7e341-7164-4696-a31c-72b2fb6a7469",
   "metadata": {
    "collapsed": true,
    "jupyter": {
     "outputs_hidden": true
    },
    "tags": []
   },
   "outputs": [
    {
     "data": {
      "text/plain": [
       "False    51135\n",
       "True     14566\n",
       "Name: Sector, dtype: int64"
      ]
     },
     "execution_count": 114,
     "metadata": {},
     "output_type": "execute_result"
    }
   ],
   "source": [
    "samp_df['Sector'].isna().value_counts()"
   ]
  },
  {
   "cell_type": "code",
   "execution_count": 158,
   "id": "7e539e39-8659-4a3e-9db1-3766039c1c3c",
   "metadata": {},
   "outputs": [
    {
     "name": "stdout",
     "output_type": "stream",
     "text": [
      "Wall time: 8.57 s\n"
     ]
    }
   ],
   "source": [
    "%%time\n",
    "samp_df = samp_df.apply(sector_and_zone_clean, axis=1)"
   ]
  },
  {
   "cell_type": "code",
   "execution_count": 159,
   "id": "d1c7f339-0292-4569-abf1-09b311941330",
   "metadata": {
    "tags": []
   },
   "outputs": [
    {
     "data": {
      "text/plain": [
       "S     8596\n",
       "W     8529\n",
       "MH    7509\n",
       "E     7468\n",
       "C     7039\n",
       "H     6879\n",
       "N     5498\n",
       "M     5072\n",
       "Name: Sector, dtype: int64"
      ]
     },
     "execution_count": 159,
     "metadata": {},
     "output_type": "execute_result"
    }
   ],
   "source": [
    "samp_df['Sector'].value_counts()"
   ]
  },
  {
   "cell_type": "code",
   "execution_count": 131,
   "id": "2d92f89a-e28f-4280-9571-17f7b38fd9e5",
   "metadata": {},
   "outputs": [],
   "source": [
    "zone_errors = samp_df[samp_df['Zone'].str.len() > 3]"
   ]
  },
  {
   "cell_type": "code",
   "execution_count": 133,
   "id": "1a887caa-690f-4a9b-af7a-95ad4e23f71e",
   "metadata": {},
   "outputs": [
    {
     "name": "stderr",
     "output_type": "stream",
     "text": [
      "<ipython-input-133-b92dd7fb47ff>:1: SettingWithCopyWarning: \n",
      "A value is trying to be set on a copy of a slice from a DataFrame.\n",
      "Try using .loc[row_indexer,col_indexer] = value instead\n",
      "\n",
      "See the caveats in the documentation: https://pandas.pydata.org/pandas-docs/stable/user_guide/indexing.html#returning-a-view-versus-a-copy\n",
      "  zone_errors['last_char'] = zone_errors['Zone'].apply(lambda x: x[-1])\n"
     ]
    }
   ],
   "source": [
    "zone_errors['last_char'] = zone_errors['Zone'].apply(lambda x: x[-1])"
   ]
  },
  {
   "cell_type": "code",
   "execution_count": 135,
   "id": "ebb6847e-c756-47dc-a4d1-6c1f66f77726",
   "metadata": {},
   "outputs": [
    {
     "data": {
      "text/plain": [
       "N    1225\n",
       "Z    1165\n",
       "Y    1061\n",
       "K    1043\n",
       "W     887\n",
       "X     870\n",
       "V     785\n",
       "T     291\n",
       "U     244\n",
       "P     115\n",
       "S     101\n",
       "Q      66\n",
       "I      63\n",
       "J      62\n",
       "M      16\n",
       "R      11\n",
       "H       9\n",
       "G       5\n",
       "L       3\n",
       "Name: last_char, dtype: int64"
      ]
     },
     "execution_count": 135,
     "metadata": {},
     "output_type": "execute_result"
    }
   ],
   "source": [
    "zone_errors['last_char'].value_counts()"
   ]
  },
  {
   "cell_type": "code",
   "execution_count": 160,
   "id": "1a869f38-4edf-4303-83b6-932c8d959ac4",
   "metadata": {},
   "outputs": [
    {
     "data": {
      "text/plain": [
       "421.0    1443\n",
       "425.0    1372\n",
       "813.0    1318\n",
       "315.0    1170\n",
       "213.0    1143\n",
       "         ... \n",
       "251.0       1\n",
       "202.0       1\n",
       "226.0       1\n",
       "274.0       1\n",
       "516.0       1\n",
       "Name: Zone, Length: 132, dtype: int64"
      ]
     },
     "execution_count": 160,
     "metadata": {},
     "output_type": "execute_result"
    }
   ],
   "source": [
    "samp_df['Zone'].value_counts()"
   ]
  },
  {
   "cell_type": "code",
   "execution_count": 115,
   "id": "9377abc1-4560-4958-802d-909cd8e2c395",
   "metadata": {},
   "outputs": [
    {
     "data": {
      "text/plain": [
       "False    57382\n",
       "True      8319\n",
       "Name: Zone, dtype: int64"
      ]
     },
     "execution_count": 115,
     "metadata": {},
     "output_type": "execute_result"
    }
   ],
   "source": [
    "samp_df['Zone'].isna().value_counts()"
   ]
  },
  {
   "cell_type": "markdown",
   "id": "842b2c1a-1fde-40b9-b406-aa4005aee06b",
   "metadata": {
    "jp-MarkdownHeadingCollapsed": true,
    "tags": []
   },
   "source": [
    "#### 'RPA'"
   ]
  },
  {
   "cell_type": "markdown",
   "id": "c3a172f8-679b-4f99-b802-80fe4e212155",
   "metadata": {},
   "source": [
    "* Since I don't have additional information about these reporting areas, I'll remove this feature."
   ]
  },
  {
   "cell_type": "code",
   "execution_count": 161,
   "id": "99113c47-451e-4062-b844-9b1fd53047c6",
   "metadata": {},
   "outputs": [
    {
     "data": {
      "text/plain": [
       "0.0        5731\n",
       "8651.0      357\n",
       "4093.0      331\n",
       "4811.0      303\n",
       "8861.0      300\n",
       "           ... \n",
       "1890.0        1\n",
       "15960.0       1\n",
       "42021.0       1\n",
       "3319.0        1\n",
       "52025.0       1\n",
       "Name: RPA, Length: 1890, dtype: int64"
      ]
     },
     "execution_count": 161,
     "metadata": {},
     "output_type": "execute_result"
    }
   ],
   "source": [
    "samp_df['RPA'].value_counts()"
   ]
  },
  {
   "cell_type": "code",
   "execution_count": 162,
   "id": "ee73c3cf-e2ca-4c34-8740-248682ceaf3d",
   "metadata": {},
   "outputs": [
    {
     "data": {
      "text/plain": [
       "False    52424\n",
       "True     13277\n",
       "Name: RPA, dtype: int64"
      ]
     },
     "execution_count": 162,
     "metadata": {},
     "output_type": "execute_result"
    }
   ],
   "source": [
    "samp_df['RPA'].isna().value_counts()"
   ]
  },
  {
   "cell_type": "code",
   "execution_count": 163,
   "id": "eb25494c-d6cb-47e3-8771-51035205e105",
   "metadata": {},
   "outputs": [],
   "source": [
    "samp_df = samp_df.drop('RPA', axis=1)"
   ]
  },
  {
   "cell_type": "markdown",
   "id": "7ad9b18e-9347-4268-b038-8dccb42dbd89",
   "metadata": {
    "jp-MarkdownHeadingCollapsed": true,
    "tags": []
   },
   "source": [
    "#### 'Latitude' and 'Longitude'"
   ]
  },
  {
   "cell_type": "markdown",
   "id": "58ee52b3-c898-41f1-a439-1712cb648f61",
   "metadata": {},
   "source": [
    "* Not a lot of calls have lat-lon coords, but they could be really useful when present, so I'll keep them for now!"
   ]
  },
  {
   "cell_type": "code",
   "execution_count": 164,
   "id": "6f4bdb19-1510-4d5c-ba39-7a5d06d02e49",
   "metadata": {},
   "outputs": [
    {
     "data": {
      "text/plain": [
       "36.206    205\n",
       "36.151    187\n",
       "36.081    145\n",
       "36.090    141\n",
       "36.129    137\n",
       "         ... \n",
       "36.119      1\n",
       "36.361      1\n",
       "36.353      1\n",
       "36.351      1\n",
       "36.112      1\n",
       "Name: Latitude, Length: 319, dtype: int64"
      ]
     },
     "execution_count": 164,
     "metadata": {},
     "output_type": "execute_result"
    }
   ],
   "source": [
    "samp_df['Latitude'].value_counts()"
   ]
  },
  {
   "cell_type": "code",
   "execution_count": 165,
   "id": "b5685d9e-321b-41be-a045-02f3fbfd1bb0",
   "metadata": {},
   "outputs": [
    {
     "data": {
      "text/plain": [
       "True     57078\n",
       "False     8623\n",
       "Name: Latitude, dtype: int64"
      ]
     },
     "execution_count": 165,
     "metadata": {},
     "output_type": "execute_result"
    }
   ],
   "source": [
    "samp_df['Latitude'].isna().value_counts()"
   ]
  },
  {
   "cell_type": "code",
   "execution_count": 166,
   "id": "561d05e7-5662-4875-b9d9-c3a00f7c06ce",
   "metadata": {},
   "outputs": [
    {
     "data": {
      "text/plain": [
       "-86.779    164\n",
       "-86.688    138\n",
       "-86.778    125\n",
       "-86.777    125\n",
       "-86.822    118\n",
       "          ... \n",
       "-86.983      1\n",
       "-86.548      1\n",
       "-86.894      1\n",
       "-86.581      1\n",
       "-86.884      1\n",
       "Name: Longitude, Length: 368, dtype: int64"
      ]
     },
     "execution_count": 166,
     "metadata": {},
     "output_type": "execute_result"
    }
   ],
   "source": [
    "samp_df['Longitude'].value_counts()"
   ]
  },
  {
   "cell_type": "code",
   "execution_count": 167,
   "id": "e12a7215-a39b-473f-9b0e-6d213b30cd5c",
   "metadata": {},
   "outputs": [
    {
     "data": {
      "text/plain": [
       "True     57078\n",
       "False     8623\n",
       "Name: Latitude, dtype: int64"
      ]
     },
     "execution_count": 167,
     "metadata": {},
     "output_type": "execute_result"
    }
   ],
   "source": [
    "samp_df['Latitude'].isna().value_counts()"
   ]
  },
  {
   "cell_type": "markdown",
   "id": "bcea113f-9009-42d1-9bfa-a734430263f7",
   "metadata": {
    "jp-MarkdownHeadingCollapsed": true,
    "tags": []
   },
   "source": [
    "#### 'Mapped Location'"
   ]
  },
  {
   "cell_type": "markdown",
   "id": "0b70a41a-8015-4bce-b45d-27464eef4659",
   "metadata": {},
   "source": [
    "* This column is a concatenation of lat and lon; since it's duplicate information, I'll remove it for speed (if I map later, I'll use a slice with just the non-nulls)"
   ]
  },
  {
   "cell_type": "code",
   "execution_count": 169,
   "id": "7e76445c-31fd-4c98-b28f-cb1d825927b2",
   "metadata": {},
   "outputs": [
    {
     "data": {
      "text/plain": [
       "True     57078\n",
       "False     8623\n",
       "Name: Mapped Location, dtype: int64"
      ]
     },
     "execution_count": 169,
     "metadata": {},
     "output_type": "execute_result"
    }
   ],
   "source": [
    "samp_df['Mapped Location'].isna().value_counts()"
   ]
  },
  {
   "cell_type": "code",
   "execution_count": 170,
   "id": "fe732633-c9c5-4e4e-be2a-669ccedacd85",
   "metadata": {},
   "outputs": [],
   "source": [
    "samp_df = samp_df.drop('Mapped Location', axis=1)"
   ]
  },
  {
   "cell_type": "markdown",
   "id": "296f6456-385d-49fb-a23f-f3e001a37ab2",
   "metadata": {},
   "source": [
    "## EDA"
   ]
  },
  {
   "cell_type": "code",
   "execution_count": 193,
   "id": "885c12ba-b227-4749-aa92-ba30110ab51c",
   "metadata": {},
   "outputs": [],
   "source": [
    "df = pd.read_feather('data/cleaned_data.feather')"
   ]
  },
  {
   "cell_type": "markdown",
   "id": "78bdcfbc-7f7c-4715-a881-a8185e289609",
   "metadata": {},
   "source": [
    "* two goals:\n",
    "    1. offer hope to people in Nashville\n",
    "    2. increase retention and productivity of Ramsey Solutions team members\n",
    "\n",
    "\n",
    "* tactics:\n",
    "    1. partner with local churches (FPU) and high schools (Foundations) to give people access to curricula (assumption: financial wisdom is a pathway to improved social outcomes\n",
    "        * focus on organizations in zones/precincts with high average call rates (calculated by standard time deltas), particularly for serious crime, or increasing call rates\n",
    "    2. offer information to team members relocating to Nashville regarding safer areas to settle/purchase homes/raise children\n",
    "        * focus on zones/precincts with low or decreasing call rates"
   ]
  },
  {
   "cell_type": "code",
   "execution_count": 200,
   "id": "6f4cb28b-afc8-43d0-bcc8-719ba5f8e18c",
   "metadata": {},
   "outputs": [],
   "source": [
    "pd.set_option('display.float_format', lambda x: '%.3f' % x)"
   ]
  },
  {
   "cell_type": "code",
   "execution_count": 201,
   "id": "2fcf4ac2-909e-4845-b1ad-4f9a5603af6a",
   "metadata": {},
   "outputs": [
    {
     "data": {
      "text/html": [
       "<div>\n",
       "<style scoped>\n",
       "    .dataframe tbody tr th:only-of-type {\n",
       "        vertical-align: middle;\n",
       "    }\n",
       "\n",
       "    .dataframe tbody tr th {\n",
       "        vertical-align: top;\n",
       "    }\n",
       "\n",
       "    .dataframe thead th {\n",
       "        text-align: right;\n",
       "    }\n",
       "</style>\n",
       "<table border=\"1\" class=\"dataframe\">\n",
       "  <thead>\n",
       "    <tr style=\"text-align: right;\">\n",
       "      <th></th>\n",
       "      <th>index</th>\n",
       "      <th>Event Number</th>\n",
       "      <th>Complaint Number</th>\n",
       "      <th>Block</th>\n",
       "      <th>Latitude</th>\n",
       "      <th>Longitude</th>\n",
       "      <th>generated_incident_yn</th>\n",
       "    </tr>\n",
       "  </thead>\n",
       "  <tbody>\n",
       "    <tr>\n",
       "      <th>count</th>\n",
       "      <td>6570096.000</td>\n",
       "      <td>6570096.000</td>\n",
       "      <td>571275.000</td>\n",
       "      <td>1491804.000</td>\n",
       "      <td>853926.000</td>\n",
       "      <td>853926.000</td>\n",
       "      <td>6570096.000</td>\n",
       "    </tr>\n",
       "    <tr>\n",
       "      <th>mean</th>\n",
       "      <td>3285047.500</td>\n",
       "      <td>201769869394.758</td>\n",
       "      <td>20182269122.262</td>\n",
       "      <td>2338.459</td>\n",
       "      <td>35.963</td>\n",
       "      <td>-86.283</td>\n",
       "      <td>0.087</td>\n",
       "    </tr>\n",
       "    <tr>\n",
       "      <th>std</th>\n",
       "      <td>1896623.491</td>\n",
       "      <td>202181187.849</td>\n",
       "      <td>21228999.146</td>\n",
       "      <td>2245.265</td>\n",
       "      <td>2.626</td>\n",
       "      <td>6.300</td>\n",
       "      <td>0.282</td>\n",
       "    </tr>\n",
       "    <tr>\n",
       "      <th>min</th>\n",
       "      <td>0.000</td>\n",
       "      <td>201500000002.000</td>\n",
       "      <td>20150000018.000</td>\n",
       "      <td>0.000</td>\n",
       "      <td>0.000</td>\n",
       "      <td>-87.040</td>\n",
       "      <td>0.000</td>\n",
       "    </tr>\n",
       "    <tr>\n",
       "      <th>25%</th>\n",
       "      <td>1642523.750</td>\n",
       "      <td>201600603593.750</td>\n",
       "      <td>20160968774.500</td>\n",
       "      <td>500.000</td>\n",
       "      <td>36.087</td>\n",
       "      <td>-86.811</td>\n",
       "      <td>0.000</td>\n",
       "    </tr>\n",
       "    <tr>\n",
       "      <th>50%</th>\n",
       "      <td>3285047.500</td>\n",
       "      <td>201701289334.500</td>\n",
       "      <td>20180700866.000</td>\n",
       "      <td>1500.000</td>\n",
       "      <td>36.151</td>\n",
       "      <td>-86.728</td>\n",
       "      <td>0.000</td>\n",
       "    </tr>\n",
       "    <tr>\n",
       "      <th>75%</th>\n",
       "      <td>4927571.250</td>\n",
       "      <td>201900820889.250</td>\n",
       "      <td>20200426447.500</td>\n",
       "      <td>3800.000</td>\n",
       "      <td>36.203</td>\n",
       "      <td>-86.675</td>\n",
       "      <td>0.000</td>\n",
       "    </tr>\n",
       "    <tr>\n",
       "      <th>max</th>\n",
       "      <td>6570095.000</td>\n",
       "      <td>202200381099.000</td>\n",
       "      <td>20220307646.000</td>\n",
       "      <td>15500.000</td>\n",
       "      <td>36.402</td>\n",
       "      <td>0.000</td>\n",
       "      <td>1.000</td>\n",
       "    </tr>\n",
       "  </tbody>\n",
       "</table>\n",
       "</div>"
      ],
      "text/plain": [
       "            index     Event Number  Complaint Number       Block   Latitude  \\\n",
       "count 6570096.000      6570096.000        571275.000 1491804.000 853926.000   \n",
       "mean  3285047.500 201769869394.758   20182269122.262    2338.459     35.963   \n",
       "std   1896623.491    202181187.849      21228999.146    2245.265      2.626   \n",
       "min         0.000 201500000002.000   20150000018.000       0.000      0.000   \n",
       "25%   1642523.750 201600603593.750   20160968774.500     500.000     36.087   \n",
       "50%   3285047.500 201701289334.500   20180700866.000    1500.000     36.151   \n",
       "75%   4927571.250 201900820889.250   20200426447.500    3800.000     36.203   \n",
       "max   6570095.000 202200381099.000   20220307646.000   15500.000     36.402   \n",
       "\n",
       "       Longitude  generated_incident_yn  \n",
       "count 853926.000            6570096.000  \n",
       "mean     -86.283                  0.087  \n",
       "std        6.300                  0.282  \n",
       "min      -87.040                  0.000  \n",
       "25%      -86.811                  0.000  \n",
       "50%      -86.728                  0.000  \n",
       "75%      -86.675                  0.000  \n",
       "max        0.000                  1.000  "
      ]
     },
     "execution_count": 201,
     "metadata": {},
     "output_type": "execute_result"
    }
   ],
   "source": [
    "df.describe()"
   ]
  },
  {
   "cell_type": "code",
   "execution_count": 204,
   "id": "0087ae8b-b121-4d04-8d3a-9e5be30f7fc6",
   "metadata": {},
   "outputs": [],
   "source": [
    "cols = [col for col in df.columns]"
   ]
  },
  {
   "cell_type": "code",
   "execution_count": 205,
   "id": "bbd56462-9247-42ea-bd5b-d143dc41dd82",
   "metadata": {},
   "outputs": [
    {
     "data": {
      "text/plain": [
       "['index',\n",
       " 'Event Number',\n",
       " 'Call Received',\n",
       " 'Complaint Number',\n",
       " 'Tencode',\n",
       " 'Tencode Suffix',\n",
       " 'Disposition Code',\n",
       " 'Block',\n",
       " 'Street Name',\n",
       " 'Shift',\n",
       " 'Sector',\n",
       " 'Zone',\n",
       " 'Latitude',\n",
       " 'Longitude',\n",
       " 'generated_incident_yn']"
      ]
     },
     "execution_count": 205,
     "metadata": {},
     "output_type": "execute_result"
    }
   ],
   "source": [
    "cols"
   ]
  },
  {
   "cell_type": "code",
   "execution_count": 258,
   "id": "0d2e5f25-4bf1-4cdf-b99d-8ddf32cc9301",
   "metadata": {},
   "outputs": [
    {
     "data": {
      "text/html": [
       "<div>\n",
       "<style scoped>\n",
       "    .dataframe tbody tr th:only-of-type {\n",
       "        vertical-align: middle;\n",
       "    }\n",
       "\n",
       "    .dataframe tbody tr th {\n",
       "        vertical-align: top;\n",
       "    }\n",
       "\n",
       "    .dataframe thead th {\n",
       "        text-align: right;\n",
       "    }\n",
       "</style>\n",
       "<table border=\"1\" class=\"dataframe\">\n",
       "  <thead>\n",
       "    <tr style=\"text-align: right;\">\n",
       "      <th></th>\n",
       "      <th>Event Number</th>\n",
       "      <th>Tencode</th>\n",
       "      <th>Tencode Suffix</th>\n",
       "      <th>Disposition Code</th>\n",
       "      <th>Block</th>\n",
       "      <th>Street Name</th>\n",
       "      <th>Shift</th>\n",
       "      <th>Sector</th>\n",
       "      <th>Zone</th>\n",
       "      <th>Latitude</th>\n",
       "      <th>Longitude</th>\n",
       "      <th>generated_incident_yn</th>\n",
       "      <th>year</th>\n",
       "      <th>month</th>\n",
       "      <th>day</th>\n",
       "    </tr>\n",
       "  </thead>\n",
       "  <tbody>\n",
       "    <tr>\n",
       "      <th>6570076</th>\n",
       "      <td>202200381045</td>\n",
       "      <td>83</td>\n",
       "      <td>P</td>\n",
       "      <td>6</td>\n",
       "      <td>NaN</td>\n",
       "      <td>None</td>\n",
       "      <td>C</td>\n",
       "      <td>S</td>\n",
       "      <td>315</td>\n",
       "      <td>NaN</td>\n",
       "      <td>NaN</td>\n",
       "      <td>0</td>\n",
       "      <td>2022</td>\n",
       "      <td>6</td>\n",
       "      <td>22</td>\n",
       "    </tr>\n",
       "    <tr>\n",
       "      <th>6570077</th>\n",
       "      <td>202200381046</td>\n",
       "      <td>54</td>\n",
       "      <td>P</td>\n",
       "      <td>6</td>\n",
       "      <td>NaN</td>\n",
       "      <td>None</td>\n",
       "      <td>C</td>\n",
       "      <td>S</td>\n",
       "      <td>315</td>\n",
       "      <td>NaN</td>\n",
       "      <td>NaN</td>\n",
       "      <td>0</td>\n",
       "      <td>2022</td>\n",
       "      <td>6</td>\n",
       "      <td>22</td>\n",
       "    </tr>\n",
       "    <tr>\n",
       "      <th>6570078</th>\n",
       "      <td>202200381047</td>\n",
       "      <td>71</td>\n",
       "      <td>A</td>\n",
       "      <td>6</td>\n",
       "      <td>NaN</td>\n",
       "      <td>None</td>\n",
       "      <td>C</td>\n",
       "      <td>MH</td>\n",
       "      <td>811</td>\n",
       "      <td>NaN</td>\n",
       "      <td>NaN</td>\n",
       "      <td>0</td>\n",
       "      <td>2022</td>\n",
       "      <td>6</td>\n",
       "      <td>22</td>\n",
       "    </tr>\n",
       "    <tr>\n",
       "      <th>6570079</th>\n",
       "      <td>202200381048</td>\n",
       "      <td>49</td>\n",
       "      <td>P</td>\n",
       "      <td>11</td>\n",
       "      <td>NaN</td>\n",
       "      <td>None</td>\n",
       "      <td>C</td>\n",
       "      <td>C</td>\n",
       "      <td>421</td>\n",
       "      <td>NaN</td>\n",
       "      <td>NaN</td>\n",
       "      <td>0</td>\n",
       "      <td>2022</td>\n",
       "      <td>6</td>\n",
       "      <td>22</td>\n",
       "    </tr>\n",
       "    <tr>\n",
       "      <th>6570080</th>\n",
       "      <td>202200381049</td>\n",
       "      <td>43</td>\n",
       "      <td>PJ</td>\n",
       "      <td>4</td>\n",
       "      <td>100.000</td>\n",
       "      <td>UNIVERSITY CT</td>\n",
       "      <td>C</td>\n",
       "      <td>C</td>\n",
       "      <td>422</td>\n",
       "      <td>36.151</td>\n",
       "      <td>-86.765</td>\n",
       "      <td>0</td>\n",
       "      <td>2022</td>\n",
       "      <td>6</td>\n",
       "      <td>22</td>\n",
       "    </tr>\n",
       "    <tr>\n",
       "      <th>6570081</th>\n",
       "      <td>202200381052</td>\n",
       "      <td>43</td>\n",
       "      <td>P</td>\n",
       "      <td>11</td>\n",
       "      <td>NaN</td>\n",
       "      <td>None</td>\n",
       "      <td>C</td>\n",
       "      <td>W</td>\n",
       "      <td>None</td>\n",
       "      <td>NaN</td>\n",
       "      <td>NaN</td>\n",
       "      <td>0</td>\n",
       "      <td>2022</td>\n",
       "      <td>6</td>\n",
       "      <td>22</td>\n",
       "    </tr>\n",
       "    <tr>\n",
       "      <th>6570082</th>\n",
       "      <td>202200381053</td>\n",
       "      <td>43</td>\n",
       "      <td>P</td>\n",
       "      <td>4</td>\n",
       "      <td>NaN</td>\n",
       "      <td>None</td>\n",
       "      <td>C</td>\n",
       "      <td>M</td>\n",
       "      <td>715</td>\n",
       "      <td>NaN</td>\n",
       "      <td>NaN</td>\n",
       "      <td>0</td>\n",
       "      <td>2022</td>\n",
       "      <td>6</td>\n",
       "      <td>22</td>\n",
       "    </tr>\n",
       "    <tr>\n",
       "      <th>6570083</th>\n",
       "      <td>202200381054</td>\n",
       "      <td>50</td>\n",
       "      <td>TV</td>\n",
       "      <td>1</td>\n",
       "      <td>NaN</td>\n",
       "      <td>None</td>\n",
       "      <td>C</td>\n",
       "      <td>E</td>\n",
       "      <td>223</td>\n",
       "      <td>NaN</td>\n",
       "      <td>NaN</td>\n",
       "      <td>0</td>\n",
       "      <td>2022</td>\n",
       "      <td>6</td>\n",
       "      <td>22</td>\n",
       "    </tr>\n",
       "    <tr>\n",
       "      <th>6570084</th>\n",
       "      <td>202200381055</td>\n",
       "      <td>43</td>\n",
       "      <td>P</td>\n",
       "      <td>15</td>\n",
       "      <td>NaN</td>\n",
       "      <td>None</td>\n",
       "      <td>C</td>\n",
       "      <td>E</td>\n",
       "      <td>225</td>\n",
       "      <td>NaN</td>\n",
       "      <td>NaN</td>\n",
       "      <td>0</td>\n",
       "      <td>2022</td>\n",
       "      <td>6</td>\n",
       "      <td>22</td>\n",
       "    </tr>\n",
       "    <tr>\n",
       "      <th>6570085</th>\n",
       "      <td>202200381058</td>\n",
       "      <td>83</td>\n",
       "      <td>P</td>\n",
       "      <td>6</td>\n",
       "      <td>NaN</td>\n",
       "      <td>None</td>\n",
       "      <td>C</td>\n",
       "      <td>N</td>\n",
       "      <td>621</td>\n",
       "      <td>NaN</td>\n",
       "      <td>NaN</td>\n",
       "      <td>0</td>\n",
       "      <td>2022</td>\n",
       "      <td>6</td>\n",
       "      <td>22</td>\n",
       "    </tr>\n",
       "    <tr>\n",
       "      <th>6570086</th>\n",
       "      <td>202200381066</td>\n",
       "      <td>71</td>\n",
       "      <td>A</td>\n",
       "      <td>11</td>\n",
       "      <td>700.000</td>\n",
       "      <td>NORWOOD DR</td>\n",
       "      <td>C</td>\n",
       "      <td>W</td>\n",
       "      <td>116</td>\n",
       "      <td>36.099</td>\n",
       "      <td>-86.772</td>\n",
       "      <td>0</td>\n",
       "      <td>2022</td>\n",
       "      <td>6</td>\n",
       "      <td>22</td>\n",
       "    </tr>\n",
       "    <tr>\n",
       "      <th>6570087</th>\n",
       "      <td>202200381068</td>\n",
       "      <td>43</td>\n",
       "      <td>PV</td>\n",
       "      <td>6</td>\n",
       "      <td>500.000</td>\n",
       "      <td>HERITAGE DR</td>\n",
       "      <td>C</td>\n",
       "      <td>M</td>\n",
       "      <td>723</td>\n",
       "      <td>NaN</td>\n",
       "      <td>NaN</td>\n",
       "      <td>0</td>\n",
       "      <td>2022</td>\n",
       "      <td>6</td>\n",
       "      <td>22</td>\n",
       "    </tr>\n",
       "    <tr>\n",
       "      <th>6570088</th>\n",
       "      <td>202200381083</td>\n",
       "      <td>71</td>\n",
       "      <td>A</td>\n",
       "      <td>12</td>\n",
       "      <td>4100.000</td>\n",
       "      <td>CHARLOTTE AVE</td>\n",
       "      <td>C</td>\n",
       "      <td>None</td>\n",
       "      <td>None</td>\n",
       "      <td>NaN</td>\n",
       "      <td>NaN</td>\n",
       "      <td>0</td>\n",
       "      <td>2022</td>\n",
       "      <td>6</td>\n",
       "      <td>22</td>\n",
       "    </tr>\n",
       "    <tr>\n",
       "      <th>6570089</th>\n",
       "      <td>202200381084</td>\n",
       "      <td>71</td>\n",
       "      <td>A</td>\n",
       "      <td>6</td>\n",
       "      <td>NaN</td>\n",
       "      <td>None</td>\n",
       "      <td>C</td>\n",
       "      <td>E</td>\n",
       "      <td>225</td>\n",
       "      <td>NaN</td>\n",
       "      <td>NaN</td>\n",
       "      <td>0</td>\n",
       "      <td>2022</td>\n",
       "      <td>6</td>\n",
       "      <td>22</td>\n",
       "    </tr>\n",
       "    <tr>\n",
       "      <th>6570090</th>\n",
       "      <td>202200381086</td>\n",
       "      <td>87</td>\n",
       "      <td>P</td>\n",
       "      <td>4</td>\n",
       "      <td>NaN</td>\n",
       "      <td>None</td>\n",
       "      <td>C</td>\n",
       "      <td>MH</td>\n",
       "      <td>817</td>\n",
       "      <td>NaN</td>\n",
       "      <td>NaN</td>\n",
       "      <td>0</td>\n",
       "      <td>2022</td>\n",
       "      <td>6</td>\n",
       "      <td>22</td>\n",
       "    </tr>\n",
       "    <tr>\n",
       "      <th>6570091</th>\n",
       "      <td>202200381090</td>\n",
       "      <td>43</td>\n",
       "      <td>PV</td>\n",
       "      <td>6</td>\n",
       "      <td>NaN</td>\n",
       "      <td>None</td>\n",
       "      <td>C</td>\n",
       "      <td>N</td>\n",
       "      <td>613</td>\n",
       "      <td>NaN</td>\n",
       "      <td>NaN</td>\n",
       "      <td>0</td>\n",
       "      <td>2022</td>\n",
       "      <td>6</td>\n",
       "      <td>22</td>\n",
       "    </tr>\n",
       "    <tr>\n",
       "      <th>6570092</th>\n",
       "      <td>202200381094</td>\n",
       "      <td>96</td>\n",
       "      <td>None</td>\n",
       "      <td>12</td>\n",
       "      <td>NaN</td>\n",
       "      <td>None</td>\n",
       "      <td>C</td>\n",
       "      <td>W</td>\n",
       "      <td>125</td>\n",
       "      <td>NaN</td>\n",
       "      <td>NaN</td>\n",
       "      <td>0</td>\n",
       "      <td>2022</td>\n",
       "      <td>6</td>\n",
       "      <td>22</td>\n",
       "    </tr>\n",
       "    <tr>\n",
       "      <th>6570093</th>\n",
       "      <td>202200381095</td>\n",
       "      <td>50</td>\n",
       "      <td>R</td>\n",
       "      <td>1</td>\n",
       "      <td>NaN</td>\n",
       "      <td>None</td>\n",
       "      <td>C</td>\n",
       "      <td>N</td>\n",
       "      <td>627</td>\n",
       "      <td>NaN</td>\n",
       "      <td>NaN</td>\n",
       "      <td>0</td>\n",
       "      <td>2022</td>\n",
       "      <td>6</td>\n",
       "      <td>22</td>\n",
       "    </tr>\n",
       "    <tr>\n",
       "      <th>6570094</th>\n",
       "      <td>202200381097</td>\n",
       "      <td>43</td>\n",
       "      <td>P</td>\n",
       "      <td>15</td>\n",
       "      <td>NaN</td>\n",
       "      <td>None</td>\n",
       "      <td>C</td>\n",
       "      <td>N</td>\n",
       "      <td>611</td>\n",
       "      <td>NaN</td>\n",
       "      <td>NaN</td>\n",
       "      <td>0</td>\n",
       "      <td>2022</td>\n",
       "      <td>6</td>\n",
       "      <td>22</td>\n",
       "    </tr>\n",
       "    <tr>\n",
       "      <th>6570095</th>\n",
       "      <td>202200381099</td>\n",
       "      <td>16</td>\n",
       "      <td>PJ</td>\n",
       "      <td>None</td>\n",
       "      <td>NaN</td>\n",
       "      <td>None</td>\n",
       "      <td>C</td>\n",
       "      <td>H</td>\n",
       "      <td>513</td>\n",
       "      <td>NaN</td>\n",
       "      <td>NaN</td>\n",
       "      <td>0</td>\n",
       "      <td>2022</td>\n",
       "      <td>6</td>\n",
       "      <td>22</td>\n",
       "    </tr>\n",
       "  </tbody>\n",
       "</table>\n",
       "</div>"
      ],
      "text/plain": [
       "         Event Number Tencode Tencode Suffix Disposition Code    Block  \\\n",
       "6570076  202200381045      83              P                6      NaN   \n",
       "6570077  202200381046      54              P                6      NaN   \n",
       "6570078  202200381047      71              A                6      NaN   \n",
       "6570079  202200381048      49              P               11      NaN   \n",
       "6570080  202200381049      43             PJ                4  100.000   \n",
       "6570081  202200381052      43              P               11      NaN   \n",
       "6570082  202200381053      43              P                4      NaN   \n",
       "6570083  202200381054      50             TV                1      NaN   \n",
       "6570084  202200381055      43              P               15      NaN   \n",
       "6570085  202200381058      83              P                6      NaN   \n",
       "6570086  202200381066      71              A               11  700.000   \n",
       "6570087  202200381068      43             PV                6  500.000   \n",
       "6570088  202200381083      71              A               12 4100.000   \n",
       "6570089  202200381084      71              A                6      NaN   \n",
       "6570090  202200381086      87              P                4      NaN   \n",
       "6570091  202200381090      43             PV                6      NaN   \n",
       "6570092  202200381094      96           None               12      NaN   \n",
       "6570093  202200381095      50              R                1      NaN   \n",
       "6570094  202200381097      43              P               15      NaN   \n",
       "6570095  202200381099      16             PJ             None      NaN   \n",
       "\n",
       "           Street Name Shift Sector  Zone  Latitude  Longitude  \\\n",
       "6570076           None     C      S   315       NaN        NaN   \n",
       "6570077           None     C      S   315       NaN        NaN   \n",
       "6570078           None     C     MH   811       NaN        NaN   \n",
       "6570079           None     C      C   421       NaN        NaN   \n",
       "6570080  UNIVERSITY CT     C      C   422    36.151    -86.765   \n",
       "6570081           None     C      W  None       NaN        NaN   \n",
       "6570082           None     C      M   715       NaN        NaN   \n",
       "6570083           None     C      E   223       NaN        NaN   \n",
       "6570084           None     C      E   225       NaN        NaN   \n",
       "6570085           None     C      N   621       NaN        NaN   \n",
       "6570086     NORWOOD DR     C      W   116    36.099    -86.772   \n",
       "6570087    HERITAGE DR     C      M   723       NaN        NaN   \n",
       "6570088  CHARLOTTE AVE     C   None  None       NaN        NaN   \n",
       "6570089           None     C      E   225       NaN        NaN   \n",
       "6570090           None     C     MH   817       NaN        NaN   \n",
       "6570091           None     C      N   613       NaN        NaN   \n",
       "6570092           None     C      W   125       NaN        NaN   \n",
       "6570093           None     C      N   627       NaN        NaN   \n",
       "6570094           None     C      N   611       NaN        NaN   \n",
       "6570095           None     C      H   513       NaN        NaN   \n",
       "\n",
       "         generated_incident_yn  year  month  day  \n",
       "6570076                      0  2022      6   22  \n",
       "6570077                      0  2022      6   22  \n",
       "6570078                      0  2022      6   22  \n",
       "6570079                      0  2022      6   22  \n",
       "6570080                      0  2022      6   22  \n",
       "6570081                      0  2022      6   22  \n",
       "6570082                      0  2022      6   22  \n",
       "6570083                      0  2022      6   22  \n",
       "6570084                      0  2022      6   22  \n",
       "6570085                      0  2022      6   22  \n",
       "6570086                      0  2022      6   22  \n",
       "6570087                      0  2022      6   22  \n",
       "6570088                      0  2022      6   22  \n",
       "6570089                      0  2022      6   22  \n",
       "6570090                      0  2022      6   22  \n",
       "6570091                      0  2022      6   22  \n",
       "6570092                      0  2022      6   22  \n",
       "6570093                      0  2022      6   22  \n",
       "6570094                      0  2022      6   22  \n",
       "6570095                      0  2022      6   22  "
      ]
     },
     "execution_count": 258,
     "metadata": {},
     "output_type": "execute_result"
    }
   ],
   "source": [
    "df.tail(20)"
   ]
  },
  {
   "cell_type": "code",
   "execution_count": 207,
   "id": "214ae443-de3a-4f0d-bb3e-2ac76c1141d0",
   "metadata": {},
   "outputs": [],
   "source": [
    "df = df.sort_values(by=['Call Received', 'Event Number'])"
   ]
  },
  {
   "cell_type": "code",
   "execution_count": 209,
   "id": "7e0e531b-b961-48a0-97a1-46de39461577",
   "metadata": {},
   "outputs": [],
   "source": [
    "df = df.reset_index(drop=True)"
   ]
  },
  {
   "cell_type": "code",
   "execution_count": 213,
   "id": "f4a8db38-eef1-49c6-b780-1d20a5bda91d",
   "metadata": {},
   "outputs": [],
   "source": [
    "df = df.drop('index', axis=1)"
   ]
  },
  {
   "cell_type": "code",
   "execution_count": 220,
   "id": "efa1e1cb-6a37-4f7b-8033-adef9e496b9a",
   "metadata": {},
   "outputs": [],
   "source": [
    "test_df = df.loc[:10000,:]"
   ]
  },
  {
   "cell_type": "code",
   "execution_count": 239,
   "id": "793f8804-82dd-4312-a3f7-2b456a0f4b39",
   "metadata": {},
   "outputs": [
    {
     "data": {
      "text/plain": [
       "2015"
      ]
     },
     "execution_count": 239,
     "metadata": {},
     "output_type": "execute_result"
    }
   ],
   "source": [
    "test_df.loc[0, 'Call Received'].year"
   ]
  },
  {
   "cell_type": "markdown",
   "id": "27f78bfb-7e67-4976-aec3-a43d98831b0b",
   "metadata": {},
   "source": [
    "* It looks like I have a little more preprocessing to do, since I am not sure if pandas can groupby an element of a datetime, and it's faster to just split out that column"
   ]
  },
  {
   "cell_type": "code",
   "execution_count": 240,
   "id": "e0723244-86f0-49a3-ad53-9018415ae97c",
   "metadata": {},
   "outputs": [],
   "source": [
    "def split_datetime(df):\n",
    "    df['year'] = df.apply(lambda x: x['Call Received'].year, axis=1)\n",
    "    df['month'] = df.apply(lambda x: x['Call Received'].month, axis=1)\n",
    "    df['day'] = df.apply(lambda x: x['Call Received'].day, axis=1)\n",
    "    \n",
    "    df = df.drop('Call Received', axis=1)\n",
    "    \n",
    "    return df"
   ]
  },
  {
   "cell_type": "code",
   "execution_count": 241,
   "id": "22f3e0bd-5b9d-4fab-88c1-bd9b85a63537",
   "metadata": {},
   "outputs": [],
   "source": [
    "df = split_datetime(df)"
   ]
  },
  {
   "cell_type": "code",
   "execution_count": 243,
   "id": "011437fd-bfc7-48c8-9a32-ff4f688fce5d",
   "metadata": {},
   "outputs": [],
   "source": [
    "# tiny error in preprocessing script, so I need to drop the 'Complaint Number' column\n",
    "df = df.drop('Complaint Number', axis=1)"
   ]
  },
  {
   "cell_type": "markdown",
   "id": "c0add237-de75-431d-901e-b3e9bc45cdb4",
   "metadata": {},
   "source": [
    "### Counts"
   ]
  },
  {
   "cell_type": "markdown",
   "id": "118a5d46-18d3-456e-97c5-439cb4dc784e",
   "metadata": {},
   "source": [
    "#### Overall counts"
   ]
  },
  {
   "cell_type": "code",
   "execution_count": 304,
   "id": "09f88902-ec69-44c3-b4ea-d09b101fd237",
   "metadata": {},
   "outputs": [],
   "source": [
    "gb_year = df[['year', 'month', 'day']].groupby(by='year')\n",
    "gb_month = df[['year', 'month', 'day']].groupby(by=['year', 'month'])\n",
    "gb_day = df[['year', 'month', 'day']].groupby(by=['year', 'month', 'day'])"
   ]
  },
  {
   "cell_type": "code",
   "execution_count": 257,
   "id": "111f5026-9479-4823-8649-f9701aedae52",
   "metadata": {},
   "outputs": [
    {
     "data": {
      "text/plain": [
       "1139672"
      ]
     },
     "execution_count": 257,
     "metadata": {},
     "output_type": "execute_result"
    }
   ],
   "source": [
    "len(gb_year.get_group(2015))"
   ]
  },
  {
   "cell_type": "code",
   "execution_count": 310,
   "id": "f879d61f-9896-48ae-8adc-6b1c83c22200",
   "metadata": {},
   "outputs": [
    {
     "data": {
      "text/plain": [
       "98988"
      ]
     },
     "execution_count": 310,
     "metadata": {},
     "output_type": "execute_result"
    }
   ],
   "source": [
    "len(gb_month.get_group((2015, 3)))"
   ]
  },
  {
   "cell_type": "code",
   "execution_count": 289,
   "id": "1dad4b4d-c324-4a7d-a7fc-c2c844393383",
   "metadata": {},
   "outputs": [],
   "source": [
    "last_date = datetime(2022, 6, 22).timetuple().tm_yday\n",
    "projected_2022 = len(gb_year.get_group(2022)) / (last_date / 365)"
   ]
  },
  {
   "cell_type": "code",
   "execution_count": 316,
   "id": "501b96a5-278b-435d-aa3f-dd5cbc3a3be8",
   "metadata": {},
   "outputs": [],
   "source": [
    "x = np.array(range(2015, 2022)).reshape(-1, 1)\n",
    "y = [len(gb_year.get_group(year)) for year in range(2015, 2022)]\n",
    "\n",
    "reg = LR()\n",
    "reg.fit(x, y)\n",
    "preds = reg.predict(np.array(range(2015, 2024)).reshape(-1, 1))"
   ]
  },
  {
   "cell_type": "code",
   "execution_count": 372,
   "id": "c56bbbcf-680e-4fae-ba0e-0867751e87c4",
   "metadata": {},
   "outputs": [
    {
     "data": {
      "image/png": "[encoded data removed]",
      "text/plain": [
       "<Figure size 1440x720 with 1 Axes>"
      ]
     },
     "metadata": {},
     "output_type": "display_data"
    }
   ],
   "source": [
    "# plot the large-scale change in police activity\n",
    "\n",
    "x = np.array(range(2015, 2022)).reshape(-1, 1)\n",
    "y = [len(gb_year.get_group(year)) for year in range(2015, 2022)]\n",
    "\n",
    "# calculate a line of best fit\n",
    "reg = LR()\n",
    "reg.fit(x, y)\n",
    "preds = reg.predict(np.array(range(2015, 2024)).reshape(-1, 1))\n",
    "    \n",
    "# create the fig and ax\n",
    "fig, ax = plt.subplots(figsize=(20, 10), facecolor='white')\n",
    "\n",
    "# scatterplot\n",
    "ax.scatter(x, y, c='darkblue')\n",
    "ax.scatter(2022, projected_2022, c='slategrey')\n",
    "ax.annotate('(projected)', (2022, projected_2022), xytext=(2021.7, 405000), c='slategrey')\n",
    "ax.ticklabel_format(style='plain')\n",
    "ax.set_title('Service Calls Trending Downward',\n",
    "             loc='left',\n",
    "             pad=20,\n",
    "             fontdict={\n",
    "                 'fontsize': 20,\n",
    "                 'fontweight': 'bold'\n",
    "             }\n",
    "            )\n",
    "ax.set_ylim(bottom=0, top=max(y)*1.2)\n",
    "ax.set_ylabel('Number of Service Calls (yearly)', fontsize=14)\n",
    "ax.set_xlim(right=2022.5)\n",
    "ax.set_xlabel('Year', fontsize=14)\n",
    "ax.spines['top'].set_visible(False)\n",
    "ax.spines['right'].set_visible(False)\n",
    "\n",
    "ax.plot(np.array(range(2015, 2024)), preds, c='orange', linewidth=3)\n",
    "\n",
    "plt.tight_layout()\n",
    "plt.savefig('viz/yearly_calls.png', bbox_inches='tight', pad_inches=1)"
   ]
  },
  {
   "cell_type": "code",
   "execution_count": 373,
   "id": "ef1d6ab4-74c6-4500-aa56-69d79dcd74a2",
   "metadata": {},
   "outputs": [
    {
     "data": {
      "image/png": "[encoded data removed]",
      "text/plain": [
       "<Figure size 1440x720 with 1 Axes>"
      ]
     },
     "metadata": {},
     "output_type": "display_data"
    }
   ],
   "source": [
    "# store data to plot\n",
    "x = np.linspace(2015, 2022, 7*12, endpoint=False).reshape(-1, 1)\n",
    "y = []\n",
    "for year in range(2015, 2022):\n",
    "    for month in range(1, 13):\n",
    "        y.append(len(gb_month.get_group((year, month))))\n",
    "\n",
    "        \n",
    "# calculate a line of best fit\n",
    "reg = LR()\n",
    "reg.fit(x, y)\n",
    "preds = reg.predict(np.array(range(2015, 2024)).reshape(-1, 1))\n",
    "\n",
    "# create the fig and ax\n",
    "fig, ax = plt.subplots(figsize=(20, 10), facecolor='white')\n",
    "\n",
    "# plot\n",
    "ax.plot(x, y, marker='.', c='darkblue')\n",
    "ax.ticklabel_format(style='plain')\n",
    "ax.set_title('Service Calls Trending Downward',\n",
    "             loc='left',\n",
    "             pad=20,\n",
    "             fontdict={\n",
    "                 'fontsize': 20,\n",
    "                 'fontweight': 'bold'\n",
    "             }\n",
    "            )\n",
    "ax.set_ylim(bottom=0, top=max(y)*1.2)\n",
    "ax.set_ylabel('Number of Service Calls (monthly)', fontsize=14)\n",
    "ax.set_xlim(right=2022.5)\n",
    "ax.set_xlabel('Year', fontsize=14)\n",
    "ax.spines['top'].set_visible(False)\n",
    "ax.spines['right'].set_visible(False)\n",
    "\n",
    "ax.plot(np.array(range(2015, 2024)), preds, c='orange', linewidth=3)\n",
    "\n",
    "plt.tight_layout()\n",
    "plt.savefig('viz/monthly_calls.png', bbox_inches='tight', pad_inches=1)"
   ]
  },
  {
   "cell_type": "code",
   "execution_count": 367,
   "id": "ea0d7b42-8b64-4149-bd3b-7f1081c5b74e",
   "metadata": {},
   "outputs": [
    {
     "data": {
      "image/png": "[encoded data removed]",
      "text/plain": [
       "<Figure size 1440x720 with 1 Axes>"
      ]
     },
     "metadata": {},
     "output_type": "display_data"
    }
   ],
   "source": [
    "# 7 years from 2015 - 2021, inclusive, with 2016 and 2020 as leap years\n",
    "days_in_dataset = 7 * 365 + 2\n",
    "\n",
    "# store data to plot\n",
    "x = np.linspace(2015, 2022, days_in_dataset, endpoint=False).reshape(-1, 1)\n",
    "y = []\n",
    "for year in range(2015, 2022):\n",
    "    for month in range(1, 13):\n",
    "        for day in range(1, 32):\n",
    "            try:\n",
    "                y.append(len(gb_day.get_group((year, month, day))))\n",
    "            except KeyError:\n",
    "                # for example, February 30 will throw this error\n",
    "                continue\n",
    "                \n",
    "\n",
    "        \n",
    "# calculate a line of best fit\n",
    "reg = LR()\n",
    "reg.fit(x, y)\n",
    "preds = reg.predict(np.array(range(2015, 2024)).reshape(-1, 1))\n",
    "\n",
    "# create the fig and ax\n",
    "fig, ax = plt.subplots(figsize=(20, 10), facecolor='white')\n",
    "\n",
    "# plot\n",
    "ax.plot(x, y, c='darkblue', linewidth=0.5)\n",
    "ax.ticklabel_format(style='plain')\n",
    "ax.set_title('Service Calls Trending Downward',\n",
    "             loc='left',\n",
    "             pad=20,\n",
    "             fontdict={\n",
    "                 'fontsize': 20,\n",
    "                 'fontweight': 'bold'\n",
    "             }\n",
    "            )\n",
    "ax.set_ylim(bottom=0, top=max(y)*1.2)\n",
    "ax.set_ylabel('Number of Service Calls (daily)', fontsize=14)\n",
    "ax.set_xlim(right=2022.5)\n",
    "ax.set_xlabel('Year', fontsize=14)\n",
    "ax.spines['top'].set_visible(False)\n",
    "ax.spines['right'].set_visible(False)\n",
    "\n",
    "ax.plot(np.array(range(2015, 2024)), preds, c='orange', linewidth=3)\n",
    "\n",
    "plt.tight_layout()\n",
    "plt.savefig('viz/daily_calls.png', bbox_inches='tight', pad_inches=1)"
   ]
  },
  {
   "cell_type": "markdown",
   "id": "86e71e31-7cb4-48e3-a33e-b20d5512fa8e",
   "metadata": {},
   "source": [
    "#### Counts by sector"
   ]
  },
  {
   "cell_type": "markdown",
   "id": "6b5e4135-037c-40d1-bdc0-d2bd87c471bf",
   "metadata": {},
   "source": [
    "* Note: sectors are precincts.\n",
    "\n",
    "    'W': West\n",
    "    \n",
    "    'E': East\n",
    "    \n",
    "    'S': South\n",
    "    \n",
    "    'C': Central\n",
    "    \n",
    "    'H': Hermitage\n",
    "    \n",
    "    'N': North\n",
    "    \n",
    "    'M': Madison\n",
    "    \n",
    "    'MH': Midtown Hills"
   ]
  },
  {
   "cell_type": "code",
   "execution_count": 378,
   "id": "af16fb0b-1eb5-45b1-8d64-8ad24a29c861",
   "metadata": {},
   "outputs": [],
   "source": [
    "needed_cols = ['year', 'month', 'day', 'Sector']\n",
    "gb_sec_year = df[needed_cols].groupby(by=['Sector', 'year'])\n",
    "gb_sec_month = df[needed_cols].groupby(by=['Sector', 'year', 'month'])\n",
    "gb_sec_day = df[needed_cols].groupby(by=['Sector', 'year', 'month', 'day'])"
   ]
  },
  {
   "cell_type": "code",
   "execution_count": 380,
   "id": "925c89b9-2f1c-47f0-a906-a8068d7061c1",
   "metadata": {},
   "outputs": [],
   "source": [
    "zone_to_sect_dct = {'1': 'W',\n",
    "                    '2': 'E',\n",
    "                    '3': 'S',\n",
    "                    '4': 'C',\n",
    "                    '5': 'H',\n",
    "                    '6': 'N',\n",
    "                    '7': 'M',\n",
    "                    '8': 'MH'\n",
    "                   }\n",
    "\n",
    "sector_name_dct = {'W': 'West',\n",
    "                   'E': 'East',\n",
    "                   'S': 'South',\n",
    "                   'C': 'Central',\n",
    "                   'H': 'Hermitage',\n",
    "                   'N': 'North',\n",
    "                   'M': 'Madison',\n",
    "                   'MH': 'Midtown Hills'\n",
    "                  }"
   ]
  },
  {
   "cell_type": "code",
   "execution_count": 386,
   "id": "c6ff67ad-8f15-41b0-96a1-8b395e26f973",
   "metadata": {},
   "outputs": [],
   "source": [
    "sect_lst = [item for item in sector_name_dct.items()]"
   ]
  },
  {
   "cell_type": "code",
   "execution_count": 389,
   "id": "f5b38883-75c9-4492-9fdc-d003dcc48511",
   "metadata": {},
   "outputs": [
    {
     "data": {
      "text/plain": [
       "tuple"
      ]
     },
     "execution_count": 389,
     "metadata": {},
     "output_type": "execute_result"
    }
   ],
   "source": [
    "type(sect_lst[0])"
   ]
  },
  {
   "cell_type": "code",
   "execution_count": 402,
   "id": "84c99cd3-84e0-4d56-bd37-1875a25c4dee",
   "metadata": {},
   "outputs": [
    {
     "data": {
      "image/png": "[encoded data removed]",
      "text/plain": [
       "<Figure size 720x1440 with 8 Axes>"
      ]
     },
     "metadata": {},
     "output_type": "display_data"
    }
   ],
   "source": [
    "# plot the annual call counts by sector\n",
    "\n",
    "x = np.array(range(2015, 2022)).reshape(-1, 1)\n",
    "last_date = datetime(2022, 6, 22).timetuple().tm_yday\n",
    "\n",
    "# create the fig and ax\n",
    "fig, ax = plt.subplots(4, 2, figsize=(10, 20), facecolor='white', sharey=True)\n",
    "fig.suptitle('Service Calls by Sector',\n",
    "             size=36,\n",
    "             weight='bold'\n",
    "            )\n",
    "\n",
    "for i, item in enumerate([item for item in sector_name_dct.items()]):\n",
    "    \n",
    "    y = []\n",
    "    sec = item[0]\n",
    "    name = item[1]\n",
    "\n",
    "    for year in range(2015, 2022):\n",
    "        y.append(len(gb_sec_year.get_group((sec, year))))\n",
    "\n",
    "    # calculate a line of best fit\n",
    "    reg = LR()\n",
    "    reg.fit(x, y)\n",
    "    preds = reg.predict(np.array(range(2015, 2024)).reshape(-1, 1))\n",
    "\n",
    "    projected_2022 = len(gb_sec_year.get_group((sec, 2022))) / (last_date / 365)\n",
    "    \n",
    "    if i < 4:\n",
    "        row = i\n",
    "        col = 0\n",
    "    else:\n",
    "        row = i - 4\n",
    "        col = 1\n",
    "    \n",
    "    # scatterplot\n",
    "    ax[row, col].scatter(x, y, c='darkblue')\n",
    "    ax[row, col].scatter(2022, projected_2022, c='slategrey')\n",
    "    ax[row, col].annotate('(projected)', (2022, projected_2022), xytext=(2021, (projected_2022 * .7)), c='slategrey')\n",
    "    ax[row, col].ticklabel_format(style='plain')\n",
    "    ax[row, col].set_title(f'{name}',\n",
    "                 loc='left',\n",
    "                 pad=20,\n",
    "                 fontdict={\n",
    "                     'fontsize': 20,\n",
    "                     'fontweight': 'bold'\n",
    "                 }\n",
    "                )\n",
    "    ax[row, col].set_ylabel('Number of Service Calls (yearly)', fontsize=14)\n",
    "    ax[row, col].set_xlim(right=2022.5)\n",
    "    ax[row, col].set_xlabel('Year', fontsize=14)\n",
    "    ax[row, col].spines['top'].set_visible(False)\n",
    "    ax[row, col].spines['right'].set_visible(False)\n",
    "\n",
    "    ax[row, col].plot(np.array(range(2015, 2024)), preds, c='orange', linewidth=1)\n",
    "\n",
    "plt.tight_layout(pad=3)\n",
    "plt.savefig('viz/yearly_calls_by_sector.png', bbox_inches='tight', pad_inches=1)"
   ]
  },
  {
   "cell_type": "code",
   "execution_count": null,
   "id": "284c9ccf-d5c4-49b9-88b5-68b60df2fea7",
   "metadata": {},
   "outputs": [],
   "source": []
  },
  {
   "cell_type": "code",
   "execution_count": null,
   "id": "f16dcae2-9b05-4b59-b128-925c5cb48321",
   "metadata": {},
   "outputs": [],
   "source": []
  }
 ],
 "metadata": {
  "kernelspec": {
   "display_name": "Python 3",
   "language": "python",
   "name": "python3"
  },
  "language_info": {
   "codemirror_mode": {
    "name": "ipython",
    "version": 3
   },
   "file_extension": ".py",
   "mimetype": "text/x-python",
   "name": "python",
   "nbconvert_exporter": "python",
   "pygments_lexer": "ipython3",
   "version": "3.9.7"
  }
 },
 "nbformat": 4,
 "nbformat_minor": 5
}
