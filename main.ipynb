{
 "cells": [
  {
   "cell_type": "code",
   "execution_count": 7,
   "id": "35ab2556-1768-441d-9200-4f8b82895548",
   "metadata": {},
   "outputs": [],
   "source": [
    "from matplotlib import pyplot as plt\n",
    "import numpy as np\n",
    "import pandas as pd\n",
    "\n",
    "from utils.preprocessing import import_data, preprocess"
   ]
  },
  {
   "cell_type": "markdown",
   "id": "3f09fdc5-f314-4fd5-a5e5-28428e60ed77",
   "metadata": {},
   "source": [
    "## Data Import and Preprocessing"
   ]
  },
  {
   "cell_type": "code",
   "execution_count": null,
   "id": "14fd2abf-4a8d-47c9-814e-2bcdb0bba8b6",
   "metadata": {},
   "outputs": [],
   "source": [
    "df = import_data()"
   ]
  }
 ],
 "metadata": {
  "kernelspec": {
   "display_name": "Python 3",
   "language": "python",
   "name": "python3"
  },
  "language_info": {
   "codemirror_mode": {
    "name": "ipython",
    "version": 3
   },
   "file_extension": ".py",
   "mimetype": "text/x-python",
   "name": "python",
   "nbconvert_exporter": "python",
   "pygments_lexer": "ipython3",
   "version": "3.9.7"
  }
 },
 "nbformat": 4,
 "nbformat_minor": 5
}
