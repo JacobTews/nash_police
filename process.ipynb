{
 "cells": [
  {
   "cell_type": "markdown",
   "id": "141c8304-aa47-4caf-92ce-6fd27494bab0",
   "metadata": {},
   "source": [
    "# Nashville Police Service Calls Analysis"
   ]
  },
  {
   "cell_type": "markdown",
   "id": "2f5d9262-aa6a-42c0-ad6e-edf155d5440b",
   "metadata": {},
   "source": [
    "## Dependencies"
   ]
  },
  {
   "cell_type": "code",
   "execution_count": 1,
   "id": "737b6e83-a8f7-491d-a521-f9758907f646",
   "metadata": {},
   "outputs": [],
   "source": [
    "from matplotlib import pyplot as plt\n",
    "import numpy as np\n",
    "import pandas as pd"
   ]
  },
  {
   "cell_type": "markdown",
   "id": "47e5ad1f-e6ad-4b9e-9291-2ee384f0eae0",
   "metadata": {
    "tags": []
   },
   "source": [
    "### Import"
   ]
  },
  {
   "cell_type": "markdown",
   "id": "f649984b-4c2f-4106-a880-dca1de534f21",
   "metadata": {},
   "source": [
    "* N.B. - The dataset is large (more than 6.5M records), so it is not available in this Github repo.\n",
    "\n",
    "&nbsp; &nbsp; &nbsp; &nbsp; &nbsp; If you'd like the dataset, you may find it [here](https://data.nashville.gov/Police/Metro-Nashville-Police-Department-Calls-for-Servic/kwnd-qrrm), on the nashville.gov website."
   ]
  },
  {
   "cell_type": "code",
   "execution_count": null,
   "id": "a5c83b24-5837-4ad0-816d-08fbd00e959b",
   "metadata": {},
   "outputs": [],
   "source": [
    "main_df = pd.read_csv('data/Metro_Nashville_Police_Department_Calls_for_Service.csv',\n",
    "                      parse_dates=['Call Received'],\n",
    "                     dtype={'Event Number': str,\n",
    "                            'Complaint Number': float,\n",
    "                            'Tencode': str,\n",
    "                            'Tencode Description': str,\n",
    "                            'Tencode Suffix': str,\n",
    "                            'Tencode Suffix Description': str,\n",
    "                            'Disposition Code': str,\n",
    "                            'Disposition Description': str,\n",
    "                            'Block': float,\n",
    "                            'Street Name': str,\n",
    "                            'Unit Dispatched': str,\n",
    "                            'Shift': str,\n",
    "                            'Sector': str,\n",
    "                            'Zone': str,\n",
    "                            'RPA': float,\n",
    "                            'Latitude': float,\n",
    "                            'Longitude': float,\n",
    "                            'Mapped Location': str\n",
    "                     })"
   ]
  },
  {
   "cell_type": "markdown",
   "id": "8d567bc1-e4ed-4432-903b-cab35f163c4c",
   "metadata": {},
   "source": [
    "### Preprocessing"
   ]
  },
  {
   "cell_type": "markdown",
   "id": "4d5c2ea0-7662-49c7-9c95-d474ac9341af",
   "metadata": {},
   "source": [
    "* Let's get a sample of the data to see what we're working with."
   ]
  },
  {
   "cell_type": "code",
   "execution_count": null,
   "id": "e369ba3c-7ed8-498c-b510-73d7a0c5ae4f",
   "metadata": {
    "tags": []
   },
   "outputs": [],
   "source": [
    "samp_df = main_df.sample(frac=.01, random_state=22)"
   ]
  },
  {
   "cell_type": "code",
   "execution_count": null,
   "id": "765d5905-57a4-4480-bf89-7059e977a152",
   "metadata": {},
   "outputs": [],
   "source": [
    "cols = ['Event Number', 'Call Received', 'Complaint Number', 'Tencode',\n",
    "       'Tencode Description', 'Tencode Suffix', 'Tencode Suffix Description',\n",
    "       'Disposition Code', 'Disposition Description', 'Block', 'Street Name',\n",
    "       'Unit Dispatched', 'Shift', 'Sector', 'Zone', 'RPA', 'Latitude',\n",
    "       'Longitude', 'Mapped Location']"
   ]
  },
  {
   "cell_type": "code",
   "execution_count": null,
   "id": "cbe384b4-2517-4641-86be-263ca67efc94",
   "metadata": {},
   "outputs": [],
   "source": [
    "samp_df.dtypes"
   ]
  },
  {
   "cell_type": "markdown",
   "id": "236b2cbe-85cf-4162-bb04-edd7b2301118",
   "metadata": {
    "jp-MarkdownHeadingCollapsed": true,
    "tags": []
   },
   "source": [
    "#### 'Event Number'"
   ]
  },
  {
   "cell_type": "markdown",
   "id": "a916fe8b-6357-4c95-b4f6-97b1dd38e100",
   "metadata": {},
   "source": [
    "* It looks like all the event numbers begin with 'PD'; if this is the case, then I can strip those two characters and cast as an int, saving space"
   ]
  },
  {
   "cell_type": "code",
   "execution_count": null,
   "id": "827ca78b-afae-4854-a1d9-9f2f68800f59",
   "metadata": {},
   "outputs": [],
   "source": [
    "pd_check = [event.startswith('PD') for event in samp_df['Event Number'].values]"
   ]
  },
  {
   "cell_type": "code",
   "execution_count": null,
   "id": "65af56ba-9a92-4dad-8f4a-4207b0f27db2",
   "metadata": {},
   "outputs": [],
   "source": [
    "print(sum(pd_check))"
   ]
  },
  {
   "cell_type": "code",
   "execution_count": null,
   "id": "176a56db-fa31-4b65-a2cf-7bdcffacafa3",
   "metadata": {},
   "outputs": [],
   "source": [
    "def event_number_clean(num):\n",
    "    return int(num[2:])"
   ]
  },
  {
   "cell_type": "code",
   "execution_count": null,
   "id": "adca4cb2-3851-4174-9306-780cc03033e9",
   "metadata": {},
   "outputs": [],
   "source": [
    "samp_df['Event Number'] = samp_df['Event Number'].apply(event_number_clean)"
   ]
  },
  {
   "cell_type": "code",
   "execution_count": null,
   "id": "4fc46a3d-487c-4480-b064-e018d03cd52c",
   "metadata": {},
   "outputs": [],
   "source": [
    "samp_df.iloc[[0]]"
   ]
  },
  {
   "cell_type": "markdown",
   "id": "cafddcbd-5517-46d2-8e71-8d4e81e84c92",
   "metadata": {
    "jp-MarkdownHeadingCollapsed": true,
    "tags": []
   },
   "source": [
    "#### 'Call Received'"
   ]
  },
  {
   "cell_type": "markdown",
   "id": "087fe64a-ae09-4bae-9cae-3eabd6860bb9",
   "metadata": {},
   "source": [
    "* This is a datetime column, so I'll parse as I read in the csv"
   ]
  },
  {
   "cell_type": "code",
   "execution_count": null,
   "id": "c3a1ea6a-2e77-43a7-8ccf-b249ef6d217e",
   "metadata": {},
   "outputs": [],
   "source": [
    "samp_df['Call Received'].head(20)"
   ]
  },
  {
   "cell_type": "markdown",
   "id": "26ac04b2-185a-4ca3-8a77-132d5410b867",
   "metadata": {
    "jp-MarkdownHeadingCollapsed": true,
    "tags": []
   },
   "source": [
    "#### 'Complaint Number'"
   ]
  },
  {
   "cell_type": "markdown",
   "id": "04ec2855-a5f1-42f5-9d9a-b53542124dc0",
   "metadata": {},
   "source": [
    "* I am not interested in the specific number, just whether or not an incident was generated, so I'll update this to a simple Boolean flag"
   ]
  },
  {
   "cell_type": "code",
   "execution_count": null,
   "id": "b7ec4c05-5797-49f6-8034-4de113883d08",
   "metadata": {},
   "outputs": [],
   "source": [
    "samp_df['Complaint Number'].isna().value_counts()"
   ]
  },
  {
   "cell_type": "code",
   "execution_count": null,
   "id": "b17786c2-eefd-432d-a34e-be8fa65a21e6",
   "metadata": {},
   "outputs": [],
   "source": [
    "type(samp_df['Complaint Number'][5797724])"
   ]
  },
  {
   "cell_type": "code",
   "execution_count": null,
   "id": "38ca8f2e-4a2e-4678-aa4d-06e64ee22b40",
   "metadata": {},
   "outputs": [],
   "source": [
    "def complaint_number_clean(num):\n",
    "    if np.isnan(num):\n",
    "        return 0\n",
    "    else:\n",
    "        return 1"
   ]
  },
  {
   "cell_type": "code",
   "execution_count": null,
   "id": "7de962d5-9137-42d7-b0b5-b66e834e3fe4",
   "metadata": {},
   "outputs": [],
   "source": [
    "samp_df['generated_incident_yn'] = samp_df['Complaint Number'].apply(complaint_number_clean)\n",
    "samp_df = samp_df.drop('Complaint Number', axis=1)"
   ]
  },
  {
   "cell_type": "code",
   "execution_count": null,
   "id": "076f294e-98c4-46bf-8e0b-881345d37291",
   "metadata": {},
   "outputs": [],
   "source": [
    "# check the function\n",
    "samp_df['generated_incident_yn'].value_counts()"
   ]
  },
  {
   "cell_type": "code",
   "execution_count": null,
   "id": "f1e336cf-b016-4694-86a7-ee4562c05cd0",
   "metadata": {
    "jupyter": {
     "source_hidden": true
    },
    "tags": []
   },
   "outputs": [],
   "source": [
    "# Markdown shortcut!\n",
    "for col in cols:\n",
    "    print(f\"#### '{col}'\")"
   ]
  },
  {
   "cell_type": "markdown",
   "id": "bc6b49ce-e117-4548-b657-30517b94b7ce",
   "metadata": {
    "jp-MarkdownHeadingCollapsed": true,
    "tags": []
   },
   "source": [
    "#### 'Tencode'"
   ]
  },
  {
   "cell_type": "markdown",
   "id": "e2cef5a5-199c-4a77-b210-353f5d633884",
   "metadata": {},
   "source": [
    "* This column seems to be clean. It's high-cardinality, and the codes are numeric, so I'll have to be careful with them if I do any modeling."
   ]
  },
  {
   "cell_type": "code",
   "execution_count": null,
   "id": "d57ed90d-061d-48e7-85b4-e0a599fdf2e4",
   "metadata": {},
   "outputs": [],
   "source": [
    "samp_df['Tencode'].value_counts()"
   ]
  },
  {
   "cell_type": "markdown",
   "id": "d0912133-0ac4-4d58-adb3-9bb407ea2a1c",
   "metadata": {
    "jp-MarkdownHeadingCollapsed": true,
    "tags": []
   },
   "source": [
    "#### 'Tencode Description'"
   ]
  },
  {
   "cell_type": "markdown",
   "id": "36a0a3fb-b8fa-476d-8332-5035806acc4a",
   "metadata": {},
   "source": [
    "* It looks like there are some blanks here.\n",
    "* However, the desciptions match the appendix in the metadata document, so rather than clogging the dataframe with strings, I'll remove this column."
   ]
  },
  {
   "cell_type": "code",
   "execution_count": null,
   "id": "6f73e286-d49c-4a06-aec7-64dad5820f3e",
   "metadata": {},
   "outputs": [],
   "source": [
    "samp_df['Tencode Description'].isna().value_counts()"
   ]
  },
  {
   "cell_type": "code",
   "execution_count": null,
   "id": "f0e818f5-bb67-413e-a9e1-2ef4bca22a33",
   "metadata": {},
   "outputs": [],
   "source": [
    "samp_df[samp_df['Tencode Description'].notna()].head(20)"
   ]
  },
  {
   "cell_type": "code",
   "execution_count": null,
   "id": "a6a32ce3-bd30-4d58-9d6a-69ed852181d5",
   "metadata": {},
   "outputs": [],
   "source": [
    "samp_df = samp_df.drop('Tencode Description', axis=1)"
   ]
  },
  {
   "cell_type": "markdown",
   "id": "9dbe3228-c4a2-4931-b576-745d0277d478",
   "metadata": {
    "jp-MarkdownHeadingCollapsed": true,
    "tags": []
   },
   "source": [
    "#### 'Tencode Suffix'"
   ]
  },
  {
   "cell_type": "markdown",
   "id": "567764bc-5ccc-450d-a03e-1ff151e1e9c3",
   "metadata": {},
   "source": [
    "* Like the tencode column, this is high-cardinality, though these are mostly strings instead of numeric values. For consistency, it looks like I should read the csv with the datatypes specified."
   ]
  },
  {
   "cell_type": "code",
   "execution_count": null,
   "id": "bb8c8c5c-804e-46ec-91e6-6f36f0bc8b48",
   "metadata": {},
   "outputs": [],
   "source": [
    "type(samp_df['Tencode Suffix'][5797724])"
   ]
  },
  {
   "cell_type": "code",
   "execution_count": null,
   "id": "295b38b8-77fc-431f-8b60-1d6601001546",
   "metadata": {},
   "outputs": [],
   "source": [
    "samp_df['Tencode Suffix'].value_counts()"
   ]
  },
  {
   "cell_type": "markdown",
   "id": "575a6269-92d7-41df-8b5b-c82738c6df9c",
   "metadata": {
    "jp-MarkdownHeadingCollapsed": true,
    "tags": []
   },
   "source": [
    "#### 'Tencode Suffix Description'"
   ]
  },
  {
   "cell_type": "markdown",
   "id": "f57573e0-d0ff-46ef-be95-e229d4d07641",
   "metadata": {},
   "source": [
    "* This one is like the tencode description, a string which is unneeded. I'll drop the column."
   ]
  },
  {
   "cell_type": "code",
   "execution_count": null,
   "id": "107e92a5-8dbf-4939-9d34-bb82731cac2b",
   "metadata": {},
   "outputs": [],
   "source": [
    "samp_df = samp_df.drop('Tencode Suffix Description', axis=1)"
   ]
  },
  {
   "cell_type": "markdown",
   "id": "eb48d84d-f9db-423d-95d3-ba85456b9838",
   "metadata": {},
   "source": [
    "#### 'Disposition Code'"
   ]
  },
  {
   "cell_type": "markdown",
   "id": "54500ce7-1af8-45b9-a3b5-cf4f0e1e4794",
   "metadata": {
    "jupyter": {
     "source_hidden": true
    },
    "tags": []
   },
   "source": [
    "* Interestingly, it would appear that tencode suffixes are sometimes appended to the disposition code instead of the tencode. That'll be fun to clean up!\n",
    "\n",
    "* Here's my thinking:    \n",
    "    * If the disposition code includes a letter which is not a valid option, and it is a valid option as a tencode suffix, and it is not already present in the tencode suffix, I'll append the letter to the tencode suffix.\n",
    "    * If the disposition code includes a letter which is not a valid option, and it is *not* a valid option as a tencode suffix, I'll remove the letter.\n",
    "    * If the disposition code includes a letter which is a valid option, and it is *also* a valid option as a tencode suffix, I'll do the following:\n",
    "        * For A:\n",
    "            * disposition codes 1, 4, 5, 7, 8, 9, 10, 11, 13, 14, 15 seem unlikely to result in arrest, so the A will be considered as a tencode and appended if not already present.\n",
    "            * disposition codes 2, 3, 6, 12 seem like they could plausibly result in arrest, so the A will be left as part of the disposition code.\n",
    "        * For C, O, and P:\n",
    "            * if the letter is *not* included in the tencode suffix, I'll append it, while also leaving it as part of the disposition code.\n",
    "            * if the letter is already included in the tencode suffix, I'll do nothing, leaving it in both places."
   ]
  },
  {
   "cell_type": "code",
   "execution_count": null,
   "id": "f39a2228-5449-4a77-bae2-a3ebbec312df",
   "metadata": {
    "jupyter": {
     "source_hidden": true
    },
    "tags": []
   },
   "outputs": [],
   "source": [
    "def disposition_code_clean(row):\n",
    "    \n",
    "    # These three values should all be strings\n",
    "    disp_code_letter = str(row['Disposition Code'])[-1:]\n",
    "    disp_code_number = str(row['Disposition Code'])[:-1]\n",
    "    tencode_suffix = str(row['Tencode Suffix'])\n",
    "    \n",
    "    if disp_code_letter.isnumeric():\n",
    "        pass\n",
    "    elif disp_code_letter not in ['A', 'C', 'O', 'P']:\n",
    "        if disp_code_letter not in tencode_suffix:\n",
    "            row['Tencode Suffix'] = tencode_suffix + disp_code_letter\n",
    "        else:\n",
    "            pass        \n",
    "    else:\n",
    "        if disp_code_letter == 'A':\n",
    "            if disp_code_number in ['1', '4', '5', '7', '8', '9', '10', '11', '13', '14', '15']:\n",
    "                if disp_code_letter not in tencode_suffix:\n",
    "                    row['Tencode Suffix'] += disp_code_letter\n",
    "                    row['Disposition Code'] = disp_code_number\n",
    "                else:\n",
    "                    row['Disposition Code'] = disp_code_number\n",
    "            else:\n",
    "                pass\n",
    "        elif disp_code_letter in ['C', 'O', 'P']:\n",
    "            if disp_code_letter not in tencode_suffix:\n",
    "                row['Tencode Suffix'] += disp_code_letter\n",
    "            else:\n",
    "                pass"
   ]
  },
  {
   "cell_type": "code",
   "execution_count": null,
   "id": "3d038b71-6521-4c18-b730-d71191cbd167",
   "metadata": {
    "jupyter": {
     "source_hidden": true
    },
    "tags": []
   },
   "outputs": [],
   "source": [
    "clean_dispo = ambig_df.apply(disposition_code_clean, axis=1)"
   ]
  },
  {
   "cell_type": "code",
   "execution_count": null,
   "id": "9dc1db8f-91d4-4e53-8369-0957572b9930",
   "metadata": {},
   "outputs": [],
   "source": [
    "ambig_df.reset_index(inplace=True)"
   ]
  },
  {
   "cell_type": "code",
   "execution_count": null,
   "id": "c8b3484c-cf22-4a2c-b1a9-ef865aa12a64",
   "metadata": {},
   "outputs": [],
   "source": [
    "ambig_df"
   ]
  },
  {
   "cell_type": "code",
   "execution_count": null,
   "id": "effa7473-ec07-4c8f-8ae9-97dd7b5f2bb0",
   "metadata": {},
   "outputs": [],
   "source": [
    "pd.set_option(\"display.max_rows\", 100)"
   ]
  },
  {
   "cell_type": "code",
   "execution_count": null,
   "id": "9f9b03c0-5307-4a04-a556-7a3228d340ef",
   "metadata": {},
   "outputs": [],
   "source": [
    "samp_df['Disposition Code'].value_counts()"
   ]
  },
  {
   "cell_type": "code",
   "execution_count": null,
   "id": "52b60709-1cd3-4c64-8fc9-103c8824fd88",
   "metadata": {},
   "outputs": [],
   "source": [
    "pd.reset_option(\"display.max_rows\")"
   ]
  },
  {
   "cell_type": "code",
   "execution_count": null,
   "id": "ddd2d16b-523e-4d8c-a6c8-3a91560a1fe9",
   "metadata": {},
   "outputs": [],
   "source": [
    "ambig_df = samp_df[samp_df['Disposition Code'].str.contains('A|C|O|P', case=False, regex=True, na=False)]"
   ]
  },
  {
   "cell_type": "markdown",
   "id": "9b3118fd-ccfb-494f-9e1e-137c8581c669",
   "metadata": {},
   "source": []
  },
  {
   "cell_type": "markdown",
   "id": "a52a3e78-5da5-44af-bbd0-9a6cad9eb922",
   "metadata": {},
   "source": [
    "#### 'Disposition Description'"
   ]
  },
  {
   "cell_type": "code",
   "execution_count": null,
   "id": "2cf6d272-72ff-41dd-886e-a8f6e3c4ad0f",
   "metadata": {},
   "outputs": [],
   "source": [
    "samp_df[samp_df['Disposition Code'] == '3A']"
   ]
  },
  {
   "cell_type": "markdown",
   "id": "1c562b50-50ba-4961-93f2-d30c7d518763",
   "metadata": {},
   "source": [
    "#### 'Block'"
   ]
  },
  {
   "cell_type": "markdown",
   "id": "c35fd591-de17-4357-9524-6f239e52aa58",
   "metadata": {},
   "source": [
    "#### 'Street Name'"
   ]
  },
  {
   "cell_type": "markdown",
   "id": "83f60a8f-bf92-40cc-940a-868a6cdc7ad7",
   "metadata": {},
   "source": [
    "#### 'Unit Dispatched'"
   ]
  },
  {
   "cell_type": "markdown",
   "id": "0e4f3b36-688d-458e-8e19-a409f135b143",
   "metadata": {},
   "source": [
    "#### 'Shift'"
   ]
  },
  {
   "cell_type": "markdown",
   "id": "bb447645-2292-42a6-b5aa-c9d59e2837c3",
   "metadata": {},
   "source": [
    "#### 'Sector'"
   ]
  },
  {
   "cell_type": "markdown",
   "id": "08f9b695-efcf-4c21-9bb0-3c60a60bfd37",
   "metadata": {},
   "source": [
    "#### 'Zone'"
   ]
  },
  {
   "cell_type": "markdown",
   "id": "842b2c1a-1fde-40b9-b406-aa4005aee06b",
   "metadata": {},
   "source": [
    "#### 'RPA'"
   ]
  },
  {
   "cell_type": "markdown",
   "id": "7ad9b18e-9347-4268-b038-8dccb42dbd89",
   "metadata": {},
   "source": [
    "#### 'Latitude'"
   ]
  },
  {
   "cell_type": "markdown",
   "id": "71934f5f-97aa-43df-88de-61325ce6c945",
   "metadata": {},
   "source": [
    "#### 'Longitude'"
   ]
  },
  {
   "cell_type": "markdown",
   "id": "bcea113f-9009-42d1-9bfa-a734430263f7",
   "metadata": {},
   "source": [
    "#### 'Mapped Location'"
   ]
  },
  {
   "cell_type": "markdown",
   "id": "296f6456-385d-49fb-a23f-f3e001a37ab2",
   "metadata": {},
   "source": [
    "## EDA"
   ]
  },
  {
   "cell_type": "code",
   "execution_count": null,
   "id": "a3d5b074-88cd-40ee-b49a-52e6d57ac56d",
   "metadata": {},
   "outputs": [],
   "source": [
    "main_df.columns"
   ]
  },
  {
   "cell_type": "code",
   "execution_count": null,
   "id": "de268683-c1ce-4d52-adc9-95a74ea8155a",
   "metadata": {},
   "outputs": [],
   "source": [
    "main_df.dtypes"
   ]
  },
  {
   "cell_type": "code",
   "execution_count": null,
   "id": "49a1e6f0-b968-4a75-a805-9c7be85ef557",
   "metadata": {},
   "outputs": [],
   "source": [
    "for col in cols:\n",
    "    print(f'Column name: {col}')\n",
    "    print(main_df[col].head(10))\n",
    "    print('\\n*******\\n')"
   ]
  },
  {
   "cell_type": "markdown",
   "id": "3425c7b1-3763-4fdb-bed4-a8dd82f6e259",
   "metadata": {},
   "source": []
  }
 ],
 "metadata": {
  "kernelspec": {
   "display_name": "Python 3",
   "language": "python",
   "name": "python3"
  },
  "language_info": {
   "codemirror_mode": {
    "name": "ipython",
    "version": 3
   },
   "file_extension": ".py",
   "mimetype": "text/x-python",
   "name": "python",
   "nbconvert_exporter": "python",
   "pygments_lexer": "ipython3",
   "version": "3.9.7"
  }
 },
 "nbformat": 4,
 "nbformat_minor": 5
}
