{
 "cells": [
  {
   "cell_type": "markdown",
   "id": "141c8304-aa47-4caf-92ce-6fd27494bab0",
   "metadata": {},
   "source": [
    "# Nashville Polive Service Calls Analysis"
   ]
  },
  {
   "cell_type": "markdown",
   "id": "2f5d9262-aa6a-42c0-ad6e-edf155d5440b",
   "metadata": {},
   "source": [
    "## Dependencies"
   ]
  },
  {
   "cell_type": "code",
   "execution_count": 1,
   "id": "737b6e83-a8f7-491d-a521-f9758907f646",
   "metadata": {},
   "outputs": [],
   "source": [
    "from matplotlib import pyplot as plt\n",
    "import numpy as np\n",
    "import pandas as pd\n",
    "import requests"
   ]
  },
  {
   "cell_type": "markdown",
   "id": "47e5ad1f-e6ad-4b9e-9291-2ee384f0eae0",
   "metadata": {
    "tags": []
   },
   "source": [
    "### Import"
   ]
  },
  {
   "cell_type": "markdown",
   "id": "f649984b-4c2f-4106-a880-dca1de534f21",
   "metadata": {},
   "source": [
    "* N.B. - The dataset is large (more than 6.5M records), so it is not available in this Github repo.\n",
    "\n",
    "&nbsp; &nbsp; &nbsp; &nbsp; &nbsp; If you'd like the dataset, you may find it [here](https://data.nashville.gov/Police/Metro-Nashville-Police-Department-Calls-for-Servic/kwnd-qrrm), on the nashville.gov website."
   ]
  },
  {
   "cell_type": "code",
   "execution_count": 20,
   "id": "a5c83b24-5837-4ad0-816d-08fbd00e959b",
   "metadata": {},
   "outputs": [
    {
     "name": "stderr",
     "output_type": "stream",
     "text": [
      "<ipython-input-20-ff42fa3e5590>:1: DtypeWarning: Columns (10,14,18) have mixed types. Specify dtype option on import or set low_memory=False.\n",
      "  main_df = pd.read_csv('data/Metro_Nashville_Police_Department_Calls_for_Service.csv', parse_dates=['Call Received'])\n"
     ]
    }
   ],
   "source": [
    "main_df = pd.read_csv('data/Metro_Nashville_Police_Department_Calls_for_Service.csv', parse_dates=['Call Received'])"
   ]
  },
  {
   "cell_type": "markdown",
   "id": "8d567bc1-e4ed-4432-903b-cab35f163c4c",
   "metadata": {},
   "source": [
    "### Preprocessing"
   ]
  },
  {
   "cell_type": "markdown",
   "id": "4d5c2ea0-7662-49c7-9c95-d474ac9341af",
   "metadata": {},
   "source": [
    "* Let's get a sample of the data to see what we're working with."
   ]
  },
  {
   "cell_type": "code",
   "execution_count": 21,
   "id": "e369ba3c-7ed8-498c-b510-73d7a0c5ae4f",
   "metadata": {
    "tags": []
   },
   "outputs": [],
   "source": [
    "samp_df = main_df.sample(frac=.01, random_state=22)"
   ]
  },
  {
   "cell_type": "code",
   "execution_count": 8,
   "id": "765d5905-57a4-4480-bf89-7059e977a152",
   "metadata": {},
   "outputs": [],
   "source": [
    "cols = ['Event Number', 'Call Received', 'Complaint Number', 'Tencode',\n",
    "       'Tencode Description', 'Tencode Suffix', 'Tencode Suffix Description',\n",
    "       'Disposition Code', 'Disposition Description', 'Block', 'Street Name',\n",
    "       'Unit Dispatched', 'Shift', 'Sector', 'Zone', 'RPA', 'Latitude',\n",
    "       'Longitude', 'Mapped Location']"
   ]
  },
  {
   "cell_type": "code",
   "execution_count": 22,
   "id": "cbe384b4-2517-4641-86be-263ca67efc94",
   "metadata": {},
   "outputs": [
    {
     "data": {
      "text/plain": [
       "Event Number                          object\n",
       "Call Received                 datetime64[ns]\n",
       "Complaint Number                     float64\n",
       "Tencode                                int64\n",
       "Tencode Description                   object\n",
       "Tencode Suffix                        object\n",
       "Tencode Suffix Description            object\n",
       "Disposition Code                      object\n",
       "Disposition Description               object\n",
       "Block                                float64\n",
       "Street Name                           object\n",
       "Unit Dispatched                       object\n",
       "Shift                                 object\n",
       "Sector                                object\n",
       "Zone                                  object\n",
       "RPA                                  float64\n",
       "Latitude                             float64\n",
       "Longitude                            float64\n",
       "Mapped Location                       object\n",
       "dtype: object"
      ]
     },
     "execution_count": 22,
     "metadata": {},
     "output_type": "execute_result"
    }
   ],
   "source": [
    "samp_df.dtypes"
   ]
  },
  {
   "cell_type": "markdown",
   "id": "236b2cbe-85cf-4162-bb04-edd7b2301118",
   "metadata": {
    "jp-MarkdownHeadingCollapsed": true,
    "tags": []
   },
   "source": [
    "#### 'Event Number'"
   ]
  },
  {
   "cell_type": "markdown",
   "id": "a916fe8b-6357-4c95-b4f6-97b1dd38e100",
   "metadata": {},
   "source": [
    "* It looks like all the event numbers begin with 'PD'; if this is the case, then I can strip those two characters and cast as an int, saving space"
   ]
  },
  {
   "cell_type": "code",
   "execution_count": null,
   "id": "827ca78b-afae-4854-a1d9-9f2f68800f59",
   "metadata": {},
   "outputs": [],
   "source": [
    "pd_check = [event.startswith('PD') for event in samp_df['Event Number'].values]"
   ]
  },
  {
   "cell_type": "code",
   "execution_count": null,
   "id": "65af56ba-9a92-4dad-8f4a-4207b0f27db2",
   "metadata": {},
   "outputs": [],
   "source": [
    "print(sum(pd_check))"
   ]
  },
  {
   "cell_type": "code",
   "execution_count": 6,
   "id": "176a56db-fa31-4b65-a2cf-7bdcffacafa3",
   "metadata": {},
   "outputs": [],
   "source": [
    "def event_number_clean(num):\n",
    "    return int(num[2:])"
   ]
  },
  {
   "cell_type": "code",
   "execution_count": 7,
   "id": "adca4cb2-3851-4174-9306-780cc03033e9",
   "metadata": {},
   "outputs": [],
   "source": [
    "samp_df['Event Number'] = samp_df['Event Number'].apply(event_number_clean)"
   ]
  },
  {
   "cell_type": "code",
   "execution_count": null,
   "id": "4fc46a3d-487c-4480-b064-e018d03cd52c",
   "metadata": {},
   "outputs": [],
   "source": [
    "samp_df.iloc[[0]]"
   ]
  },
  {
   "cell_type": "markdown",
   "id": "cafddcbd-5517-46d2-8e71-8d4e81e84c92",
   "metadata": {
    "jp-MarkdownHeadingCollapsed": true,
    "tags": []
   },
   "source": [
    "#### 'Call Received'"
   ]
  },
  {
   "cell_type": "markdown",
   "id": "087fe64a-ae09-4bae-9cae-3eabd6860bb9",
   "metadata": {},
   "source": [
    "* This is a datetime column, so I'll parse as I read in the csv"
   ]
  },
  {
   "cell_type": "code",
   "execution_count": 23,
   "id": "c3a1ea6a-2e77-43a7-8ccf-b249ef6d217e",
   "metadata": {},
   "outputs": [
    {
     "data": {
      "text/plain": [
       "5797724   2016-12-01 16:51:05\n",
       "6541170   2021-06-10 21:08:23\n",
       "827216    2016-04-10 20:40:50\n",
       "503265    2019-06-03 10:42:15\n",
       "4525988   2020-06-05 00:59:52\n",
       "5769934   2018-10-06 21:03:00\n",
       "2849480   2020-09-04 20:03:21\n",
       "1010424   2020-01-23 07:48:02\n",
       "4775143   2018-06-03 17:17:59\n",
       "5435890   2015-11-26 16:23:20\n",
       "3102685   2019-04-26 10:28:01\n",
       "6226479   2020-12-28 15:26:32\n",
       "6396955   2021-01-28 18:17:39\n",
       "4008377   2017-04-25 14:15:19\n",
       "1958280   2019-12-30 09:32:33\n",
       "5330872   2016-01-14 13:41:43\n",
       "5190845   2015-12-18 05:18:07\n",
       "1015439   2015-01-07 17:15:41\n",
       "5494682   2018-04-20 17:05:18\n",
       "5482143   2016-02-11 19:56:38\n",
       "Name: Call Received, dtype: datetime64[ns]"
      ]
     },
     "execution_count": 23,
     "metadata": {},
     "output_type": "execute_result"
    }
   ],
   "source": [
    "samp_df['Call Received'].head(20)"
   ]
  },
  {
   "cell_type": "markdown",
   "id": "26ac04b2-185a-4ca3-8a77-132d5410b867",
   "metadata": {},
   "source": [
    "#### 'Complaint Number'"
   ]
  },
  {
   "cell_type": "markdown",
   "id": "04ec2855-a5f1-42f5-9d9a-b53542124dc0",
   "metadata": {},
   "source": [
    "* I am not interested in the specific number, just whether or not an incident was generated, so I'll update this to a simple Boolean flag"
   ]
  },
  {
   "cell_type": "code",
   "execution_count": 25,
   "id": "b7ec4c05-5797-49f6-8034-4de113883d08",
   "metadata": {},
   "outputs": [
    {
     "data": {
      "text/plain": [
       "True     60129\n",
       "False     5572\n",
       "Name: Complaint Number, dtype: int64"
      ]
     },
     "execution_count": 25,
     "metadata": {},
     "output_type": "execute_result"
    }
   ],
   "source": [
    "samp_df['Complaint Number'].isna().value_counts()"
   ]
  },
  {
   "cell_type": "code",
   "execution_count": 32,
   "id": "38ca8f2e-4a2e-4678-aa4d-06e64ee22b40",
   "metadata": {},
   "outputs": [],
   "source": [
    "def complaint_number_clean(num):\n",
    "    if num == null:\n",
    "        return 0\n",
    "    else:\n",
    "        return 1"
   ]
  },
  {
   "cell_type": "code",
   "execution_count": 33,
   "id": "7de962d5-9137-42d7-b0b5-b66e834e3fe4",
   "metadata": {},
   "outputs": [
    {
     "ename": "NameError",
     "evalue": "name 'Null' is not defined",
     "output_type": "error",
     "traceback": [
      "\u001b[1;31m---------------------------------------------------------------------------\u001b[0m",
      "\u001b[1;31mNameError\u001b[0m                                 Traceback (most recent call last)",
      "\u001b[1;32m<ipython-input-33-25ab8a792e57>\u001b[0m in \u001b[0;36m<module>\u001b[1;34m\u001b[0m\n\u001b[1;32m----> 1\u001b[1;33m \u001b[0msamp_df\u001b[0m\u001b[1;33m[\u001b[0m\u001b[1;34m'generated_incident_yn'\u001b[0m\u001b[1;33m]\u001b[0m \u001b[1;33m=\u001b[0m \u001b[0msamp_df\u001b[0m\u001b[1;33m[\u001b[0m\u001b[1;34m'Complaint Number'\u001b[0m\u001b[1;33m]\u001b[0m\u001b[1;33m.\u001b[0m\u001b[0mapply\u001b[0m\u001b[1;33m(\u001b[0m\u001b[0mcomplaint_number_clean\u001b[0m\u001b[1;33m)\u001b[0m\u001b[1;33m\u001b[0m\u001b[1;33m\u001b[0m\u001b[0m\n\u001b[0m",
      "\u001b[1;32m~\\Anaconda3\\envs\\data301\\lib\\site-packages\\pandas\\core\\series.py\u001b[0m in \u001b[0;36mapply\u001b[1;34m(self, func, convert_dtype, args, **kwargs)\u001b[0m\n\u001b[0;32m   4431\u001b[0m         \u001b[0mdtype\u001b[0m\u001b[1;33m:\u001b[0m \u001b[0mfloat64\u001b[0m\u001b[1;33m\u001b[0m\u001b[1;33m\u001b[0m\u001b[0m\n\u001b[0;32m   4432\u001b[0m         \"\"\"\n\u001b[1;32m-> 4433\u001b[1;33m         \u001b[1;32mreturn\u001b[0m \u001b[0mSeriesApply\u001b[0m\u001b[1;33m(\u001b[0m\u001b[0mself\u001b[0m\u001b[1;33m,\u001b[0m \u001b[0mfunc\u001b[0m\u001b[1;33m,\u001b[0m \u001b[0mconvert_dtype\u001b[0m\u001b[1;33m,\u001b[0m \u001b[0margs\u001b[0m\u001b[1;33m,\u001b[0m \u001b[0mkwargs\u001b[0m\u001b[1;33m)\u001b[0m\u001b[1;33m.\u001b[0m\u001b[0mapply\u001b[0m\u001b[1;33m(\u001b[0m\u001b[1;33m)\u001b[0m\u001b[1;33m\u001b[0m\u001b[1;33m\u001b[0m\u001b[0m\n\u001b[0m\u001b[0;32m   4434\u001b[0m \u001b[1;33m\u001b[0m\u001b[0m\n\u001b[0;32m   4435\u001b[0m     def _reduce(\n",
      "\u001b[1;32m~\\Anaconda3\\envs\\data301\\lib\\site-packages\\pandas\\core\\apply.py\u001b[0m in \u001b[0;36mapply\u001b[1;34m(self)\u001b[0m\n\u001b[0;32m   1080\u001b[0m             \u001b[1;32mreturn\u001b[0m \u001b[0mself\u001b[0m\u001b[1;33m.\u001b[0m\u001b[0mapply_str\u001b[0m\u001b[1;33m(\u001b[0m\u001b[1;33m)\u001b[0m\u001b[1;33m\u001b[0m\u001b[1;33m\u001b[0m\u001b[0m\n\u001b[0;32m   1081\u001b[0m \u001b[1;33m\u001b[0m\u001b[0m\n\u001b[1;32m-> 1082\u001b[1;33m         \u001b[1;32mreturn\u001b[0m \u001b[0mself\u001b[0m\u001b[1;33m.\u001b[0m\u001b[0mapply_standard\u001b[0m\u001b[1;33m(\u001b[0m\u001b[1;33m)\u001b[0m\u001b[1;33m\u001b[0m\u001b[1;33m\u001b[0m\u001b[0m\n\u001b[0m\u001b[0;32m   1083\u001b[0m \u001b[1;33m\u001b[0m\u001b[0m\n\u001b[0;32m   1084\u001b[0m     \u001b[1;32mdef\u001b[0m \u001b[0magg\u001b[0m\u001b[1;33m(\u001b[0m\u001b[0mself\u001b[0m\u001b[1;33m)\u001b[0m\u001b[1;33m:\u001b[0m\u001b[1;33m\u001b[0m\u001b[1;33m\u001b[0m\u001b[0m\n",
      "\u001b[1;32m~\\Anaconda3\\envs\\data301\\lib\\site-packages\\pandas\\core\\apply.py\u001b[0m in \u001b[0;36mapply_standard\u001b[1;34m(self)\u001b[0m\n\u001b[0;32m   1135\u001b[0m                 \u001b[1;31m# List[Union[Callable[..., Any], str]]]]]\"; expected\u001b[0m\u001b[1;33m\u001b[0m\u001b[1;33m\u001b[0m\u001b[0m\n\u001b[0;32m   1136\u001b[0m                 \u001b[1;31m# \"Callable[[Any], Any]\"\u001b[0m\u001b[1;33m\u001b[0m\u001b[1;33m\u001b[0m\u001b[0m\n\u001b[1;32m-> 1137\u001b[1;33m                 mapped = lib.map_infer(\n\u001b[0m\u001b[0;32m   1138\u001b[0m                     \u001b[0mvalues\u001b[0m\u001b[1;33m,\u001b[0m\u001b[1;33m\u001b[0m\u001b[1;33m\u001b[0m\u001b[0m\n\u001b[0;32m   1139\u001b[0m                     \u001b[0mf\u001b[0m\u001b[1;33m,\u001b[0m  \u001b[1;31m# type: ignore[arg-type]\u001b[0m\u001b[1;33m\u001b[0m\u001b[1;33m\u001b[0m\u001b[0m\n",
      "\u001b[1;32m~\\Anaconda3\\envs\\data301\\lib\\site-packages\\pandas\\_libs\\lib.pyx\u001b[0m in \u001b[0;36mpandas._libs.lib.map_infer\u001b[1;34m()\u001b[0m\n",
      "\u001b[1;32m<ipython-input-32-bc1a9af89a7f>\u001b[0m in \u001b[0;36mcomplaint_number_clean\u001b[1;34m(num)\u001b[0m\n\u001b[0;32m      1\u001b[0m \u001b[1;32mdef\u001b[0m \u001b[0mcomplaint_number_clean\u001b[0m\u001b[1;33m(\u001b[0m\u001b[0mnum\u001b[0m\u001b[1;33m)\u001b[0m\u001b[1;33m:\u001b[0m\u001b[1;33m\u001b[0m\u001b[1;33m\u001b[0m\u001b[0m\n\u001b[1;32m----> 2\u001b[1;33m     \u001b[1;32mif\u001b[0m \u001b[0mnum\u001b[0m \u001b[1;33m==\u001b[0m \u001b[0mNull\u001b[0m\u001b[1;33m:\u001b[0m\u001b[1;33m\u001b[0m\u001b[1;33m\u001b[0m\u001b[0m\n\u001b[0m\u001b[0;32m      3\u001b[0m         \u001b[1;32mreturn\u001b[0m \u001b[1;36m0\u001b[0m\u001b[1;33m\u001b[0m\u001b[1;33m\u001b[0m\u001b[0m\n\u001b[0;32m      4\u001b[0m     \u001b[1;32melse\u001b[0m\u001b[1;33m:\u001b[0m\u001b[1;33m\u001b[0m\u001b[1;33m\u001b[0m\u001b[0m\n\u001b[0;32m      5\u001b[0m         \u001b[1;32mreturn\u001b[0m \u001b[1;36m1\u001b[0m\u001b[1;33m\u001b[0m\u001b[1;33m\u001b[0m\u001b[0m\n",
      "\u001b[1;31mNameError\u001b[0m: name 'Null' is not defined"
     ]
    }
   ],
   "source": [
    "samp_df['generated_incident_yn'] = samp_df['Complaint Number'].apply(complaint_number_clean)"
   ]
  },
  {
   "cell_type": "code",
   "execution_count": 31,
   "id": "076f294e-98c4-46bf-8e0b-881345d37291",
   "metadata": {},
   "outputs": [
    {
     "data": {
      "text/plain": [
       "1    65701\n",
       "Name: generated_incident, dtype: int64"
      ]
     },
     "execution_count": 31,
     "metadata": {},
     "output_type": "execute_result"
    }
   ],
   "source": [
    "# check the function\n",
    "samp_df['generated_incident'].value_counts()"
   ]
  },
  {
   "cell_type": "markdown",
   "id": "296f6456-385d-49fb-a23f-f3e001a37ab2",
   "metadata": {},
   "source": [
    "## EDA"
   ]
  },
  {
   "cell_type": "code",
   "execution_count": null,
   "id": "a3d5b074-88cd-40ee-b49a-52e6d57ac56d",
   "metadata": {},
   "outputs": [],
   "source": [
    "main_df.columns"
   ]
  },
  {
   "cell_type": "code",
   "execution_count": null,
   "id": "de268683-c1ce-4d52-adc9-95a74ea8155a",
   "metadata": {},
   "outputs": [],
   "source": [
    "main_df.dtypes"
   ]
  },
  {
   "cell_type": "code",
   "execution_count": null,
   "id": "49a1e6f0-b968-4a75-a805-9c7be85ef557",
   "metadata": {},
   "outputs": [],
   "source": [
    "for col in cols:\n",
    "    print(f'Column name: {col}')\n",
    "    print(main_df[col].head(10))\n",
    "    print('\\n*******\\n')"
   ]
  },
  {
   "cell_type": "markdown",
   "id": "3425c7b1-3763-4fdb-bed4-a8dd82f6e259",
   "metadata": {},
   "source": []
  }
 ],
 "metadata": {
  "kernelspec": {
   "display_name": "Python 3",
   "language": "python",
   "name": "python3"
  },
  "language_info": {
   "codemirror_mode": {
    "name": "ipython",
    "version": 3
   },
   "file_extension": ".py",
   "mimetype": "text/x-python",
   "name": "python",
   "nbconvert_exporter": "python",
   "pygments_lexer": "ipython3",
   "version": "3.9.7"
  }
 },
 "nbformat": 4,
 "nbformat_minor": 5
}
