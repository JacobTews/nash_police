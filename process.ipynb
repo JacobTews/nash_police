{
 "cells": [
  {
   "cell_type": "markdown",
   "id": "141c8304-aa47-4caf-92ce-6fd27494bab0",
   "metadata": {},
   "source": [
    "# Nashville Police Service Calls Analysis"
   ]
  },
  {
   "cell_type": "markdown",
   "id": "2f5d9262-aa6a-42c0-ad6e-edf155d5440b",
   "metadata": {},
   "source": [
    "## Dependencies"
   ]
  },
  {
   "cell_type": "code",
   "execution_count": 1,
   "id": "737b6e83-a8f7-491d-a521-f9758907f646",
   "metadata": {},
   "outputs": [],
   "source": [
    "from matplotlib import pyplot as plt\n",
    "import numpy as np\n",
    "import pandas as pd\n",
    "import requests"
   ]
  },
  {
   "cell_type": "markdown",
   "id": "47e5ad1f-e6ad-4b9e-9291-2ee384f0eae0",
   "metadata": {
    "tags": []
   },
   "source": [
    "### Import"
   ]
  },
  {
   "cell_type": "markdown",
   "id": "f649984b-4c2f-4106-a880-dca1de534f21",
   "metadata": {},
   "source": [
    "* N.B. - The dataset is large (more than 6.5M records), so it is not available in this Github repo.\n",
    "\n",
    "&nbsp; &nbsp; &nbsp; &nbsp; &nbsp; If you'd like the dataset, you may find it [here](https://data.nashville.gov/Police/Metro-Nashville-Police-Department-Calls-for-Servic/kwnd-qrrm), on the nashville.gov website."
   ]
  },
  {
   "cell_type": "code",
   "execution_count": 20,
   "id": "a5c83b24-5837-4ad0-816d-08fbd00e959b",
   "metadata": {},
   "outputs": [
    {
     "name": "stderr",
     "output_type": "stream",
     "text": [
      "<ipython-input-20-ff42fa3e5590>:1: DtypeWarning: Columns (10,14,18) have mixed types. Specify dtype option on import or set low_memory=False.\n",
      "  main_df = pd.read_csv('data/Metro_Nashville_Police_Department_Calls_for_Service.csv', parse_dates=['Call Received'])\n"
     ]
    }
   ],
   "source": [
    "main_df = pd.read_csv('data/Metro_Nashville_Police_Department_Calls_for_Service.csv', parse_dates=['Call Received'])"
   ]
  },
  {
   "cell_type": "markdown",
   "id": "8d567bc1-e4ed-4432-903b-cab35f163c4c",
   "metadata": {},
   "source": [
    "### Preprocessing"
   ]
  },
  {
   "cell_type": "markdown",
   "id": "4d5c2ea0-7662-49c7-9c95-d474ac9341af",
   "metadata": {},
   "source": [
    "* Let's get a sample of the data to see what we're working with."
   ]
  },
  {
   "cell_type": "code",
   "execution_count": 21,
   "id": "e369ba3c-7ed8-498c-b510-73d7a0c5ae4f",
   "metadata": {
    "tags": []
   },
   "outputs": [],
   "source": [
    "samp_df = main_df.sample(frac=.01, random_state=22)"
   ]
  },
  {
   "cell_type": "code",
   "execution_count": 8,
   "id": "765d5905-57a4-4480-bf89-7059e977a152",
   "metadata": {},
   "outputs": [],
   "source": [
    "cols = ['Event Number', 'Call Received', 'Complaint Number', 'Tencode',\n",
    "       'Tencode Description', 'Tencode Suffix', 'Tencode Suffix Description',\n",
    "       'Disposition Code', 'Disposition Description', 'Block', 'Street Name',\n",
    "       'Unit Dispatched', 'Shift', 'Sector', 'Zone', 'RPA', 'Latitude',\n",
    "       'Longitude', 'Mapped Location']"
   ]
  },
  {
   "cell_type": "code",
   "execution_count": 22,
   "id": "cbe384b4-2517-4641-86be-263ca67efc94",
   "metadata": {},
   "outputs": [
    {
     "data": {
      "text/plain": [
       "Event Number                          object\n",
       "Call Received                 datetime64[ns]\n",
       "Complaint Number                     float64\n",
       "Tencode                                int64\n",
       "Tencode Description                   object\n",
       "Tencode Suffix                        object\n",
       "Tencode Suffix Description            object\n",
       "Disposition Code                      object\n",
       "Disposition Description               object\n",
       "Block                                float64\n",
       "Street Name                           object\n",
       "Unit Dispatched                       object\n",
       "Shift                                 object\n",
       "Sector                                object\n",
       "Zone                                  object\n",
       "RPA                                  float64\n",
       "Latitude                             float64\n",
       "Longitude                            float64\n",
       "Mapped Location                       object\n",
       "dtype: object"
      ]
     },
     "execution_count": 22,
     "metadata": {},
     "output_type": "execute_result"
    }
   ],
   "source": [
    "samp_df.dtypes"
   ]
  },
  {
   "cell_type": "markdown",
   "id": "236b2cbe-85cf-4162-bb04-edd7b2301118",
   "metadata": {
    "jp-MarkdownHeadingCollapsed": true,
    "tags": []
   },
   "source": [
    "#### 'Event Number'"
   ]
  },
  {
   "cell_type": "markdown",
   "id": "a916fe8b-6357-4c95-b4f6-97b1dd38e100",
   "metadata": {},
   "source": [
    "* It looks like all the event numbers begin with 'PD'; if this is the case, then I can strip those two characters and cast as an int, saving space"
   ]
  },
  {
   "cell_type": "code",
   "execution_count": null,
   "id": "827ca78b-afae-4854-a1d9-9f2f68800f59",
   "metadata": {},
   "outputs": [],
   "source": [
    "pd_check = [event.startswith('PD') for event in samp_df['Event Number'].values]"
   ]
  },
  {
   "cell_type": "code",
   "execution_count": null,
   "id": "65af56ba-9a92-4dad-8f4a-4207b0f27db2",
   "metadata": {},
   "outputs": [],
   "source": [
    "print(sum(pd_check))"
   ]
  },
  {
   "cell_type": "code",
   "execution_count": 6,
   "id": "176a56db-fa31-4b65-a2cf-7bdcffacafa3",
   "metadata": {},
   "outputs": [],
   "source": [
    "def event_number_clean(num):\n",
    "    return int(num[2:])"
   ]
  },
  {
   "cell_type": "code",
   "execution_count": 7,
   "id": "adca4cb2-3851-4174-9306-780cc03033e9",
   "metadata": {},
   "outputs": [],
   "source": [
    "samp_df['Event Number'] = samp_df['Event Number'].apply(event_number_clean)"
   ]
  },
  {
   "cell_type": "code",
   "execution_count": null,
   "id": "4fc46a3d-487c-4480-b064-e018d03cd52c",
   "metadata": {},
   "outputs": [],
   "source": [
    "samp_df.iloc[[0]]"
   ]
  },
  {
   "cell_type": "markdown",
   "id": "cafddcbd-5517-46d2-8e71-8d4e81e84c92",
   "metadata": {
    "jp-MarkdownHeadingCollapsed": true,
    "tags": []
   },
   "source": [
    "#### 'Call Received'"
   ]
  },
  {
   "cell_type": "markdown",
   "id": "087fe64a-ae09-4bae-9cae-3eabd6860bb9",
   "metadata": {},
   "source": [
    "* This is a datetime column, so I'll parse as I read in the csv"
   ]
  },
  {
   "cell_type": "code",
   "execution_count": 23,
   "id": "c3a1ea6a-2e77-43a7-8ccf-b249ef6d217e",
   "metadata": {},
   "outputs": [
    {
     "data": {
      "text/plain": [
       "5797724   2016-12-01 16:51:05\n",
       "6541170   2021-06-10 21:08:23\n",
       "827216    2016-04-10 20:40:50\n",
       "503265    2019-06-03 10:42:15\n",
       "4525988   2020-06-05 00:59:52\n",
       "5769934   2018-10-06 21:03:00\n",
       "2849480   2020-09-04 20:03:21\n",
       "1010424   2020-01-23 07:48:02\n",
       "4775143   2018-06-03 17:17:59\n",
       "5435890   2015-11-26 16:23:20\n",
       "3102685   2019-04-26 10:28:01\n",
       "6226479   2020-12-28 15:26:32\n",
       "6396955   2021-01-28 18:17:39\n",
       "4008377   2017-04-25 14:15:19\n",
       "1958280   2019-12-30 09:32:33\n",
       "5330872   2016-01-14 13:41:43\n",
       "5190845   2015-12-18 05:18:07\n",
       "1015439   2015-01-07 17:15:41\n",
       "5494682   2018-04-20 17:05:18\n",
       "5482143   2016-02-11 19:56:38\n",
       "Name: Call Received, dtype: datetime64[ns]"
      ]
     },
     "execution_count": 23,
     "metadata": {},
     "output_type": "execute_result"
    }
   ],
   "source": [
    "samp_df['Call Received'].head(20)"
   ]
  },
  {
   "cell_type": "markdown",
   "id": "26ac04b2-185a-4ca3-8a77-132d5410b867",
   "metadata": {
    "jp-MarkdownHeadingCollapsed": true,
    "tags": []
   },
   "source": [
    "#### 'Complaint Number'"
   ]
  },
  {
   "cell_type": "markdown",
   "id": "04ec2855-a5f1-42f5-9d9a-b53542124dc0",
   "metadata": {},
   "source": [
    "* I am not interested in the specific number, just whether or not an incident was generated, so I'll update this to a simple Boolean flag"
   ]
  },
  {
   "cell_type": "code",
   "execution_count": 39,
   "id": "b7ec4c05-5797-49f6-8034-4de113883d08",
   "metadata": {},
   "outputs": [
    {
     "data": {
      "text/plain": [
       "True     60129\n",
       "False     5572\n",
       "Name: Complaint Number, dtype: int64"
      ]
     },
     "execution_count": 55,
     "metadata": {},
     "output_type": "execute_result"
    }
   ],
   "source": [
    "samp_df['Complaint Number'].isna().value_counts()"
   ]
  },
  {
   "cell_type": "code",
   "execution_count": 42,
   "id": "b17786c2-eefd-432d-a34e-be8fa65a21e6",
   "metadata": {},
   "outputs": [
    {
     "data": {
      "text/plain": [
       "numpy.float64"
      ]
     },
     "execution_count": 42,
     "metadata": {},
     "output_type": "execute_result"
    }
   ],
   "source": [
    "type(samp_df['Complaint Number'][5797724])"
   ]
  },
  {
   "cell_type": "code",
   "execution_count": 58,
   "id": "38ca8f2e-4a2e-4678-aa4d-06e64ee22b40",
   "metadata": {},
   "outputs": [],
   "source": [
    "def complaint_number_clean(num):\n",
    "    if np.isnan(num):\n",
    "        return 0\n",
    "    else:\n",
    "        return 1"
   ]
  },
  {
   "cell_type": "code",
   "execution_count": 59,
   "id": "7de962d5-9137-42d7-b0b5-b66e834e3fe4",
   "metadata": {},
   "outputs": [],
   "source": [
    "samp_df['generated_incident_yn'] = samp_df['Complaint Number'].apply(complaint_number_clean)"
   ]
  },
  {
   "cell_type": "code",
   "execution_count": 60,
   "id": "076f294e-98c4-46bf-8e0b-881345d37291",
   "metadata": {},
   "outputs": [
    {
     "data": {
      "text/plain": [
       "0    60129\n",
       "1     5572\n",
       "Name: generated_incident_yn, dtype: int64"
      ]
     },
     "execution_count": 60,
     "metadata": {},
     "output_type": "execute_result"
    }
   ],
   "source": [
    "# check the function\n",
    "samp_df['generated_incident_yn'].value_counts()"
   ]
  },
  {
   "cell_type": "code",
   "execution_count": 62,
   "id": "f1e336cf-b016-4694-86a7-ee4562c05cd0",
   "metadata": {
    "collapsed": true,
    "jupyter": {
     "outputs_hidden": true,
     "source_hidden": true
    },
    "tags": []
   },
   "outputs": [
    {
     "name": "stdout",
     "output_type": "stream",
     "text": [
      "#### 'Event Number'\n",
      "#### 'Call Received'\n",
      "#### 'Complaint Number'\n",
      "#### 'Tencode'\n",
      "#### 'Tencode Description'\n",
      "#### 'Tencode Suffix'\n",
      "#### 'Tencode Suffix Description'\n",
      "#### 'Disposition Code'\n",
      "#### 'Disposition Description'\n",
      "#### 'Block'\n",
      "#### 'Street Name'\n",
      "#### 'Unit Dispatched'\n",
      "#### 'Shift'\n",
      "#### 'Sector'\n",
      "#### 'Zone'\n",
      "#### 'RPA'\n",
      "#### 'Latitude'\n",
      "#### 'Longitude'\n",
      "#### 'Mapped Location'\n"
     ]
    }
   ],
   "source": [
    "# Markdown shortcut!\n",
    "for col in cols:\n",
    "    print(f\"#### '{col}'\")"
   ]
  },
  {
   "cell_type": "markdown",
   "id": "bc6b49ce-e117-4548-b657-30517b94b7ce",
   "metadata": {
    "jp-MarkdownHeadingCollapsed": true,
    "tags": []
   },
   "source": [
    "#### 'Tencode'"
   ]
  },
  {
   "cell_type": "markdown",
   "id": "e2cef5a5-199c-4a77-b210-353f5d633884",
   "metadata": {},
   "source": [
    "* This column seems to be clean. It's high-cardinality, and the codes are numeric, so I'll have to be careful with them if I do any modeling."
   ]
  },
  {
   "cell_type": "code",
   "execution_count": 84,
   "id": "d57ed90d-061d-48e7-85b4-e0a599fdf2e4",
   "metadata": {},
   "outputs": [
    {
     "data": {
      "text/plain": [
       "43      12710\n",
       "96      11993\n",
       "93      11775\n",
       "15       3422\n",
       "44       2926\n",
       "45       2918\n",
       "50       2729\n",
       "87       2448\n",
       "40       2223\n",
       "70       1943\n",
       "71       1888\n",
       "3        1624\n",
       "88       1375\n",
       "46        795\n",
       "49        692\n",
       "57        679\n",
       "83        572\n",
       "95        394\n",
       "53        337\n",
       "92        333\n",
       "54        287\n",
       "75        261\n",
       "65        256\n",
       "16        230\n",
       "63        215\n",
       "42        164\n",
       "64         88\n",
       "61         56\n",
       "59         55\n",
       "35         55\n",
       "52         51\n",
       "62         45\n",
       "58         35\n",
       "14         33\n",
       "94         22\n",
       "73         21\n",
       "51         12\n",
       "1000       10\n",
       "68         10\n",
       "3000        4\n",
       "77          4\n",
       "66          4\n",
       "8000        4\n",
       "89          2\n",
       "79          1\n",
       "Name: Tencode, dtype: int64"
      ]
     },
     "execution_count": 84,
     "metadata": {},
     "output_type": "execute_result"
    }
   ],
   "source": [
    "samp_df['Tencode'].value_counts()"
   ]
  },
  {
   "cell_type": "markdown",
   "id": "d0912133-0ac4-4d58-adb3-9bb407ea2a1c",
   "metadata": {
    "jp-MarkdownHeadingCollapsed": true,
    "tags": []
   },
   "source": [
    "#### 'Tencode Description'"
   ]
  },
  {
   "cell_type": "markdown",
   "id": "36a0a3fb-b8fa-476d-8332-5035806acc4a",
   "metadata": {},
   "source": [
    "* It looks like there are some blanks here.\n",
    "* However, the desciptions match the appendix in the metadata document, so rather than clogging the dataframe with strings, I'll remove this column."
   ]
  },
  {
   "cell_type": "code",
   "execution_count": 66,
   "id": "6f73e286-d49c-4a06-aec7-64dad5820f3e",
   "metadata": {},
   "outputs": [
    {
     "data": {
      "text/plain": [
       "False    64077\n",
       "True      1624\n",
       "Name: Tencode Description, dtype: int64"
      ]
     },
     "execution_count": 66,
     "metadata": {},
     "output_type": "execute_result"
    }
   ],
   "source": [
    "samp_df['Tencode Description'].isna().value_counts()"
   ]
  },
  {
   "cell_type": "code",
   "execution_count": 67,
   "id": "f0e818f5-bb67-413e-a9e1-2ef4bca22a33",
   "metadata": {},
   "outputs": [
    {
     "data": {
      "text/html": [
       "<div>\n",
       "<style scoped>\n",
       "    .dataframe tbody tr th:only-of-type {\n",
       "        vertical-align: middle;\n",
       "    }\n",
       "\n",
       "    .dataframe tbody tr th {\n",
       "        vertical-align: top;\n",
       "    }\n",
       "\n",
       "    .dataframe thead th {\n",
       "        text-align: right;\n",
       "    }\n",
       "</style>\n",
       "<table border=\"1\" class=\"dataframe\">\n",
       "  <thead>\n",
       "    <tr style=\"text-align: right;\">\n",
       "      <th></th>\n",
       "      <th>Event Number</th>\n",
       "      <th>Call Received</th>\n",
       "      <th>Complaint Number</th>\n",
       "      <th>Tencode</th>\n",
       "      <th>Tencode Description</th>\n",
       "      <th>Tencode Suffix</th>\n",
       "      <th>Tencode Suffix Description</th>\n",
       "      <th>Disposition Code</th>\n",
       "      <th>Disposition Description</th>\n",
       "      <th>Block</th>\n",
       "      <th>...</th>\n",
       "      <th>Unit Dispatched</th>\n",
       "      <th>Shift</th>\n",
       "      <th>Sector</th>\n",
       "      <th>Zone</th>\n",
       "      <th>RPA</th>\n",
       "      <th>Latitude</th>\n",
       "      <th>Longitude</th>\n",
       "      <th>Mapped Location</th>\n",
       "      <th>generated_incident</th>\n",
       "      <th>generated_incident_yn</th>\n",
       "    </tr>\n",
       "  </thead>\n",
       "  <tbody>\n",
       "    <tr>\n",
       "      <th>5797724</th>\n",
       "      <td>PD201601214292</td>\n",
       "      <td>2016-12-01 16:51:05</td>\n",
       "      <td>NaN</td>\n",
       "      <td>88</td>\n",
       "      <td>INVESTIGATE 911 HANG-UP CALL</td>\n",
       "      <td>PW</td>\n",
       "      <td>NaN</td>\n",
       "      <td>5</td>\n",
       "      <td>GONE ON ARRIVAL</td>\n",
       "      <td>NaN</td>\n",
       "      <td>...</td>\n",
       "      <td>322B</td>\n",
       "      <td>B</td>\n",
       "      <td>S</td>\n",
       "      <td>327.0</td>\n",
       "      <td>8861.0</td>\n",
       "      <td>NaN</td>\n",
       "      <td>NaN</td>\n",
       "      <td>NaN</td>\n",
       "      <td>1</td>\n",
       "      <td>0</td>\n",
       "    </tr>\n",
       "    <tr>\n",
       "      <th>6541170</th>\n",
       "      <td>PD202100376271</td>\n",
       "      <td>2021-06-10 21:08:23</td>\n",
       "      <td>NaN</td>\n",
       "      <td>43</td>\n",
       "      <td>WANT OFFICER FOR INVESTIGATION / ASSISTA</td>\n",
       "      <td>PV</td>\n",
       "      <td>NaN</td>\n",
       "      <td>5</td>\n",
       "      <td>GONE ON ARRIVAL</td>\n",
       "      <td>NaN</td>\n",
       "      <td>...</td>\n",
       "      <td>5P66</td>\n",
       "      <td>B</td>\n",
       "      <td>H</td>\n",
       "      <td>535.0</td>\n",
       "      <td>8937.0</td>\n",
       "      <td>NaN</td>\n",
       "      <td>NaN</td>\n",
       "      <td>NaN</td>\n",
       "      <td>1</td>\n",
       "      <td>0</td>\n",
       "    </tr>\n",
       "    <tr>\n",
       "      <th>827216</th>\n",
       "      <td>PD201600371223</td>\n",
       "      <td>2016-04-10 20:40:50</td>\n",
       "      <td>NaN</td>\n",
       "      <td>93</td>\n",
       "      <td>TRAFFIC VIOLATION</td>\n",
       "      <td>NaN</td>\n",
       "      <td>NaN</td>\n",
       "      <td>9T</td>\n",
       "      <td>NaN</td>\n",
       "      <td>NaN</td>\n",
       "      <td>...</td>\n",
       "      <td>332B</td>\n",
       "      <td>B</td>\n",
       "      <td>335</td>\n",
       "      <td>NaN</td>\n",
       "      <td>8721.0</td>\n",
       "      <td>36.045</td>\n",
       "      <td>-86.662</td>\n",
       "      <td>POINT (-86.662 36.045)</td>\n",
       "      <td>1</td>\n",
       "      <td>0</td>\n",
       "    </tr>\n",
       "    <tr>\n",
       "      <th>503265</th>\n",
       "      <td>PD201900487756</td>\n",
       "      <td>2019-06-03 10:42:15</td>\n",
       "      <td>2.019042e+10</td>\n",
       "      <td>71</td>\n",
       "      <td>BURGLARY - NON-RESIDENCE</td>\n",
       "      <td>R</td>\n",
       "      <td>REPORT</td>\n",
       "      <td>1</td>\n",
       "      <td>M.P.D. REPORT COMPLED</td>\n",
       "      <td>NaN</td>\n",
       "      <td>...</td>\n",
       "      <td>811A</td>\n",
       "      <td>A</td>\n",
       "      <td>NaN</td>\n",
       "      <td>NaN</td>\n",
       "      <td>NaN</td>\n",
       "      <td>NaN</td>\n",
       "      <td>NaN</td>\n",
       "      <td>NaN</td>\n",
       "      <td>1</td>\n",
       "      <td>1</td>\n",
       "    </tr>\n",
       "    <tr>\n",
       "      <th>4525988</th>\n",
       "      <td>PD202000445523</td>\n",
       "      <td>2020-06-05 00:59:52</td>\n",
       "      <td>NaN</td>\n",
       "      <td>83</td>\n",
       "      <td>SHOTS FIRED</td>\n",
       "      <td>P</td>\n",
       "      <td>PROGRESS</td>\n",
       "      <td>11</td>\n",
       "      <td>DISREGARD / SIGNAL 9</td>\n",
       "      <td>NaN</td>\n",
       "      <td>...</td>\n",
       "      <td>NaN</td>\n",
       "      <td>C</td>\n",
       "      <td>S</td>\n",
       "      <td>321</td>\n",
       "      <td>8445.0</td>\n",
       "      <td>NaN</td>\n",
       "      <td>NaN</td>\n",
       "      <td>NaN</td>\n",
       "      <td>1</td>\n",
       "      <td>0</td>\n",
       "    </tr>\n",
       "    <tr>\n",
       "      <th>5769934</th>\n",
       "      <td>PD201800981510</td>\n",
       "      <td>2018-10-06 21:03:00</td>\n",
       "      <td>NaN</td>\n",
       "      <td>87</td>\n",
       "      <td>SAFETY HAZARD</td>\n",
       "      <td>W</td>\n",
       "      <td>WARRANT ASSISTANCE ESCORT</td>\n",
       "      <td>6</td>\n",
       "      <td>ASSISTED OTHER UNIT</td>\n",
       "      <td>NaN</td>\n",
       "      <td>...</td>\n",
       "      <td>317B</td>\n",
       "      <td>B</td>\n",
       "      <td>S</td>\n",
       "      <td>331.0</td>\n",
       "      <td>8719.0</td>\n",
       "      <td>NaN</td>\n",
       "      <td>NaN</td>\n",
       "      <td>NaN</td>\n",
       "      <td>1</td>\n",
       "      <td>0</td>\n",
       "    </tr>\n",
       "    <tr>\n",
       "      <th>2849480</th>\n",
       "      <td>PD202000664776</td>\n",
       "      <td>2020-09-04 20:03:21</td>\n",
       "      <td>NaN</td>\n",
       "      <td>43</td>\n",
       "      <td>WANT OFFICER FOR INVESTIGATION / ASSISTA</td>\n",
       "      <td>P</td>\n",
       "      <td>PROGRESS</td>\n",
       "      <td>11</td>\n",
       "      <td>DISREGARD / SIGNAL 9</td>\n",
       "      <td>NaN</td>\n",
       "      <td>...</td>\n",
       "      <td>2940</td>\n",
       "      <td>B</td>\n",
       "      <td>C</td>\n",
       "      <td>413</td>\n",
       "      <td>1101.0</td>\n",
       "      <td>NaN</td>\n",
       "      <td>NaN</td>\n",
       "      <td>NaN</td>\n",
       "      <td>1</td>\n",
       "      <td>0</td>\n",
       "    </tr>\n",
       "    <tr>\n",
       "      <th>1010424</th>\n",
       "      <td>PD202000061960</td>\n",
       "      <td>2020-01-23 07:48:02</td>\n",
       "      <td>2.020005e+10</td>\n",
       "      <td>44</td>\n",
       "      <td>DISORDERLY PERSON</td>\n",
       "      <td>R</td>\n",
       "      <td>REPORT</td>\n",
       "      <td>1</td>\n",
       "      <td>M.P.D. REPORT COMPLED</td>\n",
       "      <td>NaN</td>\n",
       "      <td>...</td>\n",
       "      <td>311A</td>\n",
       "      <td>A</td>\n",
       "      <td>NaN</td>\n",
       "      <td>NaN</td>\n",
       "      <td>NaN</td>\n",
       "      <td>NaN</td>\n",
       "      <td>NaN</td>\n",
       "      <td>NaN</td>\n",
       "      <td>1</td>\n",
       "      <td>1</td>\n",
       "    </tr>\n",
       "    <tr>\n",
       "      <th>4775143</th>\n",
       "      <td>PD201800555264</td>\n",
       "      <td>2018-06-03 17:17:59</td>\n",
       "      <td>NaN</td>\n",
       "      <td>93</td>\n",
       "      <td>TRAFFIC VIOLATION</td>\n",
       "      <td>NaN</td>\n",
       "      <td>NaN</td>\n",
       "      <td>9T</td>\n",
       "      <td>NaN</td>\n",
       "      <td>NaN</td>\n",
       "      <td>...</td>\n",
       "      <td>125B</td>\n",
       "      <td>B</td>\n",
       "      <td>W</td>\n",
       "      <td>125.0</td>\n",
       "      <td>4811.0</td>\n",
       "      <td>NaN</td>\n",
       "      <td>NaN</td>\n",
       "      <td>NaN</td>\n",
       "      <td>1</td>\n",
       "      <td>0</td>\n",
       "    </tr>\n",
       "    <tr>\n",
       "      <th>5435890</th>\n",
       "      <td>PD201501232246</td>\n",
       "      <td>2015-11-26 16:23:20</td>\n",
       "      <td>NaN</td>\n",
       "      <td>93</td>\n",
       "      <td>TRAFFIC VIOLATION</td>\n",
       "      <td>NaN</td>\n",
       "      <td>NaN</td>\n",
       "      <td>9T</td>\n",
       "      <td>NaN</td>\n",
       "      <td>NaN</td>\n",
       "      <td>...</td>\n",
       "      <td>317B</td>\n",
       "      <td>B</td>\n",
       "      <td>S</td>\n",
       "      <td>311</td>\n",
       "      <td>8159.0</td>\n",
       "      <td>NaN</td>\n",
       "      <td>NaN</td>\n",
       "      <td>NaN</td>\n",
       "      <td>1</td>\n",
       "      <td>0</td>\n",
       "    </tr>\n",
       "    <tr>\n",
       "      <th>3102685</th>\n",
       "      <td>PD201900370186</td>\n",
       "      <td>2019-04-26 10:28:01</td>\n",
       "      <td>2.019031e+10</td>\n",
       "      <td>57</td>\n",
       "      <td>FIGHT / ASSAULT</td>\n",
       "      <td>R</td>\n",
       "      <td>REPORT</td>\n",
       "      <td>1</td>\n",
       "      <td>M.P.D. REPORT COMPLED</td>\n",
       "      <td>NaN</td>\n",
       "      <td>...</td>\n",
       "      <td>533A</td>\n",
       "      <td>A</td>\n",
       "      <td>NaN</td>\n",
       "      <td>NaN</td>\n",
       "      <td>NaN</td>\n",
       "      <td>NaN</td>\n",
       "      <td>NaN</td>\n",
       "      <td>NaN</td>\n",
       "      <td>1</td>\n",
       "      <td>1</td>\n",
       "    </tr>\n",
       "    <tr>\n",
       "      <th>6226479</th>\n",
       "      <td>PD202000927420</td>\n",
       "      <td>2020-12-28 15:26:32</td>\n",
       "      <td>NaN</td>\n",
       "      <td>49</td>\n",
       "      <td>VEHICLE BLOCKING RIGHT OF WAY</td>\n",
       "      <td>P</td>\n",
       "      <td>PROGRESS</td>\n",
       "      <td>5S</td>\n",
       "      <td>NaN</td>\n",
       "      <td>NaN</td>\n",
       "      <td>...</td>\n",
       "      <td>5133</td>\n",
       "      <td>B</td>\n",
       "      <td>MT</td>\n",
       "      <td>827.0</td>\n",
       "      <td>8653.0</td>\n",
       "      <td>NaN</td>\n",
       "      <td>NaN</td>\n",
       "      <td>NaN</td>\n",
       "      <td>1</td>\n",
       "      <td>0</td>\n",
       "    </tr>\n",
       "    <tr>\n",
       "      <th>6396955</th>\n",
       "      <td>PD202100063177</td>\n",
       "      <td>2021-01-28 18:17:39</td>\n",
       "      <td>2.021005e+10</td>\n",
       "      <td>50</td>\n",
       "      <td>THEFT</td>\n",
       "      <td>RT</td>\n",
       "      <td>NaN</td>\n",
       "      <td>1</td>\n",
       "      <td>M.P.D. REPORT COMPLED</td>\n",
       "      <td>NaN</td>\n",
       "      <td>...</td>\n",
       "      <td>TE23</td>\n",
       "      <td>B</td>\n",
       "      <td>NaN</td>\n",
       "      <td>NaN</td>\n",
       "      <td>NaN</td>\n",
       "      <td>NaN</td>\n",
       "      <td>NaN</td>\n",
       "      <td>NaN</td>\n",
       "      <td>1</td>\n",
       "      <td>1</td>\n",
       "    </tr>\n",
       "    <tr>\n",
       "      <th>4008377</th>\n",
       "      <td>PD201700417300</td>\n",
       "      <td>2017-04-25 14:15:19</td>\n",
       "      <td>NaN</td>\n",
       "      <td>96</td>\n",
       "      <td>BUSINESS CHECK</td>\n",
       "      <td>NaN</td>\n",
       "      <td>NaN</td>\n",
       "      <td>12</td>\n",
       "      <td>LOCATION/BUILDING SECURE</td>\n",
       "      <td>NaN</td>\n",
       "      <td>...</td>\n",
       "      <td>4B46</td>\n",
       "      <td>A</td>\n",
       "      <td>C</td>\n",
       "      <td>411</td>\n",
       "      <td>4123.0</td>\n",
       "      <td>NaN</td>\n",
       "      <td>NaN</td>\n",
       "      <td>NaN</td>\n",
       "      <td>1</td>\n",
       "      <td>0</td>\n",
       "    </tr>\n",
       "    <tr>\n",
       "      <th>1958280</th>\n",
       "      <td>PD201901088154</td>\n",
       "      <td>2019-12-30 09:32:33</td>\n",
       "      <td>2.019093e+10</td>\n",
       "      <td>43</td>\n",
       "      <td>WANT OFFICER FOR INVESTIGATION / ASSISTA</td>\n",
       "      <td>P</td>\n",
       "      <td>PROGRESS</td>\n",
       "      <td>1</td>\n",
       "      <td>M.P.D. REPORT COMPLED</td>\n",
       "      <td>2200.0</td>\n",
       "      <td>...</td>\n",
       "      <td>611A</td>\n",
       "      <td>A</td>\n",
       "      <td>NaN</td>\n",
       "      <td>NaN</td>\n",
       "      <td>NaN</td>\n",
       "      <td>NaN</td>\n",
       "      <td>NaN</td>\n",
       "      <td>NaN</td>\n",
       "      <td>1</td>\n",
       "      <td>1</td>\n",
       "    </tr>\n",
       "    <tr>\n",
       "      <th>5330872</th>\n",
       "      <td>PD201600050230</td>\n",
       "      <td>2016-01-14 13:41:43</td>\n",
       "      <td>NaN</td>\n",
       "      <td>93</td>\n",
       "      <td>TRAFFIC VIOLATION</td>\n",
       "      <td>NaN</td>\n",
       "      <td>NaN</td>\n",
       "      <td>9T</td>\n",
       "      <td>NaN</td>\n",
       "      <td>NaN</td>\n",
       "      <td>...</td>\n",
       "      <td>2F13</td>\n",
       "      <td>A</td>\n",
       "      <td>E</td>\n",
       "      <td>221</td>\n",
       "      <td>1919.0</td>\n",
       "      <td>NaN</td>\n",
       "      <td>NaN</td>\n",
       "      <td>NaN</td>\n",
       "      <td>1</td>\n",
       "      <td>0</td>\n",
       "    </tr>\n",
       "    <tr>\n",
       "      <th>5190845</th>\n",
       "      <td>PD201501309401</td>\n",
       "      <td>2015-12-18 05:18:07</td>\n",
       "      <td>NaN</td>\n",
       "      <td>93</td>\n",
       "      <td>TRAFFIC VIOLATION</td>\n",
       "      <td>NaN</td>\n",
       "      <td>NaN</td>\n",
       "      <td>9T</td>\n",
       "      <td>NaN</td>\n",
       "      <td>NaN</td>\n",
       "      <td>...</td>\n",
       "      <td>412C</td>\n",
       "      <td>C</td>\n",
       "      <td>C</td>\n",
       "      <td>425</td>\n",
       "      <td>4029.0</td>\n",
       "      <td>NaN</td>\n",
       "      <td>NaN</td>\n",
       "      <td>NaN</td>\n",
       "      <td>1</td>\n",
       "      <td>0</td>\n",
       "    </tr>\n",
       "    <tr>\n",
       "      <th>1015439</th>\n",
       "      <td>PD201500024294</td>\n",
       "      <td>2015-01-07 17:15:41</td>\n",
       "      <td>NaN</td>\n",
       "      <td>93</td>\n",
       "      <td>TRAFFIC VIOLATION</td>\n",
       "      <td>NaN</td>\n",
       "      <td>NaN</td>\n",
       "      <td>9T</td>\n",
       "      <td>NaN</td>\n",
       "      <td>2600.0</td>\n",
       "      <td>...</td>\n",
       "      <td>214B</td>\n",
       "      <td>B</td>\n",
       "      <td>NaN</td>\n",
       "      <td>214U</td>\n",
       "      <td>0.0</td>\n",
       "      <td>36.197</td>\n",
       "      <td>-86.742</td>\n",
       "      <td>POINT (-86.742 36.197)</td>\n",
       "      <td>1</td>\n",
       "      <td>0</td>\n",
       "    </tr>\n",
       "    <tr>\n",
       "      <th>5494682</th>\n",
       "      <td>PD201800403869</td>\n",
       "      <td>2018-04-20 17:05:18</td>\n",
       "      <td>NaN</td>\n",
       "      <td>71</td>\n",
       "      <td>BURGLARY - NON-RESIDENCE</td>\n",
       "      <td>A</td>\n",
       "      <td>ALARM</td>\n",
       "      <td>12</td>\n",
       "      <td>LOCATION/BUILDING SECURE</td>\n",
       "      <td>NaN</td>\n",
       "      <td>...</td>\n",
       "      <td>823B</td>\n",
       "      <td>B</td>\n",
       "      <td>MT</td>\n",
       "      <td>817</td>\n",
       "      <td>6957.0</td>\n",
       "      <td>NaN</td>\n",
       "      <td>NaN</td>\n",
       "      <td>NaN</td>\n",
       "      <td>1</td>\n",
       "      <td>0</td>\n",
       "    </tr>\n",
       "    <tr>\n",
       "      <th>5482143</th>\n",
       "      <td>PD201600155728</td>\n",
       "      <td>2016-02-11 19:56:38</td>\n",
       "      <td>NaN</td>\n",
       "      <td>40</td>\n",
       "      <td>SUSPICIOUS PERSON</td>\n",
       "      <td>P</td>\n",
       "      <td>PROGRESS</td>\n",
       "      <td>5</td>\n",
       "      <td>GONE ON ARRIVAL</td>\n",
       "      <td>NaN</td>\n",
       "      <td>...</td>\n",
       "      <td>515B</td>\n",
       "      <td>B</td>\n",
       "      <td>H</td>\n",
       "      <td>515</td>\n",
       "      <td>9207.0</td>\n",
       "      <td>NaN</td>\n",
       "      <td>NaN</td>\n",
       "      <td>NaN</td>\n",
       "      <td>1</td>\n",
       "      <td>0</td>\n",
       "    </tr>\n",
       "  </tbody>\n",
       "</table>\n",
       "<p>20 rows × 21 columns</p>\n",
       "</div>"
      ],
      "text/plain": [
       "           Event Number       Call Received  Complaint Number  Tencode  \\\n",
       "5797724  PD201601214292 2016-12-01 16:51:05               NaN       88   \n",
       "6541170  PD202100376271 2021-06-10 21:08:23               NaN       43   \n",
       "827216   PD201600371223 2016-04-10 20:40:50               NaN       93   \n",
       "503265   PD201900487756 2019-06-03 10:42:15      2.019042e+10       71   \n",
       "4525988  PD202000445523 2020-06-05 00:59:52               NaN       83   \n",
       "5769934  PD201800981510 2018-10-06 21:03:00               NaN       87   \n",
       "2849480  PD202000664776 2020-09-04 20:03:21               NaN       43   \n",
       "1010424  PD202000061960 2020-01-23 07:48:02      2.020005e+10       44   \n",
       "4775143  PD201800555264 2018-06-03 17:17:59               NaN       93   \n",
       "5435890  PD201501232246 2015-11-26 16:23:20               NaN       93   \n",
       "3102685  PD201900370186 2019-04-26 10:28:01      2.019031e+10       57   \n",
       "6226479  PD202000927420 2020-12-28 15:26:32               NaN       49   \n",
       "6396955  PD202100063177 2021-01-28 18:17:39      2.021005e+10       50   \n",
       "4008377  PD201700417300 2017-04-25 14:15:19               NaN       96   \n",
       "1958280  PD201901088154 2019-12-30 09:32:33      2.019093e+10       43   \n",
       "5330872  PD201600050230 2016-01-14 13:41:43               NaN       93   \n",
       "5190845  PD201501309401 2015-12-18 05:18:07               NaN       93   \n",
       "1015439  PD201500024294 2015-01-07 17:15:41               NaN       93   \n",
       "5494682  PD201800403869 2018-04-20 17:05:18               NaN       71   \n",
       "5482143  PD201600155728 2016-02-11 19:56:38               NaN       40   \n",
       "\n",
       "                              Tencode Description Tencode Suffix  \\\n",
       "5797724              INVESTIGATE 911 HANG-UP CALL             PW   \n",
       "6541170  WANT OFFICER FOR INVESTIGATION / ASSISTA             PV   \n",
       "827216                          TRAFFIC VIOLATION            NaN   \n",
       "503265                   BURGLARY - NON-RESIDENCE              R   \n",
       "4525988                               SHOTS FIRED              P   \n",
       "5769934                             SAFETY HAZARD              W   \n",
       "2849480  WANT OFFICER FOR INVESTIGATION / ASSISTA              P   \n",
       "1010424                         DISORDERLY PERSON              R   \n",
       "4775143                         TRAFFIC VIOLATION            NaN   \n",
       "5435890                         TRAFFIC VIOLATION            NaN   \n",
       "3102685                           FIGHT / ASSAULT              R   \n",
       "6226479             VEHICLE BLOCKING RIGHT OF WAY              P   \n",
       "6396955                                     THEFT             RT   \n",
       "4008377                            BUSINESS CHECK            NaN   \n",
       "1958280  WANT OFFICER FOR INVESTIGATION / ASSISTA              P   \n",
       "5330872                         TRAFFIC VIOLATION            NaN   \n",
       "5190845                         TRAFFIC VIOLATION            NaN   \n",
       "1015439                         TRAFFIC VIOLATION            NaN   \n",
       "5494682                  BURGLARY - NON-RESIDENCE              A   \n",
       "5482143                         SUSPICIOUS PERSON              P   \n",
       "\n",
       "        Tencode Suffix Description Disposition Code   Disposition Description  \\\n",
       "5797724                        NaN                5           GONE ON ARRIVAL   \n",
       "6541170                        NaN                5           GONE ON ARRIVAL   \n",
       "827216                         NaN               9T                       NaN   \n",
       "503265                      REPORT                1     M.P.D. REPORT COMPLED   \n",
       "4525988                   PROGRESS               11      DISREGARD / SIGNAL 9   \n",
       "5769934  WARRANT ASSISTANCE ESCORT                6       ASSISTED OTHER UNIT   \n",
       "2849480                   PROGRESS               11      DISREGARD / SIGNAL 9   \n",
       "1010424                     REPORT                1     M.P.D. REPORT COMPLED   \n",
       "4775143                        NaN               9T                       NaN   \n",
       "5435890                        NaN               9T                       NaN   \n",
       "3102685                     REPORT                1     M.P.D. REPORT COMPLED   \n",
       "6226479                   PROGRESS               5S                       NaN   \n",
       "6396955                        NaN                1     M.P.D. REPORT COMPLED   \n",
       "4008377                        NaN               12  LOCATION/BUILDING SECURE   \n",
       "1958280                   PROGRESS                1     M.P.D. REPORT COMPLED   \n",
       "5330872                        NaN               9T                       NaN   \n",
       "5190845                        NaN               9T                       NaN   \n",
       "1015439                        NaN               9T                       NaN   \n",
       "5494682                      ALARM               12  LOCATION/BUILDING SECURE   \n",
       "5482143                   PROGRESS                5           GONE ON ARRIVAL   \n",
       "\n",
       "          Block  ... Unit Dispatched Shift Sector   Zone     RPA  Latitude  \\\n",
       "5797724     NaN  ...            322B     B      S  327.0  8861.0       NaN   \n",
       "6541170     NaN  ...            5P66     B      H  535.0  8937.0       NaN   \n",
       "827216      NaN  ...            332B     B    335    NaN  8721.0    36.045   \n",
       "503265      NaN  ...            811A     A    NaN    NaN     NaN       NaN   \n",
       "4525988     NaN  ...             NaN     C      S    321  8445.0       NaN   \n",
       "5769934     NaN  ...            317B     B      S  331.0  8719.0       NaN   \n",
       "2849480     NaN  ...            2940     B      C    413  1101.0       NaN   \n",
       "1010424     NaN  ...            311A     A    NaN    NaN     NaN       NaN   \n",
       "4775143     NaN  ...            125B     B      W  125.0  4811.0       NaN   \n",
       "5435890     NaN  ...            317B     B      S    311  8159.0       NaN   \n",
       "3102685     NaN  ...            533A     A    NaN    NaN     NaN       NaN   \n",
       "6226479     NaN  ...            5133     B     MT  827.0  8653.0       NaN   \n",
       "6396955     NaN  ...            TE23     B    NaN    NaN     NaN       NaN   \n",
       "4008377     NaN  ...            4B46     A      C    411  4123.0       NaN   \n",
       "1958280  2200.0  ...            611A     A    NaN    NaN     NaN       NaN   \n",
       "5330872     NaN  ...            2F13     A      E    221  1919.0       NaN   \n",
       "5190845     NaN  ...            412C     C      C    425  4029.0       NaN   \n",
       "1015439  2600.0  ...            214B     B    NaN   214U     0.0    36.197   \n",
       "5494682     NaN  ...            823B     B     MT    817  6957.0       NaN   \n",
       "5482143     NaN  ...            515B     B      H    515  9207.0       NaN   \n",
       "\n",
       "         Longitude         Mapped Location generated_incident  \\\n",
       "5797724        NaN                     NaN                  1   \n",
       "6541170        NaN                     NaN                  1   \n",
       "827216     -86.662  POINT (-86.662 36.045)                  1   \n",
       "503265         NaN                     NaN                  1   \n",
       "4525988        NaN                     NaN                  1   \n",
       "5769934        NaN                     NaN                  1   \n",
       "2849480        NaN                     NaN                  1   \n",
       "1010424        NaN                     NaN                  1   \n",
       "4775143        NaN                     NaN                  1   \n",
       "5435890        NaN                     NaN                  1   \n",
       "3102685        NaN                     NaN                  1   \n",
       "6226479        NaN                     NaN                  1   \n",
       "6396955        NaN                     NaN                  1   \n",
       "4008377        NaN                     NaN                  1   \n",
       "1958280        NaN                     NaN                  1   \n",
       "5330872        NaN                     NaN                  1   \n",
       "5190845        NaN                     NaN                  1   \n",
       "1015439    -86.742  POINT (-86.742 36.197)                  1   \n",
       "5494682        NaN                     NaN                  1   \n",
       "5482143        NaN                     NaN                  1   \n",
       "\n",
       "         generated_incident_yn  \n",
       "5797724                      0  \n",
       "6541170                      0  \n",
       "827216                       0  \n",
       "503265                       1  \n",
       "4525988                      0  \n",
       "5769934                      0  \n",
       "2849480                      0  \n",
       "1010424                      1  \n",
       "4775143                      0  \n",
       "5435890                      0  \n",
       "3102685                      1  \n",
       "6226479                      0  \n",
       "6396955                      1  \n",
       "4008377                      0  \n",
       "1958280                      1  \n",
       "5330872                      0  \n",
       "5190845                      0  \n",
       "1015439                      0  \n",
       "5494682                      0  \n",
       "5482143                      0  \n",
       "\n",
       "[20 rows x 21 columns]"
      ]
     },
     "execution_count": 67,
     "metadata": {},
     "output_type": "execute_result"
    }
   ],
   "source": [
    "samp_df[samp_df['Tencode Description'].notna()].head(20)"
   ]
  },
  {
   "cell_type": "code",
   "execution_count": 68,
   "id": "a6a32ce3-bd30-4d58-9d6a-69ed852181d5",
   "metadata": {},
   "outputs": [],
   "source": [
    "samp_df = samp_df.drop('Tencode Description', axis=1)"
   ]
  },
  {
   "cell_type": "markdown",
   "id": "9dbe3228-c4a2-4931-b576-745d0277d478",
   "metadata": {
    "jp-MarkdownHeadingCollapsed": true,
    "tags": []
   },
   "source": [
    "#### 'Tencode Suffix'"
   ]
  },
  {
   "cell_type": "markdown",
   "id": "567764bc-5ccc-450d-a03e-1ff151e1e9c3",
   "metadata": {},
   "source": [
    "* Like the tencode column, this is high-cardinality, though these are strings instead of numeric values"
   ]
  },
  {
   "cell_type": "code",
   "execution_count": 82,
   "id": "bb8c8c5c-804e-46ec-91e6-6f36f0bc8b48",
   "metadata": {},
   "outputs": [
    {
     "data": {
      "text/plain": [
       "str"
      ]
     },
     "execution_count": 82,
     "metadata": {},
     "output_type": "execute_result"
    }
   ],
   "source": [
    "type(samp_df['Tencode Suffix'][5797724])"
   ]
  },
  {
   "cell_type": "code",
   "execution_count": 103,
   "id": "295b38b8-77fc-431f-8b60-1d6601001546",
   "metadata": {},
   "outputs": [
    {
     "data": {
      "text/plain": [
       "P     26379\n",
       "A      3823\n",
       "R      3130\n",
       "PV     1144\n",
       "TS      869\n",
       "PM      856\n",
       "PW      743\n",
       "PJ      649\n",
       "RT      614\n",
       "TV      586\n",
       "RV      346\n",
       "RJ      177\n",
       "RC      169\n",
       "W       134\n",
       "L        98\n",
       "T        44\n",
       "PD       30\n",
       "H        28\n",
       "F        20\n",
       "B        12\n",
       "RD        9\n",
       "PR        8\n",
       "FI        4\n",
       "S         3\n",
       "RG        1\n",
       "Name: Tencode Suffix, dtype: int64"
      ]
     },
     "execution_count": 103,
     "metadata": {},
     "output_type": "execute_result"
    }
   ],
   "source": [
    "samp_df['Tencode Suffix'].value_counts()"
   ]
  },
  {
   "cell_type": "markdown",
   "id": "575a6269-92d7-41df-8b5b-c82738c6df9c",
   "metadata": {
    "jp-MarkdownHeadingCollapsed": true,
    "tags": []
   },
   "source": [
    "#### 'Tencode Suffix Description'"
   ]
  },
  {
   "cell_type": "markdown",
   "id": "f57573e0-d0ff-46ef-be95-e229d4d07641",
   "metadata": {},
   "source": [
    "* This one is like the tencode description, a string which is unneeded. I'll drop the column."
   ]
  },
  {
   "cell_type": "code",
   "execution_count": 69,
   "id": "107e92a5-8dbf-4939-9d34-bb82731cac2b",
   "metadata": {},
   "outputs": [],
   "source": [
    "samp_df = samp_df.drop('Tencode Suffix Description', axis=1)"
   ]
  },
  {
   "cell_type": "markdown",
   "id": "eb48d84d-f9db-423d-95d3-ba85456b9838",
   "metadata": {},
   "source": [
    "#### 'Disposition Code'"
   ]
  },
  {
   "cell_type": "markdown",
   "id": "54500ce7-1af8-45b9-a3b5-cf4f0e1e4794",
   "metadata": {},
   "source": [
    "* Interestingly, it would appear that tencode suffixes are often appended to the disposition code instead of the tencode. That'll be fun to clean up!"
   ]
  },
  {
   "cell_type": "code",
   "execution_count": 107,
   "id": "effa7473-ec07-4c8f-8ae9-97dd7b5f2bb0",
   "metadata": {},
   "outputs": [],
   "source": [
    "pd.set_option(\"display.max_rows\", 100)"
   ]
  },
  {
   "cell_type": "code",
   "execution_count": 108,
   "id": "9f9b03c0-5307-4a04-a556-7a3228d340ef",
   "metadata": {},
   "outputs": [
    {
     "data": {
      "text/plain": [
       "12     9374\n",
       "4      8991\n",
       "11     7710\n",
       "9T     7561\n",
       "15     7038\n",
       "6      4862\n",
       "1      4631\n",
       "5      3459\n",
       "9      2113\n",
       "10     1322\n",
       "3T     1211\n",
       "1T      776\n",
       "3       644\n",
       "3M      641\n",
       "13      611\n",
       "9S      590\n",
       "5W      396\n",
       "4C      372\n",
       "6T      300\n",
       "1C      246\n",
       "2       228\n",
       "2W      216\n",
       "6W      210\n",
       "14      206\n",
       "5S      174\n",
       "12A     171\n",
       "8       144\n",
       "2M      142\n",
       "4T      111\n",
       "1S       85\n",
       "13A      84\n",
       "2T       80\n",
       "6A       79\n",
       "3R       49\n",
       "2J       47\n",
       "6C       47\n",
       "5C       47\n",
       "7        47\n",
       "4A       42\n",
       "2F       35\n",
       "4V       31\n",
       "5T       27\n",
       "9R       27\n",
       "6S       27\n",
       "1J       26\n",
       "16       24\n",
       "7A       23\n",
       "3J       16\n",
       "6D       14\n",
       "4S       12\n",
       "6M       11\n",
       "10A      10\n",
       "5J       10\n",
       "1D       10\n",
       "6J        9\n",
       "4J        9\n",
       "9J        8\n",
       "2P        4\n",
       "2D        4\n",
       "5V        4\n",
       "10C       3\n",
       "9C        3\n",
       "11A       3\n",
       "6V        2\n",
       "1P        2\n",
       "9V        2\n",
       "1M        2\n",
       "6F        2\n",
       "7C        2\n",
       "1F        2\n",
       "8J        1\n",
       "7V        1\n",
       "1R        1\n",
       "1A        1\n",
       "6P        1\n",
       "3A        1\n",
       "Name: Disposition Code, dtype: int64"
      ]
     },
     "execution_count": 108,
     "metadata": {},
     "output_type": "execute_result"
    }
   ],
   "source": [
    "samp_df['Disposition Code'].value_counts()"
   ]
  },
  {
   "cell_type": "code",
   "execution_count": 105,
   "id": "52b60709-1cd3-4c64-8fc9-103c8824fd88",
   "metadata": {},
   "outputs": [],
   "source": [
    "pd.reset_option(\"display.max_rows\")"
   ]
  },
  {
   "cell_type": "code",
   "execution_count": 123,
   "id": "ddd2d16b-523e-4d8c-a6c8-3a91560a1fe9",
   "metadata": {},
   "outputs": [
    {
     "data": {
      "text/plain": [
       "False    64293\n",
       "True      1134\n",
       "Name: Disposition Code, dtype: int64"
      ]
     },
     "execution_count": 123,
     "metadata": {},
     "output_type": "execute_result"
    }
   ],
   "source": [
    "samp_df['Disposition Code'].str.contains('A|C', case=False, regex=True).value_counts()"
   ]
  },
  {
   "cell_type": "code",
   "execution_count": null,
   "id": "703a9894-0a7e-4c9b-9756-fc2ca997493e",
   "metadata": {
    "tags": []
   },
   "outputs": [],
   "source": [
    "def disposition_code_clean"
   ]
  },
  {
   "cell_type": "markdown",
   "id": "a52a3e78-5da5-44af-bbd0-9a6cad9eb922",
   "metadata": {},
   "source": [
    "#### 'Disposition Description'"
   ]
  },
  {
   "cell_type": "markdown",
   "id": "1c562b50-50ba-4961-93f2-d30c7d518763",
   "metadata": {},
   "source": [
    "#### 'Block'"
   ]
  },
  {
   "cell_type": "markdown",
   "id": "c35fd591-de17-4357-9524-6f239e52aa58",
   "metadata": {},
   "source": [
    "#### 'Street Name'"
   ]
  },
  {
   "cell_type": "markdown",
   "id": "83f60a8f-bf92-40cc-940a-868a6cdc7ad7",
   "metadata": {},
   "source": [
    "#### 'Unit Dispatched'"
   ]
  },
  {
   "cell_type": "markdown",
   "id": "0e4f3b36-688d-458e-8e19-a409f135b143",
   "metadata": {},
   "source": [
    "#### 'Shift'"
   ]
  },
  {
   "cell_type": "markdown",
   "id": "bb447645-2292-42a6-b5aa-c9d59e2837c3",
   "metadata": {},
   "source": [
    "#### 'Sector'"
   ]
  },
  {
   "cell_type": "markdown",
   "id": "08f9b695-efcf-4c21-9bb0-3c60a60bfd37",
   "metadata": {},
   "source": [
    "#### 'Zone'"
   ]
  },
  {
   "cell_type": "markdown",
   "id": "842b2c1a-1fde-40b9-b406-aa4005aee06b",
   "metadata": {},
   "source": [
    "#### 'RPA'"
   ]
  },
  {
   "cell_type": "markdown",
   "id": "7ad9b18e-9347-4268-b038-8dccb42dbd89",
   "metadata": {},
   "source": [
    "#### 'Latitude'"
   ]
  },
  {
   "cell_type": "markdown",
   "id": "71934f5f-97aa-43df-88de-61325ce6c945",
   "metadata": {},
   "source": [
    "#### 'Longitude'"
   ]
  },
  {
   "cell_type": "markdown",
   "id": "bcea113f-9009-42d1-9bfa-a734430263f7",
   "metadata": {},
   "source": [
    "#### 'Mapped Location'"
   ]
  },
  {
   "cell_type": "markdown",
   "id": "296f6456-385d-49fb-a23f-f3e001a37ab2",
   "metadata": {},
   "source": [
    "## EDA"
   ]
  },
  {
   "cell_type": "code",
   "execution_count": null,
   "id": "a3d5b074-88cd-40ee-b49a-52e6d57ac56d",
   "metadata": {},
   "outputs": [],
   "source": [
    "main_df.columns"
   ]
  },
  {
   "cell_type": "code",
   "execution_count": null,
   "id": "de268683-c1ce-4d52-adc9-95a74ea8155a",
   "metadata": {},
   "outputs": [],
   "source": [
    "main_df.dtypes"
   ]
  },
  {
   "cell_type": "code",
   "execution_count": null,
   "id": "49a1e6f0-b968-4a75-a805-9c7be85ef557",
   "metadata": {},
   "outputs": [],
   "source": [
    "for col in cols:\n",
    "    print(f'Column name: {col}')\n",
    "    print(main_df[col].head(10))\n",
    "    print('\\n*******\\n')"
   ]
  },
  {
   "cell_type": "markdown",
   "id": "3425c7b1-3763-4fdb-bed4-a8dd82f6e259",
   "metadata": {},
   "source": []
  }
 ],
 "metadata": {
  "kernelspec": {
   "display_name": "Python 3",
   "language": "python",
   "name": "python3"
  },
  "language_info": {
   "codemirror_mode": {
    "name": "ipython",
    "version": 3
   },
   "file_extension": ".py",
   "mimetype": "text/x-python",
   "name": "python",
   "nbconvert_exporter": "python",
   "pygments_lexer": "ipython3",
   "version": "3.9.7"
  }
 },
 "nbformat": 4,
 "nbformat_minor": 5
}
